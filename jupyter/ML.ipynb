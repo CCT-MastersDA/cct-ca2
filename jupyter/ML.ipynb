{
 "cells": [
  {
   "cell_type": "markdown",
   "id": "888c77ff-fbc1-4f94-8620-9628d1222b70",
   "metadata": {},
   "source": [
    "# CA2 - ML on Agriculture in Ireland and EU"
   ]
  },
  {
   "cell_type": "markdown",
   "id": "400f1e7e-e1b6-40f6-bbd1-0d0a65897e9c",
   "metadata": {},
   "source": [
    "## Overview\n",
    "\n",
    "Sentiment analysis on data x\n",
    "\n",
    "2 ML models on data y\n",
    "\n",
    "..."
   ]
  },
  {
   "cell_type": "markdown",
   "id": "87cab9fe-ef9f-446e-aa37-ee75a8272cda",
   "metadata": {},
   "source": [
    "## Auxiliary Functions\n",
    "\n",
    "In this section, the auxiliary functions used in this notebook were implemented.\n",
    "\n",
    "<b>Requirements:</b>\n",
    "\n",
    "* Instructions to perform the sentiment analysis:\n",
    "\n",
    "    - NLTK library should be installed\n",
    "\n",
    "\n",
    "* Instructions to use the Twitter API:\n",
    "\n",
    "    - There should exist a file called .twitter_env in the machine's home directory with the following keys:\n",
    "\n",
    "        ```\n",
    "        API_KEY=***\n",
    "        API_KEY_SECRET=***\n",
    "        BEARER_TOKEN=***\n",
    "        ```"
   ]
  },
  {
   "cell_type": "code",
   "execution_count": 22,
   "id": "308f0109-a00f-49d7-bfcf-89def999326a",
   "metadata": {
    "tags": []
   },
   "outputs": [],
   "source": [
    "# !pip install punkt\n",
    "# !pip install python-dotenv\n",
    "# import nltk\n",
    "# nltk.download()\n",
    "from dotenv import dotenv_values\n",
    "from pathlib import Path\n",
    "from os import listdir\n",
    "import os\n",
    "import re\n",
    "import json\n",
    "import string\n",
    "import logging\n",
    "import warnings\n",
    "import requests\n",
    "import pandas as pd\n",
    "\n",
    "from nltk.corpus import stopwords\n",
    "from nltk.tokenize import word_tokenize\n",
    "from nltk.stem import PorterStemmer\n",
    "from nltk.stem import WordNetLemmatizer\n",
    "\n",
    "# ignore warnings\n",
    "warnings.filterwarnings('ignore')\n",
    "\n",
    "# use a logger to help debugging\n",
    "logger = logging.getLogger('mylogger')\n",
    "# set logger level\n",
    "logger.setLevel(logging.ERROR)\n",
    "\n",
    "# path to the current directory\n",
    "CURR_PATH = os.path.abspath(os.getcwd())\n",
    "# path to the users directory\n",
    "HOME_DIR = str(Path.home())\n",
    "# path to dataset dir\n",
    "DATASET_DIR = os.path.join(CURR_PATH, 'datasets')\n",
    "# twitter env file\n",
    "TWITTER_ENV_FILE = '.twitter_env'\n",
    "# twitter recent search api url\n",
    "TWITTER_API_SEARCH_URL = 'https://api.twitter.com/2/tweets/search/recent'\n",
    "\n",
    "def getEnvObj():\n",
    "    env_path = os.path.join(HOME_DIR, TWITTER_ENV_FILE)\n",
    "\n",
    "    if not os.path.exists(env_path):\n",
    "        logger.error(F'Unable to read the environment file. Make sure a { TWITTER_ENV_FILE } file exists in your home directory.')\n",
    "        return None\n",
    "\n",
    "    return dotenv_values(env_path)\n",
    "\n",
    "def createTwitterConfigFile():\n",
    "    config = getEnvObj()\n",
    "\n",
    "    if config is None:\n",
    "        logger.error(\"Unable to set Twitter's config file.\")\n",
    "        return False\n",
    "\n",
    "    twitter_keys = f'''keys:\n",
    "    access_token: {config[\"API_KEY\"]}\n",
    "    access_token_secret: {config[\"API_KEY_SECRET\"]}\n",
    "    bearer_token: {config[\"BEARER_TOKEN\"]}\n",
    "    '''\n",
    "    keys_path = os.path.join(HOME_DIR, '.twitter-keys.yaml') \n",
    "    with open(keys_path, 'w+') as file:\n",
    "        file.write(twitter_keys)\n",
    "    logger.info(f\"Twitter keys file '{ keys_path }' updated!\")\n",
    "\n",
    "    return True\n",
    "\n",
    "def bearerAuth(r):\n",
    "    \"\"\"\n",
    "    Method required by bearer token authentication.\n",
    "    \"\"\"\n",
    "    config = getEnvObj()\n",
    "    \n",
    "    if config is None:\n",
    "        raise Exception('Unable to create Bearer authorization object.')\n",
    "\n",
    "    r.headers['Authorization'] = f\"Bearer { config['BEARER_TOKEN'] }\"\n",
    "    r.headers['User-Agent'] = 'v2RecentSearchPython'\n",
    "\n",
    "    return r\n",
    "\n",
    "def connectToEndpoint(url, params_dict={}):\n",
    "    response = requests.get(url, auth=bearerAuth, params=params_dict)\n",
    "\n",
    "    if response is None:\n",
    "        raise Exception('Invalid response.')\n",
    "\n",
    "    logger.info(response.status_code)\n",
    "\n",
    "    if response.status_code != 200:\n",
    "        raise Exception(response.status_code, response.text)\n",
    "\n",
    "    return response.json()\n",
    "\n",
    "def getRecentTweets(params={}, outfile=''):\n",
    "    # querying the API\n",
    "    json_response = connectToEndpoint(TWITTER_API_SEARCH_URL, params)\n",
    "  \n",
    "    # save json to file if not empty\n",
    "    saveJsonToFile(json_response, outfile)\n",
    "    \n",
    "    print(f\"{ len(json_response['data']) } tweets retrieved!\")\n",
    "\n",
    "    return json_response\n",
    "\n",
    "def saveJsonToFile(json_data, outfile):\n",
    "    if len(outfile) == 0:\n",
    "        logger.warning('Output filename is empty!')\n",
    "        return\n",
    "\n",
    "    with open(outfile, 'w', encoding='utf-8') as f:\n",
    "        json.dump(json_data, f, ensure_ascii=False, indent=4)\n",
    "\n",
    "def convertJsonToString(json_obj):\n",
    "    return json.dumps(json_obj, indent=4, sort_keys=True, ensure_ascii=False)\n",
    "\n",
    "def preProcessText(text, apply_stemmer=False, apply_lemmatizer=False):   \n",
    "    filtered_words = getTokens(text)\n",
    "\n",
    "    if apply_stemmer:\n",
    "        filtered_words = applyStemmer(filtered_words)\n",
    "\n",
    "    if apply_lemmatizer:\n",
    "        filtered_words = applyLemmatizer(filtered_words)\n",
    "\n",
    "    return \" \".join(filtered_words)\n",
    "\n",
    "def getTokens(text):\n",
    "    return removeStopWords(cleanText(text))\n",
    "\n",
    "def cleanText(text):\n",
    "    # convert to lower case\n",
    "    text = text.lower()\n",
    "    # remove urls\n",
    "    text = re.sub(r\"http\\S+|www\\S+|https\\S+\", '', text, flags=re.MULTILINE)\n",
    "    # remove user @ references and '#' from text\n",
    "    text = re.sub(r'\\@\\w+|\\#','', text)\n",
    "    # removing special chars\n",
    "    text = re.sub('[^a-zA-Z]', ' ', text)\n",
    "    # remove punctuations\n",
    "    text = text.translate(str.maketrans('', '', string.punctuation))\n",
    "    return text\n",
    "\n",
    "def removeStopWords(text):\n",
    "    # convert text into tokes\n",
    "    text_tokens = word_tokenize(text)\n",
    "    # remove stop words\n",
    "    stop_words = set(stopwords.words('english'))\n",
    "    filtered_words = [w for w in text_tokens if not w in stop_words]\n",
    "    return filtered_words\n",
    "    \n",
    "def applyStemmer(tokens=[]):\n",
    "    ps = PorterStemmer()\n",
    "    stemmed_words = [ps.stem(w) for w in tokens]\n",
    "    return stemmed_words\n",
    "\n",
    "def applyLemmatizer(tokens=[]):\n",
    "    lemmatizer = WordNetLemmatizer()\n",
    "    lemma_words = [lemmatizer.lemmatize(w, pos='a') for w in tokens]\n",
    "    return lemma_words\n",
    "    "
   ]
  },
  {
   "cell_type": "markdown",
   "id": "8eea23a9-dfcb-4858-91ba-b86d5ee575ec",
   "metadata": {},
   "source": [
    "## Sentiment Analysis\n",
    "\n",
    "In this section, the Twitter API was used to collect tweets from the last few days that will be used for the sentiment analysis.\n",
    "\n",
    "The purpose of this search was to find tweets about inflation or food price, which relate to the agriculture topic.\n",
    "\n",
    "However, there is a limitation in the quality of data being collected as the query API feature performs a search by token which can result in tweets about any topic."
   ]
  },
  {
   "cell_type": "markdown",
   "id": "1afcb3c1-e5ce-48c4-83da-8ab61647e81e",
   "metadata": {},
   "source": [
    "### Data Preparation"
   ]
  },
  {
   "cell_type": "code",
   "execution_count": 3,
   "id": "043b43c0-c2e2-43ed-9546-c374589a938f",
   "metadata": {},
   "outputs": [
    {
     "name": "stdout",
     "output_type": "stream",
     "text": [
      "100 tweets retrieved!\n"
     ]
    }
   ],
   "source": [
    "query_params = {\n",
    "    'query' : '(inflation OR \"food price\" OR \"agriculture\") Europe -is:retweet -has:media lang:en',\n",
    "    'tweet.fields': 'author_id', \n",
    "    'user.fields': 'name',\n",
    "    \"max_results\":\"100\",\n",
    "}\n",
    "\n",
    "data = getRecentTweets(query_params, os.path.join(DATASET_DIR, 'twitter_data.json'))"
   ]
  },
  {
   "cell_type": "code",
   "execution_count": 16,
   "id": "49783c76-5934-4148-8bb7-ce82ecac2b7f",
   "metadata": {},
   "outputs": [
    {
     "data": {
      "text/plain": [
       "tweet    100\n",
       "dtype: int64"
      ]
     },
     "execution_count": 16,
     "metadata": {},
     "output_type": "execute_result"
    }
   ],
   "source": [
    "# store tweets in a data frame\n",
    "tweets = [d['text'] for d in data['data']]\n",
    "tweets_df = pd.DataFrame(tweets, columns=['tweet'])\n",
    "tweets_df.count()"
   ]
  },
  {
   "cell_type": "code",
   "execution_count": null,
   "id": "c410e326-7c6a-4ef8-961b-ed10e398c1fc",
   "metadata": {},
   "outputs": [],
   "source": [
    "proc_tweets = []\n",
    "for i in range(0, len(tweets_df)):\n",
    "    proc = preProcessText(tweets_df.loc[i].tweet, apply_lemmatizer=True)\n",
    "    proc_tweets.append(proc)\n",
    "proc_tweets"
   ]
  },
  {
   "cell_type": "code",
   "execution_count": 31,
   "id": "1fc6b1d4-6d17-4423-b283-44bc71418a66",
   "metadata": {},
   "outputs": [
    {
     "name": "stdout",
     "output_type": "stream",
     "text": [
      "<FreqDist with 942 samples and 1805 outcomes>\n"
     ]
    }
   ],
   "source": [
    "from nltk.probability import FreqDist\n",
    "\n",
    "tokens_lst = []\n",
    "for i in range(0, len(tweets_df)):\n",
    "    text = tweets_df.loc[i].tweet\n",
    "    tokens_lst+=getTokens(text)\n",
    "fdist = FreqDist(tokens_lst)\n",
    "\n",
    "# Display the frequency distribution\n",
    "print(fdist)"
   ]
  },
  {
   "cell_type": "code",
   "execution_count": 33,
   "id": "cf0fe570-d12e-42d4-bdd0-a45a96c0b86d",
   "metadata": {},
   "outputs": [
    {
     "data": {
      "image/png": "[encoded data removed]",
      "text/plain": [
       "<Figure size 432x288 with 1 Axes>"
      ]
     },
     "metadata": {
      "needs_background": "light"
     },
     "output_type": "display_data"
    }
   ],
   "source": [
    "import matplotlib.pyplot as plt\n",
    "\n",
    "fdist.plot(30, cumulative = False)\n",
    "plt.show()"
   ]
  },
  {
   "cell_type": "code",
   "execution_count": null,
   "id": "5ef5bf7f-e086-4a7c-a171-94c134f5fe7e",
   "metadata": {},
   "outputs": [],
   "source": [
    "from sklearn.feature_extraction.text import CountVectorizer\n",
    "\n",
    "# Instantiate an object cv by calling a method named as CountVectorzer()\n",
    "cv = CountVectorizer(max_features = 5000, stop_words = ['virginamerica', 'unit'])\n",
    "\n",
    "# Train the dataset by calling a fit_transform() method\n",
    "X_fin = cv.fit_transform(cleaned_data).toarray()\n",
    "\n",
    "# Display the rows and colums\n",
    "X_fin.shape"
   ]
  },
  {
   "cell_type": "code",
   "execution_count": 19,
   "id": "cb50d826-55f8-4fba-ad7d-00023f3855db",
   "metadata": {},
   "outputs": [
    {
     "name": "stdout",
     "output_type": "stream",
     "text": [
      "['abandoned', 'abating', 'abrahamaccords', 'absoluetly', 'abundance', 'acchedin', 'according', 'accurate', 'accuses', 'across', 'adaptability', 'add', 'added', 'adhere', 'adjusted', 'adjustment', 'advanced', 'affecting', 'afghanistan', 'africa', 'agenda', 'aggressive', 'agree', 'agriculture', 'agtwitter', 'aid', 'airdropping', 'airports', 'aliens', 'alive', 'allow', 'ally', 'almost', 'alone', 'along', 'also', 'always', 'america', 'americans', 'amp', 'andalusia', 'announced', 'announces', 'annual', 'another', 'answer', 'anti', 'anything', 'anyway', 'anywhere', 'apc', 'apm', 'appears', 'applying', 'approach', 'area', 'areas', 'argentina', 'arguing', 'around', 'article', 'asia', 'aside', 'ask', 'asked', 'attempt', 'austerity', 'average', 'away', 'awesome', 'back', 'bad', 'badly', 'bank', 'banking', 'bankruptcies', 'banks', 'basically', 'bc', 'became', 'beef', 'begun', 'behind', 'believe', 'belligerent', 'besides', 'best', 'biden', 'bifurcated', 'big', 'billion', 'billions', 'bills', 'bit', 'bitch', 'bitcoin', 'bleed', 'blessings', 'bln', 'bloomberg', 'board', 'border', 'borders', 'borrow', 'borrowing', 'brazil', 'breaking', 'breaks', 'brexit', 'bridges', 'bring', 'bringing', 'britain', 'brought', 'brrrr', 'bs', 'bt', 'btc', 'build', 'building', 'burning', 'business', 'came', 'campaign', 'canada', 'capital', 'capped', 'caps', 'care', 'catastrophe', 'catching', 'cause', 'caused', 'causes', 'causing', 'central', 'chain', 'challenge', 'challenges', 'chance', 'change', 'chaos', 'charge', 'cheap', 'check', 'child', 'children', 'china', 'christmas', 'chyna', 'cited', 'cleared', 'climate', 'close', 'clown', 'clueless', 'coal', 'code', 'cold', 'comes', 'coming', 'common', 'community', 'conflict', 'conflicts', 'conservation', 'conservative', 'container', 'context', 'continues', 'contractors', 'contracts', 'controls', 'cool', 'cope', 'corruption', 'costofliving', 'costs', 'could', 'count', 'counting', 'countries', 'country', 'couple', 'course', 'cover', 'covid', 'create', 'crime', 'crisis', 'croatian', 'crook', 'currency', 'daily', 'data', 'day', 'dealing', 'dear', 'death', 'deaths', 'debt', 'decades', 'decreased', 'decree', 'defeat', 'definitely', 'degraded', 'deindustrialization', 'deliberately', 'delighted', 'delineation', 'delivered', 'demonstrating', 'depends', 'desperate', 'despite', 'destroy', 'destroying', 'devalue', 'devastate', 'developers', 'developing', 'dictates', 'difficult', 'dip', 'diplomatic', 'directly', 'disagree', 'disaster', 'discount', 'disinformation', 'doesnt', 'dollar', 'dollars', 'done', 'dont', 'doomed', 'downturn', 'drive', 'droughts', 'drug', 'dry', 'dude', 'due', 'dutch', 'early', 'ease', 'east', 'ecb', 'economic', 'economically', 'economy', 'economymonetary', 'edge', 'electric', 'electrical', 'electricity', 'else', 'elsewhere', 'employer', 'employment', 'empty', 'ending', 'enemy', 'energy', 'england', 'enjoy', 'enjoying', 'epic', 'esg', 'esp', 'especially', 'etc', 'ete', 'eu', 'euribor', 'euro', 'europe', 'european', 'europeans', 'europeanunion', 'europenews', 'euros', 'eurozone', 'even', 'event', 'ever', 'every', 'everybody', 'everyone', 'everything', 'exacerbate', 'example', 'except', 'existent', 'existential', 'expect', 'expected', 'explain', 'exports', 'exposed', 'extended', 'extreme', 'face', 'facilities', 'factor', 'fail', 'failure', 'faking', 'fallen', 'far', 'farmers', 'fast', 'faultlines', 'fear', 'feature', 'federation', 'fellow', 'felt', 'festive', 'fight', 'figures', 'find', 'fired', 'first', 'fish', 'fishing', 'five', 'fix', 'fixed', 'flexing', 'flooding', 'focus', 'food', 'fool', 'foreign', 'forming', 'forward', 'four', 'france', 'free', 'freeze', 'freezing', 'freight', 'fucking', 'fuel', 'full', 'fund', 'gas', 'general', 'generating', 'genius', 'german', 'germany', 'get', 'getting', 'given', 'gives', 'giving', 'glad', 'global', 'go', 'goes', 'going', 'good', 'gop', 'got', 'government', 'governments', 'govt', 'grandmothers', 'grater', 'great', 'green', 'grid', 'grow', 'gt', 'guess', 'guide', 'guy', 'guys', 'handled', 'happened', 'happy', 'hard', 'hardship', 'hardware', 'harvest', 'head', 'health', 'heating', 'hell', 'help', 'helping', 'hey', 'hi', 'high', 'highlights', 'hit', 'hitting', 'homeless', 'honestly', 'honey', 'honoring', 'hope', 'hormones', 'hospital', 'hour', 'house', 'housing', 'however', 'huge', 'hundreds', 'hurting', 'hypothetical', 'idea', 'idiotic', 'ie', 'ii', 'illegal', 'illegals', 'immense', 'immigrant', 'immigrants', 'immigration', 'impact', 'impeachmen', 'importation', 'imports', 'inc', 'incompetence', 'increase', 'increased', 'increases', 'increasingly', 'incredible', 'independent', 'india', 'indiscriminate', 'industry', 'ineptitude', 'inflation', 'info', 'infrastructure', 'inspite', 'instead', 'intelligent', 'internationalemploymentlaw', 'invaded', 'invoice', 'iran', 'issue', 'italy', 'japan', 'jeez', 'job', 'joe', 'jump', 'junta', 'keep', 'keeping', 'key', 'killed', 'kind', 'know', 'labour', 'large', 'largely', 'last', 'late', 'lately', 'lavish', 'leadership', 'leading', 'least', 'lebanon', 'left', 'less', 'let', 'level', 'levels', 'lie', 'life', 'lifetime', 'like', 'likely', 'lines', 'lists', 'little', 'lng', 'lockdowns', 'lol', 'long', 'look', 'looking', 'looks', 'lost', 'lot', 'love', 'low', 'lowering', 'lurks', 'maasvlakte', 'macron', 'made', 'madness', 'magnitude', 'major', 'make', 'makes', 'making', 'manager', 'manifest', 'many', 'market', 'markets', 'massive', 'materialize', 'max', 'may', 'maybe', 'meaning', 'meanwhile', 'measures', 'media', 'medium', 'merry', 'might', 'migrant', 'migrants', 'military', 'milk', 'million', 'mind', 'minded', 'mine', 'minimum', 'minister', 'misinformed', 'miss', 'mistaken', 'mm', 'mogg', 'mon', 'monetary', 'money', 'moneys', 'months', 'morning', 'moscow', 'mostly', 'much', 'murder', 'muscles', 'musicians', 'must', 'name', 'narcissism', 'narrative', 'natgas', 'nation', 'nations', 'nato', 'natural', 'naturalgas', 'ncba', 'nchez', 'needs', 'netherlands', 'neutral', 'never', 'new', 'newsotg', 'next', 'niches', 'nigel', 'nigeria', 'nobody', 'non', 'none', 'normal', 'north', 'note', 'nothing', 'nuke', 'numbers', 'obviously', 'occupied', 'offshoot', 'oil', 'ok', 'old', 'one', 'open', 'opening', 'opinion', 'opportunities', 'oranges', 'order', 'outperformed', 'outside', 'overseas', 'overspending', 'package', 'pain', 'painfully', 'pandemic', 'parking', 'participate', 'parts', 'past', 'pay', 'paying', 'pedrosanchez', 'people', 'per', 'percent', 'perfect', 'performing', 'persecuting', 'play', 'poland', 'polar', 'policies', 'polish', 'poor', 'pork', 'port', 'ports', 'positive', 'possibilities', 'possible', 'pov', 'powered', 'preferences', 'presents', 'president', 'price', 'prices', 'primeminister', 'print', 'printers', 'printing', 'probably', 'problem', 'problems', 'process', 'production', 'products', 'profiting', 'prohibits', 'prolonged', 'protests', 'prove', 'proximity', 'public', 'putin', 'putting', 'qe', 'question', 'quick', 'racial', 'raging', 'rails', 'rate', 'rather', 'reading', 'reality', 'really', 'recap', 'recent', 'recession', 'record', 'recorded', 'recovery', 'reduce', 'reduced', 'rees', 'referring', 'regime', 'regions', 'regular', 'regulated', 'regulations', 'relevant', 'reliance', 'relies', 'remains', 'replaced', 'required', 'resigns', 'resilience', 'response', 'rest', 'restrictions', 'resume', 'retirement', 'returns', 'reuters', 'reverse', 'rich', 'right', 'rises', 'rising', 'roads', 'role', 'roof', 'rotterdam', 'roundup', 'rt', 'ru', 'ruble', 'runaway', 'runs', 'russia', 'russian', 'safe', 'said', 'salary', 'save', 'saved', 'savings', 'say', 'says', 'scandinavia', 'season', 'sec', 'see', 'seeing', 'seem', 'selling', 'sending', 'sense', 'services', 'several', 'shake', 'shelves', 'shocks', 'short', 'shortages', 'shorts', 'shower', 'shutting', 'since', 'skyrocketing', 'slightly', 'slow', 'slowed', 'slowing', 'slowly', 'smile', 'social', 'solve', 'something', 'soon', 'south', 'southern', 'spain', 'spanish', 'speed', 'spending', 'spent', 'spiral', 'spiralling', 'staff', 'stagflation', 'standoff', 'starting', 'stayed', 'steel', 'stick', 'sticky', 'still', 'stock', 'stop', 'store', 'stories', 'story', 'strategy', 'strikes', 'strong', 'substantialy', 'substitution', 'subverted', 'succeeded', 'suffering', 'suggest', 'sully', 'sun', 'suppliers', 'supply', 'supplying', 'supported', 'supporting', 'supports', 'sure', 'tackle', 'take', 'taliban', 'talks', 'tame', 'taxcuts', 'taxpayers', 'teacher', 'telegraph', 'tens', 'terminals', 'terrorists', 'th', 'thing', 'think', 'thinking', 'third', 'thousands', 'threat', 'ticking', 'till', 'time', 'times', 'today', 'together', 'toilets', 'top', 'tory', 'total', 'totally', 'tour', 'towns', 'tracts', 'trade', 'train', 'transport', 'tremendous', 'trillion', 'trillions', 'troops', 'trouble', 'true', 'trump', 'trust', 'trusting', 'try', 'trying', 'tuesday', 'tumult', 'turkey', 'turning', 'twat', 'tweeted', 'uk', 'ukraine', 'ukrainian', 'ukrainians', 'ultimately', 'ultimatum', 'unbelievable', 'uncontrolled', 'underway', 'unemployment', 'union', 'unity', 'unless', 'unprecedented', 'unveils', 'us', 'usa', 'usd', 'usda', 'use', 'value', 'vatnic', 'venezuela', 'via', 'village', 'virtually', 'vix', 'vlad', 'vortex', 'vulnerability', 'wage', 'wages', 'wait', 'waiting', 'want', 'war', 'warns', 'wasteful', 'wave', 'way', 'weaken', 'wealthy', 'wearables', 'website', 'weeks', 'wef', 'well', 'went', 'whatever', 'whats', 'whining', 'white', 'whole', 'whtever', 'win', 'winning', 'winter', 'wiped', 'wishful', 'without', 'working', 'works', 'world', 'worldahead', 'worth', 'would', 'wreck', 'wtf', 'yea', 'yeah', 'year', 'years', 'yep', 'yo', 'yr', 'zero', 'zombies']\n"
     ]
    }
   ],
   "source": [
    "from sklearn.feature_extraction.text import CountVectorizer\n",
    "\n",
    "vectorizer = CountVectorizer()\n",
    "\n",
    "data = vectorizer.fit_transform(proc_tweets)\n",
    "\n",
    "# Display the feature names in sorted order\n",
    "print(vectorizer.get_feature_names())"
   ]
  },
  {
   "cell_type": "code",
   "execution_count": null,
   "id": "dd1a8cf5-0968-45f8-bd29-6c711241b679",
   "metadata": {},
   "outputs": [],
   "source": [
    "from sklearn.decomposition import LatentDirichletAllocation\n",
    "\n",
    "# Declare and initialise a variable t\n",
    "t = 20\n",
    "\n",
    "# Declare and initialise an object 'lda' by calling a method LatentDirichletAllocation()\n",
    "lda = LatentDirichletAllocation(n_components = t, learning_method = 'batch', random_state = 42)\n",
    "\n",
    "# Train the model\n",
    "lda.fit(proc_tweets)\n",
    "\n",
    "# Print all lda components\n",
    "print(lda.components_)\n",
    "\n",
    "# Get all feature names\n",
    "terms = vectorizer.get_feature_names()"
   ]
  },
  {
   "cell_type": "code",
   "execution_count": null,
   "id": "1c184176-2b61-431b-a88f-6a64803d36c4",
   "metadata": {},
   "outputs": [],
   "source": [
    "for topic_idx, topic in enumerate(lda.components_):\n",
    "    print(\"Topic {}:\" .format(topic_idx))\n",
    "    print(\" \".join([terms[i] for i in topic.argsort()[-10:]]))"
   ]
  },
  {
   "cell_type": "code",
   "execution_count": null,
   "id": "376ca3d0-b7cc-45a2-8b46-ea3679f2a553",
   "metadata": {},
   "outputs": [],
   "source": []
  }
 ],
 "metadata": {
  "kernelspec": {
   "display_name": "Python 3 (ipykernel)",
   "language": "python",
   "name": "python3"
  },
  "language_info": {
   "codemirror_mode": {
    "name": "ipython",
    "version": 3
   },
   "file_extension": ".py",
   "mimetype": "text/x-python",
   "name": "python",
   "nbconvert_exporter": "python",
   "pygments_lexer": "ipython3",
   "version": "3.9.12"
  }
 },
 "nbformat": 4,
 "nbformat_minor": 5
}
