{
 "cells": [
  {
   "cell_type": "markdown",
   "id": "888c77ff-fbc1-4f94-8620-9628d1222b70",
   "metadata": {},
   "source": [
    "# CA2 - ML on Agriculture in Ireland and EU"
   ]
  },
  {
   "cell_type": "markdown",
   "id": "400f1e7e-e1b6-40f6-bbd1-0d0a65897e9c",
   "metadata": {},
   "source": [
    "## Overview\n",
    "\n",
    "Sentiment analysis on data x\n",
    "\n",
    "2 ML models on data y\n",
    "\n",
    "..."
   ]
  },
  {
   "cell_type": "markdown",
   "id": "87cab9fe-ef9f-446e-aa37-ee75a8272cda",
   "metadata": {},
   "source": [
    "## Auxiliary Functions\n",
    "\n",
    "In this section, the auxiliary functions used in this notebook were implemented.\n",
    "\n",
    "<b>Requirements:</b>\n",
    "\n",
    "* Instructions to perform the sentiment analysis:\n",
    "\n",
    "    - NLTK library should be installed\n",
    "\n",
    "\n",
    "* Instructions to use the Twitter API:\n",
    "\n",
    "    - There should exist a file called .twitter_env in the machine's home directory with the following keys:\n",
    "\n",
    "        ```\n",
    "        API_KEY=***\n",
    "        API_KEY_SECRET=***\n",
    "        BEARER_TOKEN=***\n",
    "        ```"
   ]
  },
  {
   "cell_type": "code",
   "execution_count": 274,
   "id": "308f0109-a00f-49d7-bfcf-89def999326a",
   "metadata": {
    "tags": []
   },
   "outputs": [],
   "source": [
    "# !pip install textblob\n",
    "# !pip install punkt\n",
    "# !pip install python-dotenv\n",
    "# import nltk\n",
    "# nltk.download()\n",
    "from dotenv import dotenv_values\n",
    "from pathlib import Path\n",
    "from os import listdir\n",
    "import os\n",
    "import re\n",
    "import json\n",
    "import string\n",
    "import logging\n",
    "import warnings\n",
    "import datetime\n",
    "import requests\n",
    "import pandas as pd\n",
    "import matplotlib.pyplot as plt\n",
    "\n",
    "from textblob import TextBlob \n",
    "from nltk.corpus import stopwords\n",
    "from nltk.tokenize import word_tokenize\n",
    "from nltk.probability import FreqDist\n",
    "from nltk.stem import PorterStemmer\n",
    "from nltk.stem import WordNetLemmatizer\n",
    "\n",
    "# ignore warnings\n",
    "warnings.filterwarnings('ignore')\n",
    "\n",
    "# use a logger to help debugging\n",
    "logger = logging.getLogger('mylogger')\n",
    "# set logger level\n",
    "logger.setLevel(logging.ERROR)\n",
    "\n",
    "# path to the current directory\n",
    "CURR_PATH = os.path.abspath(os.getcwd())\n",
    "# path to the users directory\n",
    "HOME_DIR = str(Path.home())\n",
    "# path to dataset dir\n",
    "DATASET_DIR = os.path.join(CURR_PATH, 'datasets')\n",
    "\n",
    "# twitter env file\n",
    "TWITTER_ENV_FILE = '.twitter_env'\n",
    "\n",
    "class HttpConnect:\n",
    "    config = None\n",
    "\n",
    "    def __init__(self, config):\n",
    "        self.config = config\n",
    "\n",
    "    def get_bearer_auth(self, r):\n",
    "        \"\"\"\n",
    "        Method required by bearer token authentication.\n",
    "        \"\"\"\n",
    "        if self.config is None:\n",
    "            raise Exception('Unable to create Bearer authorization object.')\n",
    "\n",
    "        r.headers['Authorization'] = f\"Bearer { self.config['BEARER_TOKEN'] }\"\n",
    "        r.headers['User-Agent'] = 'v2RecentSearchPython'\n",
    "\n",
    "        return r\n",
    "\n",
    "    def connect_endpoint(self, url, params_dict={}):\n",
    "        response = requests.get(url, auth=self.get_bearer_auth, params=params_dict)\n",
    "\n",
    "        if response is None:\n",
    "            raise Exception('Invalid response.')\n",
    "\n",
    "        logger.info(response.status_code)\n",
    "\n",
    "        if response.status_code != 200:\n",
    "            raise Exception(response.status_code, response.text)\n",
    "\n",
    "        return response.json()\n",
    "\n",
    "class TwitterApi(HttpConnect):\n",
    "    # twitter recent search api url\n",
    "    TWITTER_API_SEARCH_URL = 'https://api.twitter.com/2/tweets/search/recent'\n",
    "\n",
    "    last_response = None\n",
    "    config = None\n",
    "\n",
    "    def __init__(self, config):\n",
    "        \"\"\"\n",
    "        The constructor for TwitterApi class.\n",
    "\n",
    "        Parameters:\n",
    "            auth (auth): Authentication parameters. \n",
    "        \"\"\"\n",
    "        HttpConnect.__init__(self, config)\n",
    "\n",
    "    def search_tweets(self, params={}, max_pages=10):\n",
    "        tweets_list = []\n",
    "        if self.run_request(self.TWITTER_API_SEARCH_URL, params):\n",
    "            tweets_list, next_token = self.extract_tweets()\n",
    "            count=1\n",
    "            if next_token is not None and count < max_pages:\n",
    "                url = f'{ self.TWITTER_API_SEARCH_URL }?next_token={next_token}'\n",
    "                if self.run_request(url, params):\n",
    "                    next_tweets_list, next_token = self.extract_tweets()\n",
    "                    tweets_list+= next_tweets_list\n",
    "                    count+=1\n",
    "                else:\n",
    "                    next_token = None\n",
    "\n",
    "        print(f\"{ len(tweets_list) } tweets retrieved!\")\n",
    "\n",
    "        return tweets_list\n",
    "    \n",
    "    def run_request(self, url, params={}):\n",
    "        ret = False\n",
    "        try:\n",
    "            self.last_response = self.connect_endpoint(url, params)\n",
    "            ret = True\n",
    "        except Exception as e:\n",
    "            logger.error(e)\n",
    "        return ret\n",
    "\n",
    "    def parse_response(self):\n",
    "        resp = self.last_response        \n",
    "\n",
    "        meta = None\n",
    "        if 'meta' in resp.keys():\n",
    "            meta = resp['meta']\n",
    "        \n",
    "        data = None\n",
    "        if 'data' in resp.keys():\n",
    "            data = resp['data']\n",
    "\n",
    "        return meta, data\n",
    "\n",
    "    def extract_tweets(self):\n",
    "        meta, data = self.parse_response()\n",
    "        \n",
    "        if meta is None or data is None:\n",
    "            return [], None\n",
    "        \n",
    "        tweets_set = set()\n",
    "        for t in data:\n",
    "            tweets_set.add(t['text'])\n",
    "\n",
    "        tweets_list = list(tweets_set)\n",
    "        next_token = None\n",
    "        if 'next_token' in meta.keys():\n",
    "            next_token = meta['next_token']\n",
    "\n",
    "        return tweets_list, next_token\n",
    "        \n",
    "    def save_result_to_file(self, outfile):\n",
    "        json_helper = JsonHelper(self.last_response)\n",
    "        json_helper.to_file(outfile)\n",
    "\n",
    "class JsonHelper:\n",
    "    json_data = {}\n",
    "    \n",
    "    def __init__(self, json_data):\n",
    "        self.json_data = json_data\n",
    "\n",
    "    def to_file(self, outfile):\n",
    "        if len(outfile) == 0:\n",
    "            logger.warning('Output filename is empty!')\n",
    "            return\n",
    "\n",
    "        with open(outfile, 'w', encoding='utf-8') as f:\n",
    "            json.dump(self.json_data, f, ensure_ascii=False, indent=4)\n",
    "\n",
    "    def to_string(self):\n",
    "        return json.dumps(self.json_data, indent=4, sort_keys=True, ensure_ascii=False)\n",
    "\n",
    "class TextProcessor:\n",
    "    use_stemmer = False\n",
    "    use_lemmatizer = False\n",
    "    \n",
    "    def __init__(self, stemmer=False, lemmatizer=False):\n",
    "        self.use_stemmer = stemmer\n",
    "        self.use_lemmatizer = lemmatizer\n",
    "        \n",
    "    def process_text(self, text):\n",
    "        text = self.clean_text(text)\n",
    "        \n",
    "        tokens = self.get_tokens(text)\n",
    "        filtered_words = self.filter_stop_words(tokens)\n",
    "\n",
    "        if self.use_stemmer:\n",
    "            filtered_words = self.apply_stemmer(filtered_words)\n",
    "\n",
    "        if self.use_lemmatizer:\n",
    "            filtered_words = self.apply_lemmatizer(filtered_words)\n",
    "\n",
    "        return \" \".join(filtered_words)\n",
    "    \n",
    "    def clean_text(self, text):\n",
    "        # convert to lower case\n",
    "        text = text.lower()\n",
    "        # remove urls\n",
    "        text = re.sub(r\"http\\S+|www\\S+|https\\S+\", '', text, flags=re.MULTILINE)\n",
    "        # remove user @ references and '#' from text\n",
    "        text = re.sub(r'\\@\\w+|\\#','', text)\n",
    "        # removing special chars\n",
    "        text = re.sub('[^a-zA-Z]', ' ', text)\n",
    "        # remove punctuations\n",
    "        text = text.translate(str.maketrans('', '', string.punctuation))\n",
    "        return text\n",
    "\n",
    "    def get_tokens(self, text):\n",
    "        return word_tokenize(text)\n",
    "\n",
    "    def filter_stop_words(self, tokens=[]):\n",
    "        stop_words = set(stopwords.words('english'))\n",
    "        filtered_words = [w for w in tokens if not w in stop_words]\n",
    "        return filtered_words\n",
    "\n",
    "    def apply_stemmer(self, tokens=[]):\n",
    "        ps = PorterStemmer()\n",
    "        stemmed_words = [ps.stem(w) for w in tokens]\n",
    "        return stemmed_words\n",
    "\n",
    "    def apply_lemmatizer(self, tokens=[]):\n",
    "        lemmatizer = WordNetLemmatizer()\n",
    "        lemma_words = [lemmatizer.lemmatize(w, pos='a') for w in tokens]\n",
    "        return lemma_words\n",
    "    \n",
    "    @staticmethod\n",
    "    def get_sentiment(text):\n",
    "        res = TextBlob(text).sentiment.polarity        \n",
    "        if res < 0:\n",
    "          return 'negative'\n",
    "        elif res > 0:\n",
    "          return 'positive'\n",
    "        return 'neutral'\n",
    "    \n",
    "def get_env_map():\n",
    "    env_path = os.path.join(HOME_DIR, TWITTER_ENV_FILE)\n",
    "\n",
    "    if not os.path.exists(env_path):\n",
    "        logger.error(F'Unable to read the environment file. Make sure a { TWITTER_ENV_FILE } file exists in your home directory.')\n",
    "        return None\n",
    "\n",
    "    return dotenv_values(env_path)\n",
    "\n",
    "def process_tweets(tweets_list):\n",
    "    proc_tweets = []\n",
    "    for i in range(0, len(tweets_list)):\n",
    "        # raw tweet\n",
    "        tweet_raw = tweets_list[i]\n",
    "        sentiment_raw = TextProcessor.get_sentiment(tweet_raw)\n",
    "        \n",
    "        # cleaned tweet\n",
    "        tweet_clr = TextProcessor().process_text(tweet_raw)\n",
    "        sentiment_clr = TextProcessor.get_sentiment(tweet_clr)\n",
    "        \n",
    "        # steemed tweet\n",
    "        tweet_st = TextProcessor(stemmer=True).process_text(tweet_raw)\n",
    "        sentiment_st = TextProcessor.get_sentiment(tweet_st)\n",
    "\n",
    "        # lemmatized tweet\n",
    "        tweet_lm = TextProcessor(lemmatizer=True).process_text(tweet_raw)\n",
    "        sentiment_lm = TextProcessor.get_sentiment(tweet_lm)\n",
    "\n",
    "        proc_tweets.append((tweet_raw, sentiment_raw, tweet_clr, sentiment_clr, tweet_st, sentiment_st, tweet_lm, sentiment_lm))\n",
    "\n",
    "    tweets_df = pd.DataFrame(proc_tweets, columns=['tweet_raw', 'sent_raw', 'tweet_clr', 'sent_clr', 'tweet_st', 'sent_st', 'tweet_lm', 'sent_lm'])\n",
    "\n",
    "    return tweets_df\n",
    "\n",
    "def get_freq(df, colname):\n",
    "    tokens_lst = []\n",
    "    for i in range(0, len(df)):\n",
    "        text = df.loc[i][colname]\n",
    "        tokens_lst+= TextProcessor().get_tokens(text)\n",
    "\n",
    "    fdist = FreqDist(tokens_lst)\n",
    "\n",
    "    return fdist"
   ]
  },
  {
   "cell_type": "markdown",
   "id": "8eea23a9-dfcb-4858-91ba-b86d5ee575ec",
   "metadata": {},
   "source": [
    "## Sentiment Analysis\n",
    "\n",
    "In this section, the Twitter API was used to collect tweets from the last few days that will be used for the sentiment analysis.\n",
    "\n",
    "The purpose of this search was to find tweets about inflation or food price, which relate to the agriculture topic.\n",
    "\n",
    "However, there is a limitation in the quality of data being collected as the query API feature performs a search by token which can result in tweets about any topic."
   ]
  },
  {
   "cell_type": "markdown",
   "id": "1afcb3c1-e5ce-48c4-83da-8ab61647e81e",
   "metadata": {},
   "source": [
    "### Data Preparation"
   ]
  },
  {
   "cell_type": "code",
   "execution_count": 275,
   "id": "043b43c0-c2e2-43ed-9546-c374589a938f",
   "metadata": {},
   "outputs": [
    {
     "name": "stdout",
     "output_type": "stream",
     "text": [
      "200 tweets retrieved!\n"
     ]
    },
    {
     "data": {
      "text/html": [
       "<div>\n",
       "<style scoped>\n",
       "    .dataframe tbody tr th:only-of-type {\n",
       "        vertical-align: middle;\n",
       "    }\n",
       "\n",
       "    .dataframe tbody tr th {\n",
       "        vertical-align: top;\n",
       "    }\n",
       "\n",
       "    .dataframe thead th {\n",
       "        text-align: right;\n",
       "    }\n",
       "</style>\n",
       "<table border=\"1\" class=\"dataframe\">\n",
       "  <thead>\n",
       "    <tr style=\"text-align: right;\">\n",
       "      <th></th>\n",
       "      <th>tweet_raw</th>\n",
       "      <th>sent_raw</th>\n",
       "      <th>tweet_clr</th>\n",
       "      <th>sent_clr</th>\n",
       "      <th>tweet_st</th>\n",
       "      <th>sent_st</th>\n",
       "      <th>tweet_lm</th>\n",
       "      <th>sent_lm</th>\n",
       "    </tr>\n",
       "  </thead>\n",
       "  <tbody>\n",
       "    <tr>\n",
       "      <th>0</th>\n",
       "      <td>British public were treated like mugs..lied to...</td>\n",
       "      <td>negative</td>\n",
       "      <td>british public treated like mugs lied sold riv...</td>\n",
       "      <td>neutral</td>\n",
       "      <td>british public treat like mug lie sold river p...</td>\n",
       "      <td>positive</td>\n",
       "      <td>british public treated like mugs lied sold riv...</td>\n",
       "      <td>positive</td>\n",
       "    </tr>\n",
       "    <tr>\n",
       "      <th>1</th>\n",
       "      <td>EU economies set to contract in 2023 - Financi...</td>\n",
       "      <td>positive</td>\n",
       "      <td>eu economies set contract financial times acco...</td>\n",
       "      <td>positive</td>\n",
       "      <td>eu economi set contract financi time accord ex...</td>\n",
       "      <td>positive</td>\n",
       "      <td>eu economies set contract financial times acco...</td>\n",
       "      <td>positive</td>\n",
       "    </tr>\n",
       "    <tr>\n",
       "      <th>2</th>\n",
       "      <td>Big big good news for all #Europe and #USA in ...</td>\n",
       "      <td>negative</td>\n",
       "      <td>big big good news europe usa cold season natur...</td>\n",
       "      <td>positive</td>\n",
       "      <td>big big good news europ usa cold season natura...</td>\n",
       "      <td>positive</td>\n",
       "      <td>big big good news europe usa cold season natur...</td>\n",
       "      <td>positive</td>\n",
       "    </tr>\n",
       "    <tr>\n",
       "      <th>3</th>\n",
       "      <td>\"The measures, coupled with an agreement negot...</td>\n",
       "      <td>positive</td>\n",
       "      <td>measures coupled agreement negotiated european...</td>\n",
       "      <td>positive</td>\n",
       "      <td>measur coupl agreement negoti european union p...</td>\n",
       "      <td>negative</td>\n",
       "      <td>measures coupled agreement negotiated european...</td>\n",
       "      <td>positive</td>\n",
       "    </tr>\n",
       "    <tr>\n",
       "      <th>4</th>\n",
       "      <td>It was due to the problems of Europe (Covid-19...</td>\n",
       "      <td>positive</td>\n",
       "      <td>due problems europe covid russia ukraine war r...</td>\n",
       "      <td>positive</td>\n",
       "      <td>due problem europ covid russia ukrain war rece...</td>\n",
       "      <td>positive</td>\n",
       "      <td>due problems europe covid russia ukraine war r...</td>\n",
       "      <td>positive</td>\n",
       "    </tr>\n",
       "  </tbody>\n",
       "</table>\n",
       "</div>"
      ],
      "text/plain": [
       "                                           tweet_raw  sent_raw  \\\n",
       "0  British public were treated like mugs..lied to...  negative   \n",
       "1  EU economies set to contract in 2023 - Financi...  positive   \n",
       "2  Big big good news for all #Europe and #USA in ...  negative   \n",
       "3  \"The measures, coupled with an agreement negot...  positive   \n",
       "4  It was due to the problems of Europe (Covid-19...  positive   \n",
       "\n",
       "                                           tweet_clr  sent_clr  \\\n",
       "0  british public treated like mugs lied sold riv...   neutral   \n",
       "1  eu economies set contract financial times acco...  positive   \n",
       "2  big big good news europe usa cold season natur...  positive   \n",
       "3  measures coupled agreement negotiated european...  positive   \n",
       "4  due problems europe covid russia ukraine war r...  positive   \n",
       "\n",
       "                                            tweet_st   sent_st  \\\n",
       "0  british public treat like mug lie sold river p...  positive   \n",
       "1  eu economi set contract financi time accord ex...  positive   \n",
       "2  big big good news europ usa cold season natura...  positive   \n",
       "3  measur coupl agreement negoti european union p...  negative   \n",
       "4  due problem europ covid russia ukrain war rece...  positive   \n",
       "\n",
       "                                            tweet_lm   sent_lm  \n",
       "0  british public treated like mugs lied sold riv...  positive  \n",
       "1  eu economies set contract financial times acco...  positive  \n",
       "2  big big good news europe usa cold season natur...  positive  \n",
       "3  measures coupled agreement negotiated european...  positive  \n",
       "4  due problems europe covid russia ukraine war r...  positive  "
      ]
     },
     "execution_count": 275,
     "metadata": {},
     "output_type": "execute_result"
    }
   ],
   "source": [
    "# retrieving tweets according to the query\n",
    "start_date = datetime.datetime.now() - datetime.timedelta(30)\n",
    "query_params = {\n",
    "    'query' : '(inflation OR \"food price\" OR \"agriculture\") Europe -is:retweet -has:media lang:en',\n",
    "    #'query' : 'food price agriculture -is:retweet -has:media lang:en',\n",
    "    'tweet.fields': 'author_id', \n",
    "    'user.fields': 'name',\n",
    "    'max_results': '100'\n",
    "}\n",
    "\n",
    "twitter_api = TwitterApi(get_env_map())\n",
    "tweets_list = twitter_api.search_tweets(query_params)\n",
    "tweets_df = process_tweets(tweets_list)\n",
    "tweets_df.head()"
   ]
  },
  {
   "cell_type": "code",
   "execution_count": 279,
   "id": "1fc6b1d4-6d17-4423-b283-44bc71418a66",
   "metadata": {},
   "outputs": [
    {
     "data": {
      "image/png": "[encoded data removed]",
      "text/plain": [
       "<Figure size 432x288 with 1 Axes>"
      ]
     },
     "metadata": {
      "needs_background": "light"
     },
     "output_type": "display_data"
    },
    {
     "data": {
      "text/plain": [
       "<AxesSubplot:xlabel='Samples', ylabel='Counts'>"
      ]
     },
     "execution_count": 279,
     "metadata": {},
     "output_type": "execute_result"
    }
   ],
   "source": [
    "# display the frequency distribution\n",
    "fdist = get_freq(tweets_df, 'tweet_clr')\n",
    "fdist.plot(30, cumulative=False)"
   ]
  },
  {
   "cell_type": "markdown",
   "id": "ec1220ef-ee3e-4171-96e9-4ce0bfa13d0f",
   "metadata": {},
   "source": [
    "### Naive Bayes Classifier - Count Vectorizer"
   ]
  },
  {
   "cell_type": "code",
   "execution_count": 306,
   "id": "813c6d84-6c21-49ce-8c54-d8ce166e51b1",
   "metadata": {},
   "outputs": [
    {
     "data": {
      "text/plain": [
       "(0    british public treated like mugs lied sold riv...\n",
       " 1    eu economies set contract financial times acco...\n",
       " 2    big big good news europe usa cold season natur...\n",
       " 3    measures coupled agreement negotiated european...\n",
       " 4    due problems europe covid russia ukraine war r...\n",
       " Name: tweet_lm, dtype: object,\n",
       " 0    2\n",
       " 1    2\n",
       " 2    2\n",
       " 3    2\n",
       " 4    2\n",
       " Name: sent_lm, dtype: int64)"
      ]
     },
     "execution_count": 306,
     "metadata": {},
     "output_type": "execute_result"
    }
   ],
   "source": [
    "# add code to compare diff - lm, clr and st -> lm gave better results (both naive bayes approaches)\n",
    "X = tweets_df['tweet_lm']\n",
    "y = tweets_df['sent_lm']\n",
    "\n",
    "# converting sentiment values to numbers\n",
    "sentiment_ordering = ['negative', 'neutral', 'positive']\n",
    "\n",
    "# store all values into column named as \"y\"\n",
    "y = y.apply(lambda x: sentiment_ordering.index(x))\n",
    "\n",
    "X.head(), y.head()"
   ]
  },
  {
   "cell_type": "code",
   "execution_count": 307,
   "id": "5ef5bf7f-e086-4a7c-a171-94c134f5fe7e",
   "metadata": {},
   "outputs": [
    {
     "data": {
      "text/plain": [
       "(200, 1547)"
      ]
     },
     "execution_count": 307,
     "metadata": {},
     "output_type": "execute_result"
    }
   ],
   "source": [
    "from sklearn.feature_extraction.text import CountVectorizer\n",
    "\n",
    "# Instantiate an object cv by calling a method named as CountVectorzer()\n",
    "cv = CountVectorizer(max_features = 5000)\n",
    "\n",
    "# Train the dataset by calling a fit_transform() method\n",
    "X_fin = cv.fit_transform(X).toarray()\n",
    "\n",
    "# Display the rows and colums\n",
    "X_fin.shape"
   ]
  },
  {
   "cell_type": "code",
   "execution_count": 308,
   "id": "376ca3d0-b7cc-45a2-8b46-ea3679f2a553",
   "metadata": {},
   "outputs": [],
   "source": [
    "from sklearn.naive_bayes import MultinomialNB\n",
    "from sklearn.model_selection import train_test_split\n",
    "\n",
    "# Instantiate an object model by calling a method MultinomialNB()\n",
    "model = MultinomialNB()"
   ]
  },
  {
   "cell_type": "code",
   "execution_count": 309,
   "id": "f360fa58-0d51-48d6-96a8-41823ca82815",
   "metadata": {},
   "outputs": [],
   "source": [
    "# Split the dataset into training and testing parts\n",
    "X_train, X_test, y_train, y_test = train_test_split(X_fin, y, test_size=0.3)"
   ]
  },
  {
   "cell_type": "code",
   "execution_count": 310,
   "id": "803888fa-f1ef-4b21-a79c-c93e3eacba4a",
   "metadata": {},
   "outputs": [
    {
     "data": {
      "text/plain": [
       "MultinomialNB()"
      ]
     },
     "execution_count": 310,
     "metadata": {},
     "output_type": "execute_result"
    }
   ],
   "source": [
    "# Train the model by calling a method fit()\n",
    "model.fit(X_train, y_train)"
   ]
  },
  {
   "cell_type": "code",
   "execution_count": 311,
   "id": "421222c6-81b3-4466-ad63-de2da64c6a78",
   "metadata": {},
   "outputs": [],
   "source": [
    "# Call predict() method\n",
    "y_pred = model.predict(X_test)"
   ]
  },
  {
   "cell_type": "code",
   "execution_count": 312,
   "id": "86ed568a-83f1-4e09-875a-7b567dee4329",
   "metadata": {},
   "outputs": [
    {
     "name": "stdout",
     "output_type": "stream",
     "text": [
      "              precision    recall  f1-score   support\n",
      "\n",
      "           0       0.61      0.55      0.58        20\n",
      "           1       0.48      0.67      0.56        15\n",
      "           2       0.52      0.44      0.48        25\n",
      "\n",
      "    accuracy                           0.53        60\n",
      "   macro avg       0.54      0.55      0.54        60\n",
      "weighted avg       0.54      0.53      0.53        60\n",
      "\n"
     ]
    }
   ],
   "source": [
    "from sklearn.metrics import classification_report\n",
    "\n",
    "# Instantiate a mthod named as Cla\n",
    "cf = classification_report(y_test, y_pred)\n",
    "\n",
    "# Display the values of an object cf\n",
    "print(cf)"
   ]
  },
  {
   "cell_type": "markdown",
   "id": "3a6bb30a-3dc0-4f82-9c6e-6fad6ed69903",
   "metadata": {},
   "source": [
    "### Naive Bayes Classifier - TfIdf Vectorizer"
   ]
  },
  {
   "cell_type": "code",
   "execution_count": 313,
   "id": "f046bfd1-2202-40ad-94aa-2510fd2daff4",
   "metadata": {},
   "outputs": [],
   "source": [
    "from sklearn.feature_extraction.text import TfidfVectorizer\n",
    "\n",
    "# Create an object 'tf' by calling a method TfidfVectorizer()\n",
    "tfidf = TfidfVectorizer(max_features = 5000)\n",
    "\n",
    "# Train the dataset by calling a method fit_tranform() \n",
    "X_tfidf = tfidf.fit_transform(X).toarray()"
   ]
  },
  {
   "cell_type": "code",
   "execution_count": 314,
   "id": "fb5b0acb-2e20-44ba-8a1b-059e3fb215e5",
   "metadata": {},
   "outputs": [],
   "source": [
    "from sklearn.naive_bayes import MultinomialNB\n",
    "from sklearn.model_selection import train_test_split\n",
    "\n",
    "# Instantiate an object model by calling a method MultinomialNB()\n",
    "model_tdidf = MultinomialNB()"
   ]
  },
  {
   "cell_type": "code",
   "execution_count": 315,
   "id": "fe0cf195-6126-4231-bc97-6fc3cd1e9812",
   "metadata": {},
   "outputs": [],
   "source": [
    "# Split the dataset into training and testing parts\n",
    "X_train, X_test, y_train, y_test = train_test_split(X_tfidf, y, test_size=0.3)"
   ]
  },
  {
   "cell_type": "code",
   "execution_count": 316,
   "id": "44a51e85-9a49-470b-ac3f-bbd54dfc5dfa",
   "metadata": {},
   "outputs": [
    {
     "data": {
      "text/plain": [
       "MultinomialNB()"
      ]
     },
     "execution_count": 316,
     "metadata": {},
     "output_type": "execute_result"
    }
   ],
   "source": [
    "# Train the model by calling a method fit()\n",
    "model_tdidf.fit(X_train, y_train)"
   ]
  },
  {
   "cell_type": "code",
   "execution_count": 317,
   "id": "4084b431-ef17-4693-956f-96850e1eb332",
   "metadata": {},
   "outputs": [],
   "source": [
    "# Call predict() method\n",
    "y_pred = model_tdidf.predict(X_test)"
   ]
  },
  {
   "cell_type": "code",
   "execution_count": 318,
   "id": "4839788c-c3a8-436f-b04f-698cb53ef393",
   "metadata": {},
   "outputs": [
    {
     "name": "stdout",
     "output_type": "stream",
     "text": [
      "              precision    recall  f1-score   support\n",
      "\n",
      "           0       0.60      0.21      0.32        14\n",
      "           1       0.93      0.59      0.72        22\n",
      "           2       0.54      0.92      0.68        24\n",
      "\n",
      "    accuracy                           0.63        60\n",
      "   macro avg       0.69      0.57      0.57        60\n",
      "weighted avg       0.70      0.63      0.61        60\n",
      "\n"
     ]
    }
   ],
   "source": [
    "from sklearn.metrics import classification_report\n",
    "\n",
    "# Instantiate a mthod named as Cla\n",
    "cf = classification_report(y_test, y_pred)\n",
    "\n",
    "# Display the values of an object cf\n",
    "print(cf)"
   ]
  },
  {
   "cell_type": "markdown",
   "id": "a2c07e67-0983-4b43-9d9e-8b3e98255cba",
   "metadata": {},
   "source": [
    "### Logistic Regression - Stemmer/Lemmatizer"
   ]
  },
  {
   "cell_type": "code",
   "execution_count": 320,
   "id": "a754726a-3830-44b4-b6e6-3600b65a1041",
   "metadata": {},
   "outputs": [],
   "source": [
    "# test logistic regression with stemmer\n",
    "from nltk.corpus import stopwords\n",
    "from nltk.stem.porter import PorterStemmer\n",
    "\n",
    "porter = PorterStemmer()\n",
    "lemmatizer = WordNetLemmatizer()\n",
    "\n",
    "def tokenizer(text):\n",
    "    return text.split()\n",
    "\n",
    "def apply_lemmatizer(self, tokens=[]):    \n",
    "    return [lemmatizer.lemmatize(w, pos='a') for w in tokens]\n",
    "\n",
    "def tokenizer_porter(text):\n",
    "    return [porter.stem(word) for word in text.split()]\n",
    "\n",
    "stop = stopwords.words('english')"
   ]
  },
  {
   "cell_type": "code",
   "execution_count": 321,
   "id": "4fa5e13c-c915-4151-bcdc-4564a29a2aaf",
   "metadata": {},
   "outputs": [],
   "source": [
    "# have to use cleaned data only - because grid search will try to apply lemmatizer and porter later\n",
    "X_train = tweets_df.loc[:60, 'tweet_clr'].values\n",
    "y_train = tweets_df.loc[:60, 'sent_clr'].values\n",
    "X_test = tweets_df.loc[60:, 'tweet_clr'].values\n",
    "y_test = tweets_df.loc[60:, 'sent_clr'].values"
   ]
  },
  {
   "cell_type": "code",
   "execution_count": 322,
   "id": "089763f7-51d5-4956-89f8-bf71bc03c32c",
   "metadata": {},
   "outputs": [],
   "source": [
    "from sklearn.pipeline import Pipeline\n",
    "from sklearn.linear_model import LogisticRegression\n",
    "from sklearn.feature_extraction.text import TfidfVectorizer\n",
    "from sklearn.model_selection import GridSearchCV\n",
    "\n",
    "tfidf = TfidfVectorizer(strip_accents=None,\n",
    "                        lowercase=False,\n",
    "                        preprocessor=None)\n",
    "\n",
    "param_grid = [{'vect__ngram_range': [(1, 1)],\n",
    "               'vect__stop_words': [stop, None],\n",
    "               'vect__tokenizer': [tokenizer, tokenizer_porter, apply_lemmatizer],\n",
    "               'clf__penalty': ['l1', 'l2'],\n",
    "               'clf__C': [1.0, 10.0, 100.0]},\n",
    "              {'vect__ngram_range': [(1, 1)],\n",
    "               'vect__stop_words': [stop, None],\n",
    "               'vect__tokenizer': [tokenizer, tokenizer_porter, apply_lemmatizer],\n",
    "               'vect__use_idf':[False],\n",
    "               'vect__norm':[None],\n",
    "               'clf__penalty': ['l1', 'l2'],\n",
    "               'clf__C': [1.0, 10.0, 100.0]},\n",
    "              ]\n",
    "\n",
    "lr_tfidf = Pipeline([('vect', tfidf),\n",
    "                     ('clf', LogisticRegression(random_state=0))])\n",
    "\n",
    "gs_lr_tfidf = GridSearchCV(lr_tfidf, param_grid,\n",
    "                           scoring='accuracy',\n",
    "                           cv=5,\n",
    "                           verbose=1,\n",
    "                           n_jobs=-1)"
   ]
  },
  {
   "cell_type": "code",
   "execution_count": 323,
   "id": "a629c2b4-4938-470b-818f-a136ae5b653e",
   "metadata": {},
   "outputs": [
    {
     "data": {
      "text/plain": [
       "(61,)"
      ]
     },
     "execution_count": 323,
     "metadata": {},
     "output_type": "execute_result"
    }
   ],
   "source": [
    "X_train.shape"
   ]
  },
  {
   "cell_type": "code",
   "execution_count": 324,
   "id": "858d17d2-a89a-4eb2-a1ff-b09ff1ce0e94",
   "metadata": {},
   "outputs": [
    {
     "name": "stdout",
     "output_type": "stream",
     "text": [
      "Fitting 5 folds for each of 72 candidates, totalling 360 fits\n"
     ]
    },
    {
     "data": {
      "text/plain": [
       "GridSearchCV(cv=5,\n",
       "             estimator=Pipeline(steps=[('vect',\n",
       "                                        TfidfVectorizer(lowercase=False)),\n",
       "                                       ('clf',\n",
       "                                        LogisticRegression(random_state=0))]),\n",
       "             n_jobs=-1,\n",
       "             param_grid=[{'clf__C': [1.0, 10.0, 100.0],\n",
       "                          'clf__penalty': ['l1', 'l2'],\n",
       "                          'vect__ngram_range': [(1, 1)],\n",
       "                          'vect__stop_words': [['i', 'me', 'my', 'myself', 'we',\n",
       "                                                'our', 'ours', 'ourselves',\n",
       "                                                'you', \"you're\", \"you've\",\n",
       "                                                \"you'll\", \"you'd\",...\n",
       "                                                \"you'll\", \"you'd\", 'your',\n",
       "                                                'yours', 'yourself',\n",
       "                                                'yourselves', 'he', 'him',\n",
       "                                                'his', 'himself', 'she',\n",
       "                                                \"she's\", 'her', 'hers',\n",
       "                                                'herself', 'it', \"it's\", 'its',\n",
       "                                                'itself', ...],\n",
       "                                               None],\n",
       "                          'vect__tokenizer': [<function tokenizer at 0x0000018012861A60>,\n",
       "                                              <function tokenizer_porter at 0x0000018015240CA0>,\n",
       "                                              <function apply_lemmatizer at 0x0000018016E7DA60>],\n",
       "                          'vect__use_idf': [False]}],\n",
       "             scoring='accuracy', verbose=1)"
      ]
     },
     "execution_count": 324,
     "metadata": {},
     "output_type": "execute_result"
    }
   ],
   "source": [
    "gs_lr_tfidf.fit(X_train, y_train)"
   ]
  },
  {
   "cell_type": "code",
   "execution_count": 325,
   "id": "ebc449ad-7907-46d9-8efa-c7e6d24b4ef8",
   "metadata": {},
   "outputs": [
    {
     "name": "stdout",
     "output_type": "stream",
     "text": [
      "Best parameter set: {'clf__C': 10.0, 'clf__penalty': 'l2', 'vect__ngram_range': (1, 1), 'vect__stop_words': ['i', 'me', 'my', 'myself', 'we', 'our', 'ours', 'ourselves', 'you', \"you're\", \"you've\", \"you'll\", \"you'd\", 'your', 'yours', 'yourself', 'yourselves', 'he', 'him', 'his', 'himself', 'she', \"she's\", 'her', 'hers', 'herself', 'it', \"it's\", 'its', 'itself', 'they', 'them', 'their', 'theirs', 'themselves', 'what', 'which', 'who', 'whom', 'this', 'that', \"that'll\", 'these', 'those', 'am', 'is', 'are', 'was', 'were', 'be', 'been', 'being', 'have', 'has', 'had', 'having', 'do', 'does', 'did', 'doing', 'a', 'an', 'the', 'and', 'but', 'if', 'or', 'because', 'as', 'until', 'while', 'of', 'at', 'by', 'for', 'with', 'about', 'against', 'between', 'into', 'through', 'during', 'before', 'after', 'above', 'below', 'to', 'from', 'up', 'down', 'in', 'out', 'on', 'off', 'over', 'under', 'again', 'further', 'then', 'once', 'here', 'there', 'when', 'where', 'why', 'how', 'all', 'any', 'both', 'each', 'few', 'more', 'most', 'other', 'some', 'such', 'no', 'nor', 'not', 'only', 'own', 'same', 'so', 'than', 'too', 'very', 's', 't', 'can', 'will', 'just', 'don', \"don't\", 'should', \"should've\", 'now', 'd', 'll', 'm', 'o', 're', 've', 'y', 'ain', 'aren', \"aren't\", 'couldn', \"couldn't\", 'didn', \"didn't\", 'doesn', \"doesn't\", 'hadn', \"hadn't\", 'hasn', \"hasn't\", 'haven', \"haven't\", 'isn', \"isn't\", 'ma', 'mightn', \"mightn't\", 'mustn', \"mustn't\", 'needn', \"needn't\", 'shan', \"shan't\", 'shouldn', \"shouldn't\", 'wasn', \"wasn't\", 'weren', \"weren't\", 'won', \"won't\", 'wouldn', \"wouldn't\"], 'vect__tokenizer': <function tokenizer_porter at 0x0000018015240CA0>} \n",
      "CV Accuracy: 0.606\n"
     ]
    }
   ],
   "source": [
    "print('Best parameter set: %s ' % gs_lr_tfidf.best_params_)\n",
    "print('CV Accuracy: %.3f' % gs_lr_tfidf.best_score_)"
   ]
  },
  {
   "cell_type": "code",
   "execution_count": 326,
   "id": "52353843-7b3c-4e1e-94fa-78343528cf09",
   "metadata": {},
   "outputs": [
    {
     "name": "stdout",
     "output_type": "stream",
     "text": [
      "Test Accuracy: 0.507\n"
     ]
    }
   ],
   "source": [
    "clf = gs_lr_tfidf.best_estimator_\n",
    "print('Test Accuracy: %.3f' % clf.score(X_test, y_test))"
   ]
  }
 ],
 "metadata": {
  "kernelspec": {
   "display_name": "Python 3 (ipykernel)",
   "language": "python",
   "name": "python3"
  },
  "language_info": {
   "codemirror_mode": {
    "name": "ipython",
    "version": 3
   },
   "file_extension": ".py",
   "mimetype": "text/x-python",
   "name": "python",
   "nbconvert_exporter": "python",
   "pygments_lexer": "ipython3",
   "version": "3.9.12"
  }
 },
 "nbformat": 4,
 "nbformat_minor": 5
}
