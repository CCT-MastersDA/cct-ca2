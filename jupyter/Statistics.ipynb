{
 "cells": [
  {
   "cell_type": "markdown",
   "id": "cdd091db-19c0-45eb-93fc-62067d9249ff",
   "metadata": {},
   "source": [
    "# CA2 - Statistical Insights on Agriculture in Ireland and EU"
   ]
  },
  {
   "cell_type": "markdown",
   "id": "1898b4c9-5ab0-4769-a1b2-26fc80e99f8b",
   "metadata": {},
   "source": [
    "## Overview\n",
    "\n",
    "In this notebook, the following agriculture datasets were analysed, focusing on Ireland and other similar countries in the EU:\n",
    "\n",
    "- Organic Farming Growth\n",
    "- Agriculture Import/Export Trade\n",
    "- Food Price Inflation\n",
    "\n",
    "The datasets were studied and the following statistical techniques were applied:\n",
    "\n",
    "- Confidence interval\n",
    "\n",
    "- Hypoteshis tests:\n",
    "    - Shapiro\n",
    "    - Levene\n",
    "    - Non-parametric tests:\n",
    "        - Kruskal\n",
    "        - Mannwhitneyu\n",
    "        - Wilcoxon\n",
    "    - Parametric test:\n",
    "        - Anova One-Way\n",
    "\n",
    "This notebook is divided into two parts (i) Confidence Interval and (ii) Hypothesis tests. \n",
    "\n",
    "In the first part, the Organic Farming dataset were used to find a confidence interval for the average area under organic farming in the EU.\n",
    "\n",
    "In the second part, the Import/Export and Food Price Inflation datasets were checked against some inferential statistics tests."
   ]
  },
  {
   "cell_type": "markdown",
   "id": "84fe25a5-00b2-46c0-b91f-d06be7e2125b",
   "metadata": {},
   "source": [
    "## Auxiliary Functions\n",
    "\n",
    "In this section, the auxiliary functions used in this notebook were implemented."
   ]
  },
  {
   "cell_type": "code",
   "execution_count": 1,
   "id": "1b8d2dac-095d-4119-a0b6-d20663825718",
   "metadata": {
    "tags": []
   },
   "outputs": [],
   "source": [
    "# adding modules folder to the path\n",
    "import sys\n",
    "sys.path.append('./modules')\n",
    "\n",
    "# importing constants defined for this project\n",
    "from constants import *\n",
    "\n",
    "# importing modules specific to this notebook\n",
    "# uncomment to install any missing lib\n",
    "#!pip install altair\n",
    "#!pip install pingouin\n",
    "from IPython.display import Image\n",
    "from pingouin import kruskal\n",
    "from math import sqrt\n",
    "from scipy.stats import wilcoxon\n",
    "from scipy.stats import levene\n",
    "from scipy import stats\n",
    "from statsmodels.formula.api import ols\n",
    "import pandas as pd\n",
    "import numpy as np\n",
    "import statsmodels.api as sm\n",
    "import matplotlib.pyplot as plt\n",
    "\n",
    "def is_dist_normal(data_col):\n",
    "    \"\"\"\n",
    "    This function applies the Shapiro test to decide\n",
    "    if the data is from a normal distribution or not.\n",
    "\n",
    "    Parameters:\n",
    "        data_col (data series): DataSeries\n",
    "    Return:\n",
    "        (bool): True if data is normal, false otherwise.\n",
    "    \"\"\"\n",
    "    shapiro_test = stats.shapiro(data_col)\n",
    "    if shapiro_test.pvalue > 0.05:\n",
    "        return True\n",
    "    return False\n",
    "    \n",
    "def plot_col_graph(data_col, title=''):\n",
    "    \"\"\"\n",
    "    This function plots a graph for the column specified\n",
    "    in the input.\n",
    "\n",
    "    Parameters:\n",
    "        data_col (data series): DataSeries\n",
    "    \"\"\"\n",
    "    fig = plt.figure()\n",
    "    ax = fig.add_subplot(111)\n",
    "    stats.probplot(data_col, plot=ax)\n",
    "    ax.set_title(title)\n",
    "\n",
    "def get_non_empty_rows(col_data):\n",
    "    \"\"\"\n",
    "    This function removes empty rows from data frame series (column).\n",
    "\n",
    "    Parameters:\n",
    "        col_data (pd.Series): DataFrame series\n",
    "    Returns:\n",
    "        Non empty rows\n",
    "    \"\"\"\n",
    "    null_filter = col_data.notnull()\n",
    "    return col_data[null_filter]\n",
    "\n",
    "def conf_int_ts_student(mean, std, n, alpha=.97):\n",
    "    \"\"\"\n",
    "    This function calculates the confidence interval for the given paramters.\n",
    "    \n",
    "    Parameters:\n",
    "        mean (num): Average of the sample\n",
    "        std  (num): Standard deviation of the sample\n",
    "        n    (int): Size of sample\n",
    "    Returns:\n",
    "        (num, num): (lower limit, upper limit)\n",
    "    \"\"\"\n",
    "    t = abs(stats.t.ppf((1 - alpha)/2, n - 1))\n",
    "    interval = t * std/sqrt(n - 1)\n",
    "    return mean - interval, mean + interval\n",
    "\n",
    "def get_stats_array(stats_dict, val='mean'):\n",
    "    \"\"\"\n",
    "    This function extracts the stats from the dictionary into a numpy array.\n",
    "    \n",
    "    Parameters:\n",
    "        stats_dict (dict): Dictionary with custom statistics\n",
    "        val         (str): Measurement to return (must be one of [mean, std, count, ll, ul])\n",
    "    Returns:\n",
    "        np array with values as per parameter or empty if input is invalid.\n",
    "    \"\"\"\n",
    "    if val not in ['mean', 'std', 'count', 'll', 'ul']:\n",
    "        return np.array([])\n",
    "    return np.array(list([stats_dict[year][val] for year in stats_dict]))"
   ]
  },
  {
   "cell_type": "markdown",
   "id": "011105df-6964-40f7-8a9a-873d3247ff0e",
   "metadata": {},
   "source": [
    "## Confidence Interval\n",
    "\n",
    "For this study, the organic farming data from Eurostat portal were used.\n",
    "\n",
    "In this analysis the sample data on the growth of organic farming in several European countries were used to obtain a confidence interval of the same growth in Europe (population) over the years.\n",
    "\n",
    "The steps of this analysis were detailed in the section below."
   ]
  },
  {
   "cell_type": "markdown",
   "id": "f09448f3-daa4-4c67-8c2b-c48559a23327",
   "metadata": {},
   "source": [
    "### Organic Farming\n",
    "\n",
    "Eurostat provides yearly data on the percent of UAA (utilized agricultural area) under organic farming per country in Europe.\n",
    "\n",
    "Problem: What is the average percent of land of the total UAA that is occupied by organic farming in Europe as a whole? How does it compare to Ireland?\n",
    "\n",
    "- Available data:\n",
    "\n",
    "    * Percent of total UAA under organic farming by year by country in Europe.\n",
    "\n",
    "- Approach:\n",
    "\n",
    "    * Use countries data (samples) to find a confidence interval for the total UAA under organic farming in Europe (population) per year. \n",
    "\n",
    "    * Compare the growth rate of organic farming in Europe with Ireland."
   ]
  },
  {
   "cell_type": "markdown",
   "id": "2a2e776a-a8bd-4f29-bfbf-f822822410a6",
   "metadata": {},
   "source": [
    "### Data Preparation and Visualization\n",
    "\n",
    "The steps performed to prepare this dataset were implemented in a separate Jupyter notebook called DataPrepVis under this directory.\n",
    "\n",
    "Thus, the processed datasets were used directly in this notebook."
   ]
  },
  {
   "cell_type": "code",
   "execution_count": null,
   "id": "40ef482d-763d-4f98-a07c-248349685e91",
   "metadata": {
    "tags": []
   },
   "outputs": [],
   "source": [
    "# getting organic farm dataset processed dataset\n",
    "dataset = pd.read_csv(join(DATA_PREP_FOLDER, ORG_FARM_DATASET), encoding='utf-8')\n",
    "dataset.head()"
   ]
  },
  {
   "cell_type": "code",
   "execution_count": null,
   "id": "9a2dd243-2164-49fd-b0a3-d1e889afd6be",
   "metadata": {},
   "outputs": [],
   "source": [
    "# getting irish organic farm dataset processed dataset\n",
    "dataset_ire = pd.read_csv(join(DATA_PREP_FOLDER, ORG_FARM_DATASET_IRE), encoding='utf-8')\n",
    "dataset_ire.head()"
   ]
  },
  {
   "cell_type": "markdown",
   "id": "a79c89f7-a2bf-43f2-8b84-19371d6df88c",
   "metadata": {},
   "source": [
    "### Analysis\n",
    "\n",
    "For each year (column) it was calculated the standard deviation and average of the percent of land under organic farming in all European countries in the dataset.\n",
    "\n",
    "This way, it was possible to calculate the confidence interval of the population (Europe) per year.\n",
    "\n",
    "For each year, it was stored the standard deviation, mean, lower and upper limit obtained from the confidence interval calculation."
   ]
  },
  {
   "cell_type": "code",
   "execution_count": null,
   "id": "48d72521-d055-46e2-96a7-7432c69e9ffe",
   "metadata": {
    "tags": []
   },
   "outputs": [],
   "source": [
    "# calculate descriptive stats (standard deviation and average) of the sample data - without nulls\n",
    "stats_dict = {}\n",
    "for c in dataset.keys():\n",
    "    dataset_c = get_non_empty_rows(dataset[c])\n",
    "    desc_stats = dataset_c.describe()\n",
    "    stats_dict[c] = {'std': desc_stats.loc['std'],\n",
    "                     'mean': desc_stats.loc['mean'],\n",
    "                     'count': desc_stats.loc['count']}\n",
    "    stats_dict[c]['ll'], stats_dict[c]['ul'] = conf_int_ts_student(stats_dict[c]['mean'], stats_dict[c]['std'],  stats_dict[c]['count'])\n",
    "stats_dict"
   ]
  },
  {
   "cell_type": "markdown",
   "id": "6cafa6a2-a6a6-4e2f-8bc6-4fe70f41acef",
   "metadata": {},
   "source": [
    "### Results\n",
    "\n",
    "In this section, the results of the confidence interval obtained in the previous step were plotted into a graph.\n",
    "\n",
    "This way, it's possible to observe how the size of organic farming has grown in Ireland as compared to Europe, using the confidence interval calculated from the sample data."
   ]
  },
  {
   "cell_type": "code",
   "execution_count": null,
   "id": "fef8c342-3038-477e-85be-df9cb614c2cd",
   "metadata": {
    "tags": []
   },
   "outputs": [],
   "source": [
    "# get x data\n",
    "x = np.array(list(stats_dict.keys()))\n",
    "\n",
    "# get y data\n",
    "y = get_stats_array(stats_dict, 'mean')\n",
    "\n",
    "# get ll data\n",
    "ll = get_stats_array(stats_dict, 'll')\n",
    "\n",
    "# get ul data\n",
    "ul = get_stats_array(stats_dict, 'ul')\n",
    "\n",
    "# get ireland's data only\n",
    "ire = dataset_ire.to_numpy().reshape(x.shape[0],)\n",
    "\n",
    "# plot graph with europe and irelands data\n",
    "fig, ax = plt.subplots(figsize=(15, 8))\n",
    "ax.plot(x, y, label='Europe')\n",
    "ax.set_title('Confidence interval for the percent of UAA under organic farming in Europe obtained from sample data over the years')\n",
    "ax.set_xlabel('Year')\n",
    "ax.set_ylabel('Percent of UAA under organic farming')\n",
    "ax.fill_between(x, ll, ul, color='b', alpha=.1)\n",
    "ax.plot(x, ire, label='Ireland')\n",
    "plt.legend(loc=2)"
   ]
  },
  {
   "cell_type": "markdown",
   "id": "cabfac82-1e0a-46e4-a5aa-e54b03e84429",
   "metadata": {},
   "source": [
    "Based on the confidence interval calculated it is possible to say that in 2020, for instance, the percent of UAA under organic farming in Europe was between 6.14% and 11.18%.\n",
    "\n",
    "This interval is accurate, because according to the <a href=\"https://agridata.ec.europa.eu/extensions/CountryFactsheets/CountryFactsheets.html?memberstate=Ireland#\">Agridata</a>, in 2020, the percent of land under organic farming in Europe was about 9%."
   ]
  },
  {
   "cell_type": "markdown",
   "id": "adb07ade-0525-41f4-a6a1-607895973bd6",
   "metadata": {},
   "source": [
    "## Hypothesis Tests\n",
    "\n",
    "In this section, two datasets were analyzed using hypotesis tests in order to compare their populations mean and variance."
   ]
  },
  {
   "cell_type": "markdown",
   "id": "970e2405-f994-49fb-be15-13815aa4848a",
   "metadata": {},
   "source": [
    "### Agriculture Import/Export Trade\n",
    "\n",
    "FAO provides data on the import/export of crops and livestocks products from several countries with data ranging from 1961 up to 2020.\n",
    "\n",
    "Finland, Slovakia and Ireland have about the same population according to the Word Population Review website, so it is roughly assumed they are similar countries.\n",
    "\n",
    "In this study, the data about the import and export of agricultural products from these countries are compared using inferential statistics tests."
   ]
  },
  {
   "cell_type": "markdown",
   "id": "9f0330ff-976b-4f7d-b78c-ec2640e5e6f0",
   "metadata": {
    "tags": []
   },
   "source": [
    "#### Data Preparation and Visualization\n",
    "\n",
    "The steps performed to prepare this dataset were implemented in a separate Jupyter notebook called DataPrepVis under this directory.\n",
    "\n",
    "Thus, the processed datasets were used directly in this notebook."
   ]
  },
  {
   "cell_type": "code",
   "execution_count": null,
   "id": "4bafd0ce-c50a-4e6a-b2b1-5a64baa13120",
   "metadata": {
    "tags": []
   },
   "outputs": [],
   "source": [
    "# getting import/export val processed dataset\n",
    "im_ex_val_data = pd.read_csv(join(DATA_PREP_FOLDER, IMP_EXP_DATASET_VAL), encoding='utf-8')\n",
    "im_ex_val_data.head()"
   ]
  },
  {
   "cell_type": "code",
   "execution_count": null,
   "id": "9d77dccb-5db1-4eb0-857c-f110e63bc139",
   "metadata": {},
   "outputs": [],
   "source": [
    "# getting import/export quantity processed dataset\n",
    "im_ex_qtt_data = pd.read_csv(join(DATA_PREP_FOLDER, IMP_EXP_DATASET_QTT), encoding='utf-8')\n",
    "im_ex_qtt_data.head()"
   ]
  },
  {
   "cell_type": "markdown",
   "id": "d7aac33c-80b9-4db9-8d8e-bc64137dd5f5",
   "metadata": {
    "tags": []
   },
   "source": [
    "As shown below, Slovakia data covers a period of time between 1993 and 2020. \n",
    "\n",
    "Finland and Ireland have data starting from 1961, so this information was taken into account when comparing data between the countries."
   ]
  },
  {
   "cell_type": "code",
   "execution_count": null,
   "id": "0b6a6f5d-dd2d-4758-86a6-314e5d9f7a3c",
   "metadata": {},
   "outputs": [],
   "source": [
    "# date range for Slovakia dataset\n",
    "print(im_ex_qtt_data[im_ex_qtt_data['Area']=='Slovakia'].Year.sort_values().unique())\n",
    "\n",
    "# date range for Ireland dataset\n",
    "print(im_ex_qtt_data[im_ex_qtt_data['Area']=='Ireland'].Year.sort_values().unique())\n",
    "\n",
    "# date range for Finland dataset\n",
    "print(im_ex_qtt_data[im_ex_qtt_data['Area']=='Finland'].Year.sort_values().unique())"
   ]
  },
  {
   "cell_type": "markdown",
   "id": "495d1871-3e05-4bf0-8fff-e4a04157bb16",
   "metadata": {},
   "source": [
    "The graph below shows the summarized (average) import/export quantities and values per country by year, respectivelly.\n",
    "\n",
    "This way, it was possible to visualize the differences between the countries better, which helps to explain the results obtained by the inferential tests."
   ]
  },
  {
   "cell_type": "code",
   "execution_count": null,
   "id": "c018ad84-b050-4ca2-8c42-13d0e05bf135",
   "metadata": {
    "tags": []
   },
   "outputs": [],
   "source": [
    "Image(filename=join(IMAGES_FOLDER, GRAPH_IMP_EXP_QTT))"
   ]
  },
  {
   "cell_type": "code",
   "execution_count": null,
   "id": "f5fd665f-2973-4cf2-8094-113a8109ec11",
   "metadata": {},
   "outputs": [],
   "source": [
    "Image(filename=join(IMAGES_FOLDER, GRAPH_IMP_EXP_VAL))"
   ]
  },
  {
   "cell_type": "markdown",
   "id": "845f59b0-a1f3-43d0-b4a7-5c71255983b3",
   "metadata": {},
   "source": [
    "According to the graphs, Ireland's import and export numbers are higher than the other countries, mainly in terms of export values in US$ (Graph 4).\n",
    "\n",
    "Regarding Slovakia and Finland, they import about the same quantity and values, having slighlty different behaviour with regards to the export numbers, where Slovakia shows more exports than Finland."
   ]
  },
  {
   "cell_type": "markdown",
   "id": "7471a89d-41d8-4e9c-aa61-6b44978aa201",
   "metadata": {},
   "source": [
    "#### Analysis\n",
    "\n",
    "In this section the import/export data from each country are compared using inferential statistics tests in order to validate if their trade are similar.\n",
    "\n",
    "The summarized import/export data are calculated for all countries. Comparisons with Slovakia should use data from 1993 until 2020 only due to Slovakia's lack of older data."
   ]
  },
  {
   "cell_type": "code",
   "execution_count": null,
   "id": "d5b63b70-ea4f-473b-a9df-9600cd1783de",
   "metadata": {},
   "outputs": [],
   "source": [
    "# getting the average quantity of tonnes of import/export a year\n",
    "imp_ex_qtt_avg = im_ex_qtt_data.groupby(by=['Year', 'Element', 'Area'], as_index=False).mean().sort_values(by=['Year'], ignore_index=True)\n",
    "\n",
    "# getting the average value in US$ of import/export a year\n",
    "imp_ex_val_avg = im_ex_val_data.groupby(by=['Year', 'Element', 'Area'], as_index=False).mean().sort_values(by=['Year'], ignore_index=True)"
   ]
  },
  {
   "cell_type": "markdown",
   "id": "f85d43e8-9e6a-4ac5-8f33-37adee9daf51",
   "metadata": {},
   "source": [
    "##### Import/Export probability distributions - Shapiro Test\n",
    "\n",
    "First it's necessary to check if the import/export data are normally distributted in order to decide which inferential test to apply.\n",
    "\n",
    "From the distribution plotted below it was observed the data is not normally distributed. Using Shapiro test to confirm that hypotesis."
   ]
  },
  {
   "cell_type": "code",
   "execution_count": null,
   "id": "efa8848f-52a8-422b-b4df-a48f9a251849",
   "metadata": {
    "tags": []
   },
   "outputs": [],
   "source": [
    "# checking import/export quantity average data are normal\n",
    "for c in list(imp_ex_qtt_avg.Area.unique()):\n",
    "    for e in list(imp_ex_qtt_avg.Element.unique()):\n",
    "        data = imp_ex_qtt_avg[(imp_ex_qtt_avg['Area'] == c)&(imp_ex_qtt_avg['Element'] == e)].Value\n",
    "        plot_col_graph(data, f'Prob. distribution of {e} in {c}')\n",
    "        print(f'Is {e} from {c} normally distributed? {isDistNormal(data)}')"
   ]
  },
  {
   "cell_type": "markdown",
   "id": "3c742aea-585c-4a2e-80fd-3589d8d881d1",
   "metadata": {},
   "source": [
    "##### Import/Export between Slovakia and Finland - Kruskal Test\n",
    "\n",
    "Since data is not normally distributed, Kruskal test will be applied to check if populations of both Finland and Slovakia are similar or not.\n",
    "\n",
    "Since Slovakia data is being tested, it was used data 1993 until 2020, so both datasets are aligned."
   ]
  },
  {
   "cell_type": "code",
   "execution_count": null,
   "id": "7062ab6e-5ace-4522-9667-0236d6bd0f6f",
   "metadata": {},
   "outputs": [],
   "source": [
    "# compare Slovakia and Finland import quantity data\n",
    "data = imp_ex_qtt_avg[(imp_ex_qtt_avg['Element'] == 'Import Quantity')&(imp_ex_qtt_avg['Area'].isin(['Slovakia', 'Finland']))&(imp_ex_qtt_avg['Year'] >= 1993)]\n",
    "kruskal(data=data, dv='Value', between='Area')"
   ]
  },
  {
   "cell_type": "code",
   "execution_count": null,
   "id": "f073fba7-c6c7-44e1-9343-a6570ad2db85",
   "metadata": {},
   "outputs": [],
   "source": [
    "# compare Slovakia and Finland import value data\n",
    "data = imp_ex_val_avg[(imp_ex_val_avg['Element'] == 'Import Value')&(imp_ex_val_avg['Area'].isin(['Slovakia', 'Finland']))&(imp_ex_val_avg['Year'] >= 1993)]\n",
    "kruskal(data=data, dv='Value', between='Area')"
   ]
  },
  {
   "cell_type": "code",
   "execution_count": null,
   "id": "d0fb26ee-ab24-424a-a666-55f394ec7b7c",
   "metadata": {},
   "outputs": [],
   "source": [
    "# compare Slovakia and Finland export quantity data\n",
    "data = imp_ex_qtt_avg[(imp_ex_qtt_avg['Element'] == 'Export Quantity')&(imp_ex_qtt_avg['Area'].isin(['Slovakia', 'Finland']))&(imp_ex_qtt_avg['Year'] >= 1993)]\n",
    "kruskal(data=data, dv='Value', between='Area')"
   ]
  },
  {
   "cell_type": "code",
   "execution_count": null,
   "id": "fccdc7ab-1162-4db6-9756-8fac2d5988b7",
   "metadata": {},
   "outputs": [],
   "source": [
    "# compare Slovakia and Finland export value data\n",
    "data = imp_ex_val_avg[(imp_ex_val_avg['Element'] == 'Export Value')&(imp_ex_val_avg['Area'].isin(['Slovakia', 'Finland']))&(imp_ex_val_avg['Year'] >= 1993)]\n",
    "kruskal(data=data, dv='Value', between='Area')"
   ]
  },
  {
   "cell_type": "markdown",
   "id": "f86ee57d-2967-4194-bedb-3caa233bd464",
   "metadata": {},
   "source": [
    "Based on the results from the Kruskal test and assuming 5% significance level, it was possible to conclude that, Finland and Slovakia are different regarding their export quantity. However, both countries have similar average import value and quantity as well as export value of crops and livestock products.\n",
    "\n",
    "This result can be verified by checking the graphs in the previous section, where it was observed that the curves for these countries are very close to each other."
   ]
  },
  {
   "cell_type": "markdown",
   "id": "bb4aceaa-cbda-4dd1-9b40-30c687789ee9",
   "metadata": {},
   "source": [
    "##### Import/Export between Ireland and Finland - Kruskal Test\n",
    "\n",
    "The same test was applied to compare Ireland and Finland."
   ]
  },
  {
   "cell_type": "code",
   "execution_count": null,
   "id": "2dd27024-ec76-4a10-9a08-f17151655abe",
   "metadata": {
    "tags": []
   },
   "outputs": [],
   "source": [
    "# compare Ireland and Finland import quantity data\n",
    "data = imp_ex_qtt_avg[(imp_ex_qtt_avg['Element'] == 'Import Quantity')&(imp_ex_qtt_avg['Area'].isin(['Ireland', 'Finland']))]\n",
    "kruskal(data=data, dv='Value', between='Area')"
   ]
  },
  {
   "cell_type": "code",
   "execution_count": null,
   "id": "94a02be8-f4f7-44a6-84b0-37b6683d8c03",
   "metadata": {},
   "outputs": [],
   "source": [
    "# compare Ireland and Finland import value data\n",
    "data = imp_ex_val_avg[(imp_ex_val_avg['Element'] == 'Import Value')&(imp_ex_val_avg['Area'].isin(['Ireland', 'Finland']))]\n",
    "kruskal(data=data, dv='Value', between='Area')"
   ]
  },
  {
   "cell_type": "code",
   "execution_count": null,
   "id": "67d1aca9-d5f7-46da-8f64-d28441205b7c",
   "metadata": {},
   "outputs": [],
   "source": [
    "# compare Ireland and Finland export quantity data\n",
    "data = imp_ex_qtt_avg[(imp_ex_qtt_avg['Element'] == 'Export Quantity')&(imp_ex_qtt_avg['Area'].isin(['Ireland', 'Finland']))]\n",
    "kruskal(data=data, dv='Value', between='Area')"
   ]
  },
  {
   "cell_type": "code",
   "execution_count": null,
   "id": "c20073fa-89ee-44ec-a5d3-053fd4c24410",
   "metadata": {},
   "outputs": [],
   "source": [
    "# compare Ireland and Finland export value data\n",
    "data = imp_ex_val_avg[(imp_ex_val_avg['Element'] == 'Export Value')&(imp_ex_val_avg['Area'].isin(['Ireland', 'Finland']))]\n",
    "kruskal(data=data, dv='Value', between='Area')"
   ]
  },
  {
   "cell_type": "markdown",
   "id": "831ba616-6f84-48cc-904b-1ad2f2962142",
   "metadata": {},
   "source": [
    "Based on the results from the Kruskal test and assuming 5% significance level, it was possible to conclude that Ireland and Finland are similar regarding their import values. \n",
    "\n",
    "However, there is evidence to say these two countries differ on their import quantity and export quantity and values average.\n",
    "\n",
    "This result can be verified by checking the graphs in the previous section, where it was observed that these countries curves are distant from each other in most of the cases, expect for their import values."
   ]
  },
  {
   "cell_type": "markdown",
   "id": "797902b1-c2e0-4064-a691-dcd72b26eb8e",
   "metadata": {},
   "source": [
    "##### Import/Export between Ireland and Finland - Mann-Whitneyu Test\n",
    "\n",
    "Using another non-parametric test to confirm results obtained from Kruskal. \n",
    "\n",
    "Validating the results when comparing Ireland and Finland trade data."
   ]
  },
  {
   "cell_type": "code",
   "execution_count": null,
   "id": "7511f049-121c-4ef2-a818-96217667de7d",
   "metadata": {},
   "outputs": [],
   "source": [
    "# getting only the necessary import data to apply the inferential test\n",
    "im_value_ire = imp_ex_val_avg[(imp_ex_val_avg['Element'] == 'Import Value')&(imp_ex_val_avg['Area'] == 'Ireland')]\n",
    "im_value_fin = imp_ex_val_avg[(imp_ex_val_avg['Element'] == 'Import Value')&(imp_ex_val_avg['Area'] == 'Finland')]\n",
    "stats.mannwhitneyu(im_value_ire['Value'], im_value_fin['Value'])"
   ]
  },
  {
   "cell_type": "code",
   "execution_count": null,
   "id": "29bf25c8-021f-44c1-a0c1-549e2bd4be60",
   "metadata": {},
   "outputs": [],
   "source": [
    "# getting only the necessary export data to apply the inferential test\n",
    "im_value_ire = imp_ex_val_avg[(imp_ex_val_avg['Element'] == 'Export Value')&(imp_ex_val_avg['Area'] == 'Ireland')]\n",
    "ex_value_ire = imp_ex_val_avg[(imp_ex_val_avg['Element'] == 'Export Value')&(imp_ex_val_avg['Area'] == 'Finland')]\n",
    "stats.mannwhitneyu(im_value_ire['Value'], ex_value_ire['Value'])"
   ]
  },
  {
   "cell_type": "markdown",
   "id": "f4362602-9f2d-44cb-931f-a8f0c2019c39",
   "metadata": {},
   "source": [
    "The above results confirm that, with 5% of significance level, Ireland and Finland are similar in the import value only, whereas in the other aspects there is enough evidence to confirm they have different trading average."
   ]
  },
  {
   "cell_type": "markdown",
   "id": "3f956067-1218-41c1-bc51-e73c8c8b91ec",
   "metadata": {},
   "source": [
    "#### Results\n",
    "\n",
    "According to the tests above, Finland and Slovakia are similar countries with regards to import and export of agricultural products. They only differ in the quantity of goods that are exported from each country.\n",
    "\n",
    "Ireland, on the other hand exports and import much more than the other two countries, which was confirmed by the inferential tests that showed the average of import/export between Ireland and Finland are substantially different."
   ]
  },
  {
   "cell_type": "markdown",
   "id": "8b1dd688-fb3a-4e78-b2c7-7b8fb4d47a05",
   "metadata": {},
   "source": [
    "### Food price inflation\n",
    "\n",
    "FAO provides data on the food price inflation from several countries with data from 2001 up to 2022.\n",
    "\n",
    "Finland, Slovakia and Ireland have about the same population according to the Word Population Review website, so it is roughly assumed they are similar countries.\n",
    "\n",
    "In this study, the data about the food price inflation from these countries are compared using inferential statistics tests."
   ]
  },
  {
   "cell_type": "markdown",
   "id": "e2723ebd-1994-4da6-80e6-ab1dd1058b2a",
   "metadata": {},
   "source": [
    "#### Data Preparation and Visualization\n",
    "\n",
    "The steps performed to prepare this dataset were implemented in a separate Jupyter notebook called DataPrepVis under this directory.\n",
    "\n",
    "Thus, the processed datasets were used directly in this notebook."
   ]
  },
  {
   "cell_type": "code",
   "execution_count": null,
   "id": "e47c0535-ba05-40b0-aeb9-6d52f8eccb0a",
   "metadata": {},
   "outputs": [],
   "source": [
    "# getting the food price inflation processed dataset\n",
    "dataset = pd.read_csv(join(DATA_PREP_FOLDER, FOOD_INF_DATASET), encoding='utf-8')\n",
    "dataset.head()"
   ]
  },
  {
   "cell_type": "markdown",
   "id": "e03b1a27-f77e-43c0-afe6-e111af5ec212",
   "metadata": {},
   "source": [
    "The graph below shows the summarized food price inflation per country by year. \n",
    "\n",
    "This way, it is possible to visualize the differences between the countries over the years."
   ]
  },
  {
   "cell_type": "code",
   "execution_count": null,
   "id": "8ed72fe0-f0bc-49eb-83f9-39dc8d547a8d",
   "metadata": {
    "tags": []
   },
   "outputs": [],
   "source": [
    "Image(filename=join(IMAGES_FOLDER, GRAPH_FOOD_PRICE_INF))"
   ]
  },
  {
   "cell_type": "markdown",
   "id": "83eea542-daa6-4695-8b70-9c8d79953bbc",
   "metadata": {},
   "source": [
    "According to the graph, Slovakia presents the highest food inflation among the three countries, whereas Ireland has the lowest numbers."
   ]
  },
  {
   "cell_type": "markdown",
   "id": "01680c41-50db-4a4a-a737-720825d55d12",
   "metadata": {},
   "source": [
    "#### Analysis\n",
    "\n",
    "In this section the food price inflation data from each country are compared using inferential statistics tests in order to validate if their average inflation are similar.\n",
    "\n",
    "The summarized inflation dataset was obtaind from the processed datasets folder."
   ]
  },
  {
   "cell_type": "code",
   "execution_count": null,
   "id": "eacfeda8-9147-4db3-8df3-87aa34a8b906",
   "metadata": {},
   "outputs": [],
   "source": [
    "# getting the summarized food price inflation processed dataset\n",
    "food_inf_avg = pd.read_csv(join(DATA_PREP_FOLDER, FOOD_INF_DATASET_AVG), encoding='utf-8')\n",
    "food_inf_avg.head()"
   ]
  },
  {
   "cell_type": "markdown",
   "id": "56776588-50a0-40ad-8daf-ffeb1c9c4a71",
   "metadata": {},
   "source": [
    "##### Food price inflation probability distributions - Shapiro Test\n",
    "\n",
    "First it's necessary to check if the summarized inflation data are normally distributted in order to decide which inferential test to apply.\n",
    "\n",
    "From the distribution plotted below it was observed the data is normally distributed for Finland and Ireland only. Using Shapiro test to confirm that hypotesis."
   ]
  },
  {
   "cell_type": "code",
   "execution_count": null,
   "id": "1d78f195-1cc0-40cc-a8cb-c6b2da75d459",
   "metadata": {},
   "outputs": [],
   "source": [
    "# checking food price inflation data are normal\n",
    "for c in list(food_inf_avg.Area.unique()):\n",
    "    data = food_inf_avg[food_inf_avg['Area'] == c].Value\n",
    "    plotColGraph(data, f'Prob. distribution of food price inflation in {c}')\n",
    "    print(f'Is food price inflation from {c} normally distributed? {is_dist_normal(data)}')"
   ]
  },
  {
   "cell_type": "markdown",
   "id": "d04c2414-85e5-4ee7-ae84-4c9f634e9488",
   "metadata": {},
   "source": [
    "##### Food price inflation between Ireland and Finland - Wilcoxon Test\n",
    "\n",
    "Using non-parametric test to compare the aggregated food price inflation between Ireland and Finland."
   ]
  },
  {
   "cell_type": "code",
   "execution_count": null,
   "id": "0143c324-d6fc-4a8e-9108-8345ff284683",
   "metadata": {},
   "outputs": [],
   "source": [
    "# use wilcoxon stats test to compare inflation between Ireland and Finland\n",
    "wilcoxon(food_inf_avg[food_inf_avg['Area'] == 'Ireland'].Value, food_inf_avg[food_inf_avg['Area'] == 'Finland'].Value)"
   ]
  },
  {
   "cell_type": "markdown",
   "id": "990fd358-b2cc-4931-87a6-40986ee1204d",
   "metadata": {},
   "source": [
    "The result above shows that, with 5% of significance level, the average food price inflation are not similar between Ireland and Finland."
   ]
  },
  {
   "cell_type": "markdown",
   "id": "9bdb527c-08a3-4ede-84ef-800337019578",
   "metadata": {},
   "source": [
    "##### Food price inflation between Slovakia and Finland - Wilcoxon Test\n",
    "\n",
    "Using non-parametric test to compare the aggregated food price inflation between Slovakia and Finland."
   ]
  },
  {
   "cell_type": "code",
   "execution_count": null,
   "id": "46c2dc1f-08cf-41f8-b7d1-3386e44898db",
   "metadata": {},
   "outputs": [],
   "source": [
    "# use wilcoxon stats test to compare inflation between Finland and Slovakia\n",
    "wilcoxon(food_inf_avg[food_inf_avg['Area'] == 'Slovakia'].Value, food_inf_avg[food_inf_avg['Area'] == 'Finland'].Value)"
   ]
  },
  {
   "cell_type": "markdown",
   "id": "ce4075d6-a7b1-47bd-91f2-fb92fa8b723a",
   "metadata": {},
   "source": [
    "The result above shows that, with 5% of significance level, the average food price inflation are similar between Slovakia and Finland."
   ]
  },
  {
   "cell_type": "markdown",
   "id": "830723d6-2934-4633-bd66-d2063042fd5e",
   "metadata": {},
   "source": [
    "##### Food price inflation between the countries - Levene Test\n",
    "\n",
    "Using Levene test to check if the food price inflation data between Ireland and the other countries have the same variance."
   ]
  },
  {
   "cell_type": "code",
   "execution_count": null,
   "id": "884adf67-e8f7-49bd-8fab-30f0ade2bcb2",
   "metadata": {},
   "outputs": [],
   "source": [
    "# comparing data between Ireland and Slovakia\n",
    "levene(dataset[dataset['Area'] == 'Ireland'].Value, dataset[dataset['Area'] == 'Slovakia'].Value, center='mean')"
   ]
  },
  {
   "cell_type": "code",
   "execution_count": null,
   "id": "107dac8b-68eb-4399-aba8-48d16485f73e",
   "metadata": {},
   "outputs": [],
   "source": [
    "# comparing data between Ireland and Finland\n",
    "levene(dataset[dataset['Area'] == 'Ireland'].Value, dataset[dataset['Area'] == 'Finland'].Value, center='mean')"
   ]
  },
  {
   "cell_type": "code",
   "execution_count": null,
   "id": "197cd6ba-0cb7-4e10-b7de-58759f2135bf",
   "metadata": {},
   "outputs": [],
   "source": [
    "# comparing data between Finland and Slovakia\n",
    "levene(dataset[dataset['Area'] == 'Finland'].Value, dataset[dataset['Area'] == 'Slovakia'].Value, center='mean')"
   ]
  },
  {
   "cell_type": "markdown",
   "id": "feae64b6-646f-452b-b8b6-fa63ebc86c8e",
   "metadata": {},
   "source": [
    "The above results suggest that, with 5% of significance level, there is no significant difference in the variance of the average food price inflation between Ireland and Finland and Finland and Slovakia. \n",
    "\n",
    "However, this result also suggests that, with 5% of significance level, Ireland and Slovakia food price inflation variance are different. \n",
    "\n",
    "These results confirm the first analysis of the graph in the Data Preparation and Visualization step."
   ]
  },
  {
   "cell_type": "markdown",
   "id": "228243d3-2191-483a-afe5-cfb7a1d2e8c6",
   "metadata": {},
   "source": [
    "##### Food price inflation between Finland and Ireland - Anova One Way Test\n",
    "\n",
    "Using parametric test Anova with Ireland and Finland summarized food price inflation dataset as they met the normality requirement as per Shapiro test."
   ]
  },
  {
   "cell_type": "code",
   "execution_count": null,
   "id": "435592a0-ba1c-4b40-bd2b-408453f5cd0e",
   "metadata": {},
   "outputs": [],
   "source": [
    "# using anova one way to compare Ireland and Finland\n",
    "model = ols('Value~Area', data=food_inf_avg[food_inf_avg['Area'].isin(['Ireland', 'Finland'])]).fit()\n",
    "aov = sm.stats.anova_lm(model, type=2)\n",
    "print(aov)"
   ]
  },
  {
   "cell_type": "markdown",
   "id": "27f1c6c5-68d8-4e14-a170-6cecff3d1b50",
   "metadata": {},
   "source": [
    "Based on the above result, with 5% of significance level, there is evidence to say that Ireland and Finland have similar food price inflation."
   ]
  },
  {
   "cell_type": "markdown",
   "id": "1baa4f0f-a477-4cac-8a1d-08f507b35643",
   "metadata": {},
   "source": [
    "#### Results\n",
    "\n",
    "By using different parametric and non-parametric inferential statistics tests it was possible to confirm and validate the food price inflation differences between the countries.\n",
    "\n",
    "Ireland and Finland have similar inflation, while Ireland and Slovakia have significant differences."
   ]
  }
 ],
 "metadata": {
  "kernelspec": {
   "display_name": "Python 3 (ipykernel)",
   "language": "python",
   "name": "python3"
  },
  "language_info": {
   "codemirror_mode": {
    "name": "ipython",
    "version": 3
   },
   "file_extension": ".py",
   "mimetype": "text/x-python",
   "name": "python",
   "nbconvert_exporter": "python",
   "pygments_lexer": "ipython3",
   "version": "3.9.12"
  }
 },
 "nbformat": 4,
 "nbformat_minor": 5
}
