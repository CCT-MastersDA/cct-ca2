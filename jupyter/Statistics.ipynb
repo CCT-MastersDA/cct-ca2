{
 "cells": [
  {
   "cell_type": "markdown",
   "id": "cdd091db-19c0-45eb-93fc-62067d9249ff",
   "metadata": {},
   "source": [
    "# CA2 - Statistical Insights on Agriculture in Ireland and EU"
   ]
  },
  {
   "cell_type": "markdown",
   "id": "1898b4c9-5ab0-4769-a1b2-26fc80e99f8b",
   "metadata": {},
   "source": [
    "## Overview\n",
    "\n",
    "In this section ... insights on agriculture ... different aspects .... applying inferential statistics to find insights ..."
   ]
  },
  {
   "cell_type": "markdown",
   "id": "84fe25a5-00b2-46c0-b91f-d06be7e2125b",
   "metadata": {},
   "source": [
    "## Auxiliary Functions"
   ]
  },
  {
   "cell_type": "code",
   "execution_count": 80,
   "id": "1b8d2dac-095d-4119-a0b6-d20663825718",
   "metadata": {
    "jupyter": {
     "source_hidden": true
    },
    "tags": []
   },
   "outputs": [],
   "source": [
    "from math import sqrt\n",
    "from scipy import stats\n",
    "import warnings\n",
    "import numpy as np\n",
    "import pandas as pd\n",
    "import matplotlib.pyplot as plt\n",
    "\n",
    "warnings.filterwarnings('ignore')\n",
    "\n",
    "def isDistNormal(data_col):\n",
    "    \"\"\"\n",
    "    This function applies the Shapiro test to decide\n",
    "    if the data is from a normal distribution or not.\n",
    "\n",
    "    Parameters:\n",
    "        data_col (data series): DataSeries\n",
    "    Return:\n",
    "        (bool): True if data is normal, false otherwise.\n",
    "    \"\"\"     \n",
    "    shapiro_test = stats.shapiro(data_col)\n",
    "    if shapiro_test.pvalue > 0.05:\n",
    "        return True\n",
    "    return False\n",
    "    \n",
    "def plotColGraph(data_col):\n",
    "    \"\"\"\n",
    "    This function plots a graph for the column specified\n",
    "    in the input.\n",
    "\n",
    "    Parameters:\n",
    "        data_col (data series): DataSeries\n",
    "    \"\"\"    \n",
    "    stats.probplot(data_col, plot=plt)\n",
    "    plt.figure()\n",
    "\n",
    "def removeEmptyRows(data, col):\n",
    "    \"\"\"\n",
    "    This function removes empty rows from data frame based on the\n",
    "    specified column.\n",
    "\n",
    "    Parameters:\n",
    "        data (pd.DataFrame): DataFrame\n",
    "    Returns:\n",
    "        data without empty\n",
    "    \"\"\"\n",
    "    null_filter = data[col].notnull()\n",
    "    return data[null_filter]\n",
    "\n",
    "def getNonEmptyValues(col_data):\n",
    "    \"\"\"\n",
    "    This function removes empty rows from data frame series (column).\n",
    "\n",
    "    Parameters:\n",
    "        col_data (pd.Series): DataFrame series\n",
    "    Returns:\n",
    "        Non empty rows\n",
    "    \"\"\"\n",
    "    null_filter = col_data.notnull()\n",
    "    return col_data[null_filter]\n",
    "\n",
    "def confidenceIntervalTStudent(mean, std, n, alpha=.97):\n",
    "    \"\"\"\n",
    "    This function calculates the confidence interval for the given paramters.\n",
    "    \n",
    "    Parameters:\n",
    "        mean (num): Average of the sample\n",
    "        std  (num): Standard deviation of the sample\n",
    "        n    (int): Size of sample\n",
    "    Returns:\n",
    "        (num, num): (lower limit, upper limit)\n",
    "    \"\"\"\n",
    "    t = abs(stats.t.ppf((1 - alpha)/2, n - 1))\n",
    "    interval = t * std/sqrt(n - 1)\n",
    "    return mean - interval, mean + interval\n",
    "\n",
    "def getStatsArray(stats_dict, val='mean'):\n",
    "    \"\"\"\n",
    "    This function extracts the stats from the dictionary into a numpy array.\n",
    "    \n",
    "    Parameters:\n",
    "        stats_dict (dict): Dictionary with custom statistics\n",
    "        val         (str): Measurement to return (must be one of [mean, std, count, ll, ul])\n",
    "    Returns:\n",
    "        np array with values as per parameter or empty if input is invalid.\n",
    "    \"\"\"\n",
    "    if val not in ['mean', 'std', 'count', 'll', 'ul']:\n",
    "        return np.array([])\n",
    "    return np.array(list([stats_dict[year][val] for year in stats_dict]))"
   ]
  },
  {
   "cell_type": "markdown",
   "id": "011105df-6964-40f7-8a9a-873d3247ff0e",
   "metadata": {},
   "source": [
    "## Confidence Interval\n",
    "\n",
    "In this section bla bla"
   ]
  },
  {
   "cell_type": "markdown",
   "id": "f09448f3-daa4-4c67-8c2b-c48559a23327",
   "metadata": {},
   "source": [
    "### Organic Farming\n",
    "\n",
    "Eurostat provides yearly data on the percent of UAA (utilized agricultural area) under organic farming per country in Europe.\n",
    "\n",
    "Problem: What is the average percent of land of the total UAA that is occupied by organic farming in Europe as a whole? How does it compare to Ireland?\n",
    "\n",
    "- Available data:\n",
    "\n",
    "    * Percent of total UAA under organic farming per year by country.\n",
    "\n",
    "- Approach:\n",
    "\n",
    "    * Use countries data (samples) to find a confidence interval for the total UAA under organic farming in Europe (population) per year. \n",
    "\n",
    "    * Compare the growth rate of organic farming in Europe with Ireland."
   ]
  },
  {
   "cell_type": "markdown",
   "id": "2a2e776a-a8bd-4f29-bfbf-f822822410a6",
   "metadata": {},
   "source": [
    "### Data Preparation"
   ]
  },
  {
   "cell_type": "code",
   "execution_count": null,
   "id": "40ef482d-763d-4f98-a07c-248349685e91",
   "metadata": {
    "jupyter": {
     "source_hidden": true
    },
    "tags": []
   },
   "outputs": [],
   "source": [
    "# showing raw dataset\n",
    "dataset = pd.read_csv('./datasets/organic-farming.csv')\n",
    "dataset.head()"
   ]
  },
  {
   "cell_type": "code",
   "execution_count": null,
   "id": "3e208869-0dda-4d26-81e8-ad28a9f61770",
   "metadata": {
    "jupyter": {
     "source_hidden": true
    },
    "tags": []
   },
   "outputs": [],
   "source": [
    "# cleaning rows to keep only countries data\n",
    "codesCol = dataset.keys()[0]\n",
    "dataset = dataset.loc[~dataset[codesCol].str.contains('EU')]\n",
    "\n",
    "# getting Ireland's data only\n",
    "dataset_ire = dataset.loc[dataset[codesCol] =='IE']\n",
    "\n",
    "# removing first two columns with labels\n",
    "dataset = dataset.iloc[:,2:]\n",
    "dataset_ire = dataset_ire.iloc[:,2:]\n",
    "\n",
    "# converting data into numbers\n",
    "columns = dataset.keys()\n",
    "for c in columns:\n",
    "    dataset[c] = pd.to_numeric(dataset[c], errors='coerce')\n",
    "    dataset_ire[c] = pd.to_numeric(dataset_ire[c], errors='coerce')\n",
    "\n",
    "dataset.describe()"
   ]
  },
  {
   "cell_type": "code",
   "execution_count": null,
   "id": "1034396b-4204-43f1-9632-bd7233272b17",
   "metadata": {
    "jupyter": {
     "source_hidden": true
    },
    "tags": []
   },
   "outputs": [],
   "source": [
    "# checking empty values on full dataset\n",
    "dataset.isnull().sum()"
   ]
  },
  {
   "cell_type": "code",
   "execution_count": null,
   "id": "7f28b2b9-285b-4841-ba23-915db1f85014",
   "metadata": {
    "jupyter": {
     "source_hidden": true
    },
    "tags": []
   },
   "outputs": [],
   "source": [
    "# checking empty values on ireland dataset\n",
    "dataset_ire.isnull().sum()"
   ]
  },
  {
   "cell_type": "code",
   "execution_count": null,
   "id": "48d72521-d055-46e2-96a7-7432c69e9ffe",
   "metadata": {
    "jupyter": {
     "source_hidden": true
    },
    "tags": []
   },
   "outputs": [],
   "source": [
    "# calculate descriptive stats (standard deviation and average) of the sample data \n",
    "stats_dict = {}\n",
    "for c in columns:\n",
    "    dataset_c = getNonEmptyValues(dataset[c])\n",
    "    desc_stats = dataset_c.describe()\n",
    "    stats_dict[c] = {'std': desc_stats.loc['std'], 'mean': desc_stats.loc['mean'], 'count': desc_stats.loc['count']}\n",
    "    stats_dict[c]['ll'], stats_dict[c]['ul'] = confidenceIntervalTStudent(desc_stats.loc['mean'], desc_stats.loc['std'],  desc_stats.loc['count'])\n",
    "stats_dict"
   ]
  },
  {
   "cell_type": "markdown",
   "id": "6cafa6a2-a6a6-4e2f-8bc6-4fe70f41acef",
   "metadata": {},
   "source": [
    "### Data Visualization"
   ]
  },
  {
   "cell_type": "code",
   "execution_count": null,
   "id": "fef8c342-3038-477e-85be-df9cb614c2cd",
   "metadata": {
    "tags": []
   },
   "outputs": [],
   "source": [
    "# plot grapth with the ranges and ireland only data to compare the growht\n",
    "from matplotlib import pyplot as plt\n",
    "\n",
    "# get x data\n",
    "x = np.array(list(stats_dict.keys()))\n",
    "\n",
    "# get y data\n",
    "y = getStatsArray(stats_dict, 'mean')\n",
    "\n",
    "# get ll data\n",
    "ll = getStatsArray(stats_dict, 'll')\n",
    "\n",
    "# get ul data\n",
    "ul = getStatsArray(stats_dict, 'ul')\n",
    "\n",
    "# get ireland's data only\n",
    "ire = dataset_ire.to_numpy().reshape(x.shape[0],)\n",
    "\n",
    "# plot graph with europe and irelands data\n",
    "fig, ax = plt.subplots(figsize=(15, 8))\n",
    "ax.plot(x, y, label='Europe')\n",
    "ax.set_title('Confidence interval for the percent of UAA under organic farming in Europe')\n",
    "ax.set_xlabel('Year')\n",
    "ax.set_ylabel('Percent of UAA under organic farming')\n",
    "ax.fill_between(x, ll, ul, color='b', alpha=.1)\n",
    "ax.plot(x, ire, label='Ireland')\n",
    "plt.legend(loc=2)"
   ]
  },
  {
   "cell_type": "markdown",
   "id": "adb07ade-0525-41f4-a6a1-607895973bd6",
   "metadata": {},
   "source": [
    "## Hypothesis Tests\n",
    "\n",
    "Statistical tests:\n",
    "\n",
    "* Non-parametric:\n",
    "  - Wilcoxon Sign Test\n",
    "  - Kruskal-Wallis\n",
    "  - U-Mann Whitman\n",
    "\n",
    "* Parametric Tests - Normal dist/T student\n",
    "  - Shapiro (test is normal)\n",
    "  - T-tests (2 populations)\n",
    "  - Analysis of Variance\n",
    "    - Anova/Anova 2 way (More than 2 populations/F-test)"
   ]
  },
  {
   "cell_type": "markdown",
   "id": "970e2405-f994-49fb-be15-13815aa4848a",
   "metadata": {},
   "source": [
    "### Agriculture Import/Export Balance\n",
    "\n",
    "FAO provides data on the import quantity of goods from several countries with data from 1961 up to 2020.\n",
    "\n",
    "Finland, Norway and Ireland have about the same population according to the Word Population Review website.\n",
    "\n",
    "In this study, the data about the import and export of agricultural goods from these countries are compared using inferntial statistics tests."
   ]
  },
  {
   "cell_type": "markdown",
   "id": "9f0330ff-976b-4f7d-b78c-ec2640e5e6f0",
   "metadata": {},
   "source": [
    "### Data Preparation"
   ]
  },
  {
   "cell_type": "code",
   "execution_count": 132,
   "id": "4bafd0ce-c50a-4e6a-b2b1-5a64baa13120",
   "metadata": {
    "tags": []
   },
   "outputs": [
    {
     "data": {
      "text/html": [
       "<div>\n",
       "<style scoped>\n",
       "    .dataframe tbody tr th:only-of-type {\n",
       "        vertical-align: middle;\n",
       "    }\n",
       "\n",
       "    .dataframe tbody tr th {\n",
       "        vertical-align: top;\n",
       "    }\n",
       "\n",
       "    .dataframe thead th {\n",
       "        text-align: right;\n",
       "    }\n",
       "</style>\n",
       "<table border=\"1\" class=\"dataframe\">\n",
       "  <thead>\n",
       "    <tr style=\"text-align: right;\">\n",
       "      <th></th>\n",
       "      <th>Domain Code</th>\n",
       "      <th>Domain</th>\n",
       "      <th>Area Code (M49)</th>\n",
       "      <th>Area</th>\n",
       "      <th>Element Code</th>\n",
       "      <th>Element</th>\n",
       "      <th>Item Code (CPC)</th>\n",
       "      <th>Item</th>\n",
       "      <th>Year Code</th>\n",
       "      <th>Year</th>\n",
       "      <th>Unit</th>\n",
       "      <th>Value</th>\n",
       "      <th>Flag</th>\n",
       "      <th>Flag Description</th>\n",
       "    </tr>\n",
       "  </thead>\n",
       "  <tbody>\n",
       "    <tr>\n",
       "      <th>0</th>\n",
       "      <td>TCL</td>\n",
       "      <td>Crops and livestock products</td>\n",
       "      <td>246</td>\n",
       "      <td>Finland</td>\n",
       "      <td>5610</td>\n",
       "      <td>Import Quantity</td>\n",
       "      <td>01929.07</td>\n",
       "      <td>Abaca, manila hemp, raw</td>\n",
       "      <td>1961</td>\n",
       "      <td>1961</td>\n",
       "      <td>tonnes</td>\n",
       "      <td>95.0</td>\n",
       "      <td>A</td>\n",
       "      <td>Official figure</td>\n",
       "    </tr>\n",
       "    <tr>\n",
       "      <th>1</th>\n",
       "      <td>TCL</td>\n",
       "      <td>Crops and livestock products</td>\n",
       "      <td>246</td>\n",
       "      <td>Finland</td>\n",
       "      <td>5610</td>\n",
       "      <td>Import Quantity</td>\n",
       "      <td>01929.07</td>\n",
       "      <td>Abaca, manila hemp, raw</td>\n",
       "      <td>1962</td>\n",
       "      <td>1962</td>\n",
       "      <td>tonnes</td>\n",
       "      <td>32.0</td>\n",
       "      <td>A</td>\n",
       "      <td>Official figure</td>\n",
       "    </tr>\n",
       "    <tr>\n",
       "      <th>2</th>\n",
       "      <td>TCL</td>\n",
       "      <td>Crops and livestock products</td>\n",
       "      <td>246</td>\n",
       "      <td>Finland</td>\n",
       "      <td>5610</td>\n",
       "      <td>Import Quantity</td>\n",
       "      <td>01929.07</td>\n",
       "      <td>Abaca, manila hemp, raw</td>\n",
       "      <td>1963</td>\n",
       "      <td>1963</td>\n",
       "      <td>tonnes</td>\n",
       "      <td>115.0</td>\n",
       "      <td>A</td>\n",
       "      <td>Official figure</td>\n",
       "    </tr>\n",
       "    <tr>\n",
       "      <th>3</th>\n",
       "      <td>TCL</td>\n",
       "      <td>Crops and livestock products</td>\n",
       "      <td>246</td>\n",
       "      <td>Finland</td>\n",
       "      <td>5610</td>\n",
       "      <td>Import Quantity</td>\n",
       "      <td>01929.07</td>\n",
       "      <td>Abaca, manila hemp, raw</td>\n",
       "      <td>1964</td>\n",
       "      <td>1964</td>\n",
       "      <td>tonnes</td>\n",
       "      <td>49.0</td>\n",
       "      <td>A</td>\n",
       "      <td>Official figure</td>\n",
       "    </tr>\n",
       "    <tr>\n",
       "      <th>4</th>\n",
       "      <td>TCL</td>\n",
       "      <td>Crops and livestock products</td>\n",
       "      <td>246</td>\n",
       "      <td>Finland</td>\n",
       "      <td>5610</td>\n",
       "      <td>Import Quantity</td>\n",
       "      <td>01929.07</td>\n",
       "      <td>Abaca, manila hemp, raw</td>\n",
       "      <td>1965</td>\n",
       "      <td>1965</td>\n",
       "      <td>tonnes</td>\n",
       "      <td>42.0</td>\n",
       "      <td>A</td>\n",
       "      <td>Official figure</td>\n",
       "    </tr>\n",
       "  </tbody>\n",
       "</table>\n",
       "</div>"
      ],
      "text/plain": [
       "  Domain Code                        Domain  Area Code (M49)     Area  \\\n",
       "0         TCL  Crops and livestock products              246  Finland   \n",
       "1         TCL  Crops and livestock products              246  Finland   \n",
       "2         TCL  Crops and livestock products              246  Finland   \n",
       "3         TCL  Crops and livestock products              246  Finland   \n",
       "4         TCL  Crops and livestock products              246  Finland   \n",
       "\n",
       "   Element Code          Element Item Code (CPC)                     Item  \\\n",
       "0          5610  Import Quantity        01929.07  Abaca, manila hemp, raw   \n",
       "1          5610  Import Quantity        01929.07  Abaca, manila hemp, raw   \n",
       "2          5610  Import Quantity        01929.07  Abaca, manila hemp, raw   \n",
       "3          5610  Import Quantity        01929.07  Abaca, manila hemp, raw   \n",
       "4          5610  Import Quantity        01929.07  Abaca, manila hemp, raw   \n",
       "\n",
       "   Year Code  Year    Unit  Value Flag Flag Description  \n",
       "0       1961  1961  tonnes   95.0    A  Official figure  \n",
       "1       1962  1962  tonnes   32.0    A  Official figure  \n",
       "2       1963  1963  tonnes  115.0    A  Official figure  \n",
       "3       1964  1964  tonnes   49.0    A  Official figure  \n",
       "4       1965  1965  tonnes   42.0    A  Official figure  "
      ]
     },
     "execution_count": 132,
     "metadata": {},
     "output_type": "execute_result"
    }
   ],
   "source": [
    "# showing raw dataset\n",
    "dataset = pd.read_csv('./datasets/fao-import-export-eu.csv', encoding='utf-8')\n",
    "dataset.head()"
   ]
  },
  {
   "cell_type": "code",
   "execution_count": 133,
   "id": "fe5792a4-b83a-4230-84fc-d56d2f5a337d",
   "metadata": {
    "tags": []
   },
   "outputs": [
    {
     "data": {
      "text/plain": [
       "Domain Code         0\n",
       "Domain              0\n",
       "Area Code (M49)     0\n",
       "Area                0\n",
       "Element Code        0\n",
       "Element             0\n",
       "Item Code (CPC)     0\n",
       "Item                0\n",
       "Year Code           0\n",
       "Year                0\n",
       "Unit                0\n",
       "Value               0\n",
       "Flag                0\n",
       "Flag Description    0\n",
       "dtype: int64"
      ]
     },
     "execution_count": 133,
     "metadata": {},
     "output_type": "execute_result"
    }
   ],
   "source": [
    "# checking empty values on full dataset\n",
    "dataset.isnull().sum()"
   ]
  },
  {
   "cell_type": "code",
   "execution_count": 134,
   "id": "4332be10-a1a1-4fbf-bfc5-729b71c59157",
   "metadata": {
    "tags": []
   },
   "outputs": [
    {
     "data": {
      "text/plain": [
       "array(['Import Quantity', 'Import Value', 'Export Quantity',\n",
       "       'Export Value'], dtype=object)"
      ]
     },
     "execution_count": 134,
     "metadata": {},
     "output_type": "execute_result"
    }
   ],
   "source": [
    "# checking the unit types\n",
    "dataset['Element'].unique()"
   ]
  },
  {
   "cell_type": "markdown",
   "id": "7471a89d-41d8-4e9c-aa61-6b44978aa201",
   "metadata": {},
   "source": [
    "### Data Visualization"
   ]
  },
  {
   "cell_type": "code",
   "execution_count": 135,
   "id": "efa6a950-24ab-4d3e-adb8-c878a22d2d4a",
   "metadata": {
    "tags": []
   },
   "outputs": [
    {
     "data": {
      "text/plain": [
       "array(['1000 US$'], dtype=object)"
      ]
     },
     "execution_count": 135,
     "metadata": {},
     "output_type": "execute_result"
    }
   ],
   "source": [
    "# checking unit for import/export value data\n",
    "im_ex_value_data = dataset[(dataset['Element'].isin(['Import Value', 'Export Value']))]\n",
    "im_ex_value_data['Unit'].unique()"
   ]
  },
  {
   "cell_type": "code",
   "execution_count": 136,
   "id": "61235520-cbfa-4095-bcb0-25dbd4da1274",
   "metadata": {
    "tags": []
   },
   "outputs": [
    {
     "data": {
      "text/plain": [
       "count      97496\n",
       "unique         4\n",
       "top       tonnes\n",
       "freq       94961\n",
       "Name: Unit, dtype: object"
      ]
     },
     "execution_count": 136,
     "metadata": {},
     "output_type": "execute_result"
    }
   ],
   "source": [
    "# checking unit for import/export quantity data\n",
    "im_ex_qtt_data = dataset[(dataset['Element'].isin(['Import Quantity', 'Export Quantity']))]\n",
    "im_ex_qtt_data['Unit'].describe()"
   ]
  },
  {
   "cell_type": "code",
   "execution_count": 137,
   "id": "9fdba0e6-5894-4115-8a91-96c62ac517ca",
   "metadata": {
    "tags": []
   },
   "outputs": [
    {
     "data": {
      "text/plain": [
       "(94961, 14)"
      ]
     },
     "execution_count": 137,
     "metadata": {},
     "output_type": "execute_result"
    }
   ],
   "source": [
    "# since tonnes is the most frequent, removing other units\n",
    "im_ex_qtt_data = im_ex_qtt_data[im_ex_qtt_data['Unit'] == 'tonnes']\n",
    "im_ex_qtt_data.shape"
   ]
  },
  {
   "cell_type": "code",
   "execution_count": 138,
   "id": "9eb49098-5613-4619-820c-c4340e5919d8",
   "metadata": {},
   "outputs": [
    {
     "data": {
      "text/plain": [
       "array(['Finland', 'Ireland', 'Slovakia'], dtype=object)"
      ]
     },
     "execution_count": 138,
     "metadata": {},
     "output_type": "execute_result"
    }
   ],
   "source": [
    "dataset['Area'].unique()"
   ]
  },
  {
   "cell_type": "code",
   "execution_count": 139,
   "id": "efa8848f-52a8-422b-b4df-a48f9a251849",
   "metadata": {
    "tags": []
   },
   "outputs": [
    {
     "data": {
      "image/png": "[encoded data removed]",
      "text/plain": [
       "<Figure size 432x288 with 1 Axes>"
      ]
     },
     "metadata": {
      "needs_background": "light"
     },
     "output_type": "display_data"
    },
    {
     "data": {
      "image/png": "[encoded data removed]",
      "text/plain": [
       "<Figure size 432x288 with 1 Axes>"
      ]
     },
     "metadata": {
      "needs_background": "light"
     },
     "output_type": "display_data"
    },
    {
     "data": {
      "text/plain": [
       "<Figure size 432x288 with 0 Axes>"
      ]
     },
     "metadata": {},
     "output_type": "display_data"
    }
   ],
   "source": [
    "# checking import/export values distribution\n",
    "plotColGraph(im_ex_value_data[im_ex_value_data['Element'] == 'Import Value'].Value)\n",
    "plotColGraph(im_ex_value_data[im_ex_value_data['Element'] == 'Export Value'].Value)"
   ]
  },
  {
   "cell_type": "code",
   "execution_count": 140,
   "id": "84359127-e884-46f8-ac02-99733caad20a",
   "metadata": {
    "tags": []
   },
   "outputs": [
    {
     "data": {
      "text/plain": [
       "False"
      ]
     },
     "execution_count": 140,
     "metadata": {},
     "output_type": "execute_result"
    }
   ],
   "source": [
    "# using shapiro test to verify if the value data is normal\n",
    "isDistNormal(im_ex_value_data.Value)"
   ]
  },
  {
   "cell_type": "code",
   "execution_count": 141,
   "id": "cbac0087-9648-4bc9-a3f6-4a3dc2063264",
   "metadata": {
    "tags": []
   },
   "outputs": [
    {
     "data": {
      "image/png": "[encoded data removed]",
      "text/plain": [
       "<Figure size 432x288 with 1 Axes>"
      ]
     },
     "metadata": {
      "needs_background": "light"
     },
     "output_type": "display_data"
    },
    {
     "data": {
      "image/png": "[encoded data removed]",
      "text/plain": [
       "<Figure size 432x288 with 1 Axes>"
      ]
     },
     "metadata": {
      "needs_background": "light"
     },
     "output_type": "display_data"
    },
    {
     "data": {
      "text/plain": [
       "<Figure size 432x288 with 0 Axes>"
      ]
     },
     "metadata": {},
     "output_type": "display_data"
    }
   ],
   "source": [
    "# checking import/export quantity distribution\n",
    "plotColGraph(im_ex_qtt_data[im_ex_qtt_data['Element'] == 'Import Quantity'].Value)\n",
    "plotColGraph(im_ex_qtt_data[im_ex_qtt_data['Element'] == 'Export Quantity'].Value)"
   ]
  },
  {
   "cell_type": "code",
   "execution_count": 142,
   "id": "2dd27024-ec76-4a10-9a08-f17151655abe",
   "metadata": {
    "tags": []
   },
   "outputs": [
    {
     "data": {
      "text/plain": [
       "False"
      ]
     },
     "execution_count": 142,
     "metadata": {},
     "output_type": "execute_result"
    }
   ],
   "source": [
    "# using shapiro test to verify if the quantity data is normal\n",
    "isDistNormal(im_ex_qtt_data.Value)"
   ]
  },
  {
   "cell_type": "markdown",
   "id": "831ba616-6f84-48cc-904b-1ad2f2962142",
   "metadata": {},
   "source": [
    "Since the import/export data of agricultural goods are not normally distributted, non-parametric tests will be applied."
   ]
  },
  {
   "cell_type": "markdown",
   "id": "af83eacd-5ea8-4ad7-942a-f5aab100fbd2",
   "metadata": {},
   "source": [
    "- Comparing import/export data quantity and values among the countries."
   ]
  },
  {
   "cell_type": "code",
   "execution_count": 143,
   "id": "219effc8-e63d-4c03-9d95-6e399ab652fc",
   "metadata": {},
   "outputs": [
    {
     "data": {
      "text/html": [
       "<div>\n",
       "<style scoped>\n",
       "    .dataframe tbody tr th:only-of-type {\n",
       "        vertical-align: middle;\n",
       "    }\n",
       "\n",
       "    .dataframe tbody tr th {\n",
       "        vertical-align: top;\n",
       "    }\n",
       "\n",
       "    .dataframe thead th {\n",
       "        text-align: right;\n",
       "    }\n",
       "</style>\n",
       "<table border=\"1\" class=\"dataframe\">\n",
       "  <thead>\n",
       "    <tr style=\"text-align: right;\">\n",
       "      <th></th>\n",
       "      <th>Source</th>\n",
       "      <th>ddof1</th>\n",
       "      <th>H</th>\n",
       "      <th>p-unc</th>\n",
       "    </tr>\n",
       "  </thead>\n",
       "  <tbody>\n",
       "    <tr>\n",
       "      <th>Kruskal</th>\n",
       "      <td>Area</td>\n",
       "      <td>2</td>\n",
       "      <td>758.751767</td>\n",
       "      <td>1.734392e-165</td>\n",
       "    </tr>\n",
       "  </tbody>\n",
       "</table>\n",
       "</div>"
      ],
      "text/plain": [
       "        Source  ddof1           H          p-unc\n",
       "Kruskal   Area      2  758.751767  1.734392e-165"
      ]
     },
     "execution_count": 143,
     "metadata": {},
     "output_type": "execute_result"
    }
   ],
   "source": [
    "#!pip install pingouin\n",
    "from pingouin import kruskal\n",
    "kruskal(data=im_ex_value_data[im_ex_value_data['Element'] == 'Import Value'], dv='Value', between='Area')"
   ]
  },
  {
   "cell_type": "code",
   "execution_count": 144,
   "id": "5beca79f-e427-4d06-b510-e9204f36a2c0",
   "metadata": {},
   "outputs": [
    {
     "data": {
      "text/html": [
       "<div>\n",
       "<style scoped>\n",
       "    .dataframe tbody tr th:only-of-type {\n",
       "        vertical-align: middle;\n",
       "    }\n",
       "\n",
       "    .dataframe tbody tr th {\n",
       "        vertical-align: top;\n",
       "    }\n",
       "\n",
       "    .dataframe thead th {\n",
       "        text-align: right;\n",
       "    }\n",
       "</style>\n",
       "<table border=\"1\" class=\"dataframe\">\n",
       "  <thead>\n",
       "    <tr style=\"text-align: right;\">\n",
       "      <th></th>\n",
       "      <th>Source</th>\n",
       "      <th>ddof1</th>\n",
       "      <th>H</th>\n",
       "      <th>p-unc</th>\n",
       "    </tr>\n",
       "  </thead>\n",
       "  <tbody>\n",
       "    <tr>\n",
       "      <th>Kruskal</th>\n",
       "      <td>Area</td>\n",
       "      <td>2</td>\n",
       "      <td>2204.861176</td>\n",
       "      <td>0.0</td>\n",
       "    </tr>\n",
       "  </tbody>\n",
       "</table>\n",
       "</div>"
      ],
      "text/plain": [
       "        Source  ddof1            H  p-unc\n",
       "Kruskal   Area      2  2204.861176    0.0"
      ]
     },
     "execution_count": 144,
     "metadata": {},
     "output_type": "execute_result"
    }
   ],
   "source": [
    "kruskal(data=im_ex_value_data[im_ex_value_data['Element'] == 'Export Value'], dv='Value', between='Area')"
   ]
  },
  {
   "cell_type": "code",
   "execution_count": 145,
   "id": "a7202b06-1f8b-4b71-abae-e00d2ccf01ce",
   "metadata": {},
   "outputs": [
    {
     "data": {
      "text/html": [
       "<div>\n",
       "<style scoped>\n",
       "    .dataframe tbody tr th:only-of-type {\n",
       "        vertical-align: middle;\n",
       "    }\n",
       "\n",
       "    .dataframe tbody tr th {\n",
       "        vertical-align: top;\n",
       "    }\n",
       "\n",
       "    .dataframe thead th {\n",
       "        text-align: right;\n",
       "    }\n",
       "</style>\n",
       "<table border=\"1\" class=\"dataframe\">\n",
       "  <thead>\n",
       "    <tr style=\"text-align: right;\">\n",
       "      <th></th>\n",
       "      <th>Source</th>\n",
       "      <th>ddof1</th>\n",
       "      <th>H</th>\n",
       "      <th>p-unc</th>\n",
       "    </tr>\n",
       "  </thead>\n",
       "  <tbody>\n",
       "    <tr>\n",
       "      <th>Kruskal</th>\n",
       "      <td>Area</td>\n",
       "      <td>2</td>\n",
       "      <td>775.096059</td>\n",
       "      <td>4.898120e-169</td>\n",
       "    </tr>\n",
       "  </tbody>\n",
       "</table>\n",
       "</div>"
      ],
      "text/plain": [
       "        Source  ddof1           H          p-unc\n",
       "Kruskal   Area      2  775.096059  4.898120e-169"
      ]
     },
     "execution_count": 145,
     "metadata": {},
     "output_type": "execute_result"
    }
   ],
   "source": [
    "kruskal(data=im_ex_qtt_data[im_ex_qtt_data['Element'] == 'Import Quantity'], dv='Value', between='Area')"
   ]
  },
  {
   "cell_type": "code",
   "execution_count": 146,
   "id": "c2bc6b2f-c607-4bcf-b81e-33c7fae0abdf",
   "metadata": {},
   "outputs": [
    {
     "data": {
      "text/html": [
       "<div>\n",
       "<style scoped>\n",
       "    .dataframe tbody tr th:only-of-type {\n",
       "        vertical-align: middle;\n",
       "    }\n",
       "\n",
       "    .dataframe tbody tr th {\n",
       "        vertical-align: top;\n",
       "    }\n",
       "\n",
       "    .dataframe thead th {\n",
       "        text-align: right;\n",
       "    }\n",
       "</style>\n",
       "<table border=\"1\" class=\"dataframe\">\n",
       "  <thead>\n",
       "    <tr style=\"text-align: right;\">\n",
       "      <th></th>\n",
       "      <th>Source</th>\n",
       "      <th>ddof1</th>\n",
       "      <th>H</th>\n",
       "      <th>p-unc</th>\n",
       "    </tr>\n",
       "  </thead>\n",
       "  <tbody>\n",
       "    <tr>\n",
       "      <th>Kruskal</th>\n",
       "      <td>Area</td>\n",
       "      <td>2</td>\n",
       "      <td>2428.513509</td>\n",
       "      <td>0.0</td>\n",
       "    </tr>\n",
       "  </tbody>\n",
       "</table>\n",
       "</div>"
      ],
      "text/plain": [
       "        Source  ddof1            H  p-unc\n",
       "Kruskal   Area      2  2428.513509    0.0"
      ]
     },
     "execution_count": 146,
     "metadata": {},
     "output_type": "execute_result"
    }
   ],
   "source": [
    "kruskal(data=im_ex_qtt_data[im_ex_qtt_data['Element'] == 'Export Quantity'], dv='Value', between='Area')"
   ]
  },
  {
   "cell_type": "markdown",
   "id": "db990cf3-1590-4751-b26d-82c7564daa2a",
   "metadata": {},
   "source": [
    "- Comparing import/export quantity and value in Ireland to assert the country's trade balance."
   ]
  },
  {
   "cell_type": "code",
   "execution_count": 147,
   "id": "757ff839-0ad8-453a-b205-6d2630ecbdc3",
   "metadata": {},
   "outputs": [
    {
     "data": {
      "text/html": [
       "<div>\n",
       "<style scoped>\n",
       "    .dataframe tbody tr th:only-of-type {\n",
       "        vertical-align: middle;\n",
       "    }\n",
       "\n",
       "    .dataframe tbody tr th {\n",
       "        vertical-align: top;\n",
       "    }\n",
       "\n",
       "    .dataframe thead th {\n",
       "        text-align: right;\n",
       "    }\n",
       "</style>\n",
       "<table border=\"1\" class=\"dataframe\">\n",
       "  <thead>\n",
       "    <tr style=\"text-align: right;\">\n",
       "      <th></th>\n",
       "      <th>Source</th>\n",
       "      <th>ddof1</th>\n",
       "      <th>H</th>\n",
       "      <th>p-unc</th>\n",
       "    </tr>\n",
       "  </thead>\n",
       "  <tbody>\n",
       "    <tr>\n",
       "      <th>Kruskal</th>\n",
       "      <td>Element</td>\n",
       "      <td>1</td>\n",
       "      <td>1606.236287</td>\n",
       "      <td>0.0</td>\n",
       "    </tr>\n",
       "  </tbody>\n",
       "</table>\n",
       "</div>"
      ],
      "text/plain": [
       "          Source  ddof1            H  p-unc\n",
       "Kruskal  Element      1  1606.236287    0.0"
      ]
     },
     "execution_count": 147,
     "metadata": {},
     "output_type": "execute_result"
    }
   ],
   "source": [
    "kruskal(data=im_ex_value_data[im_ex_value_data['Area'] == 'Ireland'], dv='Value', between='Element')"
   ]
  },
  {
   "cell_type": "code",
   "execution_count": 148,
   "id": "727c6d8e-adc4-48ce-b51b-3fbd36c95d99",
   "metadata": {},
   "outputs": [
    {
     "name": "stdout",
     "output_type": "stream",
     "text": [
      "Year: 1961/P-value: Kruskal    0.020022\n",
      "Name: p-unc, dtype: float64\n",
      "Year: 1962/P-value: Kruskal    0.014893\n",
      "Name: p-unc, dtype: float64\n",
      "Year: 1963/P-value: Kruskal    0.006814\n",
      "Name: p-unc, dtype: float64\n",
      "Year: 1964/P-value: Kruskal    0.005402\n",
      "Name: p-unc, dtype: float64\n",
      "Year: 1965/P-value: Kruskal    0.002146\n",
      "Name: p-unc, dtype: float64\n",
      "Year: 1966/P-value: Kruskal    0.001155\n",
      "Name: p-unc, dtype: float64\n",
      "Year: 1967/P-value: Kruskal    0.000288\n",
      "Name: p-unc, dtype: float64\n",
      "Year: 1968/P-value: Kruskal    0.000403\n",
      "Name: p-unc, dtype: float64\n",
      "Year: 1969/P-value: Kruskal    0.000503\n",
      "Name: p-unc, dtype: float64\n",
      "Year: 1970/P-value: Kruskal    0.000383\n",
      "Name: p-unc, dtype: float64\n",
      "Year: 1971/P-value: Kruskal    0.000683\n",
      "Name: p-unc, dtype: float64\n",
      "Year: 1972/P-value: Kruskal    0.001921\n",
      "Name: p-unc, dtype: float64\n",
      "Year: 1973/P-value: Kruskal    0.012107\n",
      "Name: p-unc, dtype: float64\n",
      "Year: 1974/P-value: Kruskal    0.000115\n",
      "Name: p-unc, dtype: float64\n",
      "Year: 1975/P-value: Kruskal    0.000176\n",
      "Name: p-unc, dtype: float64\n",
      "Year: 1976/P-value: Kruskal    0.00001\n",
      "Name: p-unc, dtype: float64\n",
      "Year: 1977/P-value: Kruskal    2.481350e-07\n",
      "Name: p-unc, dtype: float64\n",
      "Year: 1978/P-value: Kruskal    3.779771e-07\n",
      "Name: p-unc, dtype: float64\n",
      "Year: 1979/P-value: Kruskal    4.897526e-08\n",
      "Name: p-unc, dtype: float64\n",
      "Year: 1980/P-value: Kruskal    5.197063e-08\n",
      "Name: p-unc, dtype: float64\n",
      "Year: 1981/P-value: Kruskal    1.441709e-07\n",
      "Name: p-unc, dtype: float64\n",
      "Year: 1982/P-value: Kruskal    5.640761e-07\n",
      "Name: p-unc, dtype: float64\n",
      "Year: 1983/P-value: Kruskal    1.198051e-07\n",
      "Name: p-unc, dtype: float64\n",
      "Year: 1984/P-value: Kruskal    2.990571e-08\n",
      "Name: p-unc, dtype: float64\n",
      "Year: 1985/P-value: Kruskal    3.584783e-09\n",
      "Name: p-unc, dtype: float64\n",
      "Year: 1986/P-value: Kruskal    5.259298e-09\n",
      "Name: p-unc, dtype: float64\n",
      "Year: 1987/P-value: Kruskal    3.087900e-10\n",
      "Name: p-unc, dtype: float64\n",
      "Year: 1988/P-value: Kruskal    1.826333e-10\n",
      "Name: p-unc, dtype: float64\n",
      "Year: 1989/P-value: Kruskal    1.102362e-09\n",
      "Name: p-unc, dtype: float64\n",
      "Year: 1990/P-value: Kruskal    4.741265e-10\n",
      "Name: p-unc, dtype: float64\n",
      "Year: 1991/P-value: Kruskal    2.810461e-10\n",
      "Name: p-unc, dtype: float64\n",
      "Year: 1992/P-value: Kruskal    1.750633e-10\n",
      "Name: p-unc, dtype: float64\n",
      "Year: 1993/P-value: Kruskal    1.007864e-13\n",
      "Name: p-unc, dtype: float64\n",
      "Year: 1994/P-value: Kruskal    1.428239e-14\n",
      "Name: p-unc, dtype: float64\n",
      "Year: 1995/P-value: Kruskal    2.824014e-13\n",
      "Name: p-unc, dtype: float64\n",
      "Year: 1996/P-value: Kruskal    8.148438e-13\n",
      "Name: p-unc, dtype: float64\n",
      "Year: 1997/P-value: Kruskal    1.084836e-12\n",
      "Name: p-unc, dtype: float64\n",
      "Year: 1998/P-value: Kruskal    6.964399e-14\n",
      "Name: p-unc, dtype: float64\n",
      "Year: 1999/P-value: Kruskal    6.579077e-13\n",
      "Name: p-unc, dtype: float64\n",
      "Year: 2000/P-value: Kruskal    3.042354e-13\n",
      "Name: p-unc, dtype: float64\n",
      "Year: 2001/P-value: Kruskal    1.711542e-12\n",
      "Name: p-unc, dtype: float64\n",
      "Year: 2002/P-value: Kruskal    8.508864e-12\n",
      "Name: p-unc, dtype: float64\n",
      "Year: 2003/P-value: Kruskal    7.830627e-14\n",
      "Name: p-unc, dtype: float64\n",
      "Year: 2004/P-value: Kruskal    6.154810e-14\n",
      "Name: p-unc, dtype: float64\n",
      "Year: 2005/P-value: Kruskal    1.193506e-13\n",
      "Name: p-unc, dtype: float64\n",
      "Year: 2006/P-value: Kruskal    8.498463e-14\n",
      "Name: p-unc, dtype: float64\n",
      "Year: 2007/P-value: Kruskal    6.846089e-14\n",
      "Name: p-unc, dtype: float64\n",
      "Year: 2008/P-value: Kruskal    1.005798e-13\n",
      "Name: p-unc, dtype: float64\n",
      "Year: 2009/P-value: Kruskal    1.385660e-14\n",
      "Name: p-unc, dtype: float64\n",
      "Year: 2010/P-value: Kruskal    1.134268e-13\n",
      "Name: p-unc, dtype: float64\n",
      "Year: 2011/P-value: Kruskal    3.910061e-13\n",
      "Name: p-unc, dtype: float64\n",
      "Year: 2012/P-value: Kruskal    2.245275e-13\n",
      "Name: p-unc, dtype: float64\n",
      "Year: 2013/P-value: Kruskal    4.961235e-13\n",
      "Name: p-unc, dtype: float64\n",
      "Year: 2014/P-value: Kruskal    0.000009\n",
      "Name: p-unc, dtype: float64\n",
      "Year: 2015/P-value: Kruskal    2.529630e-07\n",
      "Name: p-unc, dtype: float64\n",
      "Year: 2016/P-value: Kruskal    4.712080e-07\n",
      "Name: p-unc, dtype: float64\n",
      "Year: 2017/P-value: Kruskal    4.685884e-07\n",
      "Name: p-unc, dtype: float64\n",
      "Year: 2018/P-value: Kruskal    7.074688e-09\n",
      "Name: p-unc, dtype: float64\n",
      "Year: 2019/P-value: Kruskal    7.672136e-08\n",
      "Name: p-unc, dtype: float64\n",
      "Year: 2020/P-value: Kruskal    2.664052e-09\n",
      "Name: p-unc, dtype: float64\n",
      "Year: 2021/P-value: Kruskal    3.468028e-08\n",
      "Name: p-unc, dtype: float64\n"
     ]
    }
   ],
   "source": [
    "for y in list(im_ex_value_data['Year'].unique()):\n",
    "    k = kruskal(data=im_ex_value_data[(im_ex_value_data['Area'] == 'Ireland')&(im_ex_value_data['Year'] == y)], dv='Value', between='Element')\n",
    "    print(f'Year: {y}/P-value: {k[\"p-unc\"]}')"
   ]
  },
  {
   "cell_type": "code",
   "execution_count": 151,
   "id": "7511f049-121c-4ef2-a818-96217667de7d",
   "metadata": {},
   "outputs": [
    {
     "data": {
      "text/plain": [
       "MannwhitneyuResult(statistic=95699766.0, pvalue=8.039237122231685e-60)"
      ]
     },
     "execution_count": 151,
     "metadata": {},
     "output_type": "execute_result"
    }
   ],
   "source": [
    "im_value_ire = im_ex_value_data[(im_ex_value_data['Element'] == 'Import Value')&(im_ex_value_data['Area'] == 'Ireland')]\n",
    "im_value_fin = im_ex_value_data[(im_ex_value_data['Element'] == 'Import Value')&(im_ex_value_data['Area'] == 'Slovakia')]\n",
    "stats.mannwhitneyu(im_value_ire['Value'], im_value_fin['Value'])"
   ]
  },
  {
   "cell_type": "code",
   "execution_count": 150,
   "id": "29bf25c8-021f-44c1-a0c1-549e2bd4be60",
   "metadata": {},
   "outputs": [
    {
     "data": {
      "text/plain": [
       "MannwhitneyuResult(statistic=271192215.5, pvalue=0.0)"
      ]
     },
     "execution_count": 150,
     "metadata": {},
     "output_type": "execute_result"
    }
   ],
   "source": [
    "im_value_ire = im_ex_value_data[(im_ex_value_data['Element'] == 'Import Value')&(im_ex_value_data['Area'] == 'Ireland')]\n",
    "ex_value_ire = im_ex_value_data[(im_ex_value_data['Element'] == 'Export Value')&(im_ex_value_data['Area'] == 'Ireland')]\n",
    "stats.mannwhitneyu(im_value_ire['Value'], ex_value_ire['Value'])"
   ]
  },
  {
   "cell_type": "markdown",
   "id": "3f956067-1218-41c1-bc51-e73c8c8b91ec",
   "metadata": {},
   "source": [
    "Based on the inferential test, Ireland's import and export values are different, which suggests a trade deficit if the country imports more than exports."
   ]
  },
  {
   "cell_type": "markdown",
   "id": "8b1dd688-fb3a-4e78-b2c7-7b8fb4d47a05",
   "metadata": {},
   "source": [
    "### Food price inflation\n",
    "\n",
    "FAO provides data on the food price inflation from several countries with data from 2000 up to 2022.\n",
    "\n",
    "Finland, Norway and Ireland have about the same population according to the Word Population Review website.\n",
    "\n",
    "In this study, the data about the food price inflation from these countries are compared using inferntial statistics tests."
   ]
  },
  {
   "cell_type": "markdown",
   "id": "e2723ebd-1994-4da6-80e6-ab1dd1058b2a",
   "metadata": {},
   "source": [
    "### Data Preparation"
   ]
  },
  {
   "cell_type": "code",
   "execution_count": 152,
   "id": "e47c0535-ba05-40b0-aeb9-6d52f8eccb0a",
   "metadata": {},
   "outputs": [
    {
     "data": {
      "text/html": [
       "<div>\n",
       "<style scoped>\n",
       "    .dataframe tbody tr th:only-of-type {\n",
       "        vertical-align: middle;\n",
       "    }\n",
       "\n",
       "    .dataframe tbody tr th {\n",
       "        vertical-align: top;\n",
       "    }\n",
       "\n",
       "    .dataframe thead th {\n",
       "        text-align: right;\n",
       "    }\n",
       "</style>\n",
       "<table border=\"1\" class=\"dataframe\">\n",
       "  <thead>\n",
       "    <tr style=\"text-align: right;\">\n",
       "      <th></th>\n",
       "      <th>Domain Code</th>\n",
       "      <th>Domain</th>\n",
       "      <th>Area Code (M49)</th>\n",
       "      <th>Area</th>\n",
       "      <th>Year Code</th>\n",
       "      <th>Year</th>\n",
       "      <th>Item Code</th>\n",
       "      <th>Item</th>\n",
       "      <th>Months Code</th>\n",
       "      <th>Months</th>\n",
       "      <th>Unit</th>\n",
       "      <th>Value</th>\n",
       "      <th>Flag</th>\n",
       "      <th>Flag Description</th>\n",
       "      <th>Note</th>\n",
       "    </tr>\n",
       "  </thead>\n",
       "  <tbody>\n",
       "    <tr>\n",
       "      <th>0</th>\n",
       "      <td>CP</td>\n",
       "      <td>Consumer Price Indices</td>\n",
       "      <td>246</td>\n",
       "      <td>Finland</td>\n",
       "      <td>2001</td>\n",
       "      <td>2001</td>\n",
       "      <td>23014</td>\n",
       "      <td>Food price inflation</td>\n",
       "      <td>7001</td>\n",
       "      <td>January</td>\n",
       "      <td>%</td>\n",
       "      <td>3.900862</td>\n",
       "      <td>E</td>\n",
       "      <td>Estimated value</td>\n",
       "      <td>NaN</td>\n",
       "    </tr>\n",
       "    <tr>\n",
       "      <th>1</th>\n",
       "      <td>CP</td>\n",
       "      <td>Consumer Price Indices</td>\n",
       "      <td>246</td>\n",
       "      <td>Finland</td>\n",
       "      <td>2001</td>\n",
       "      <td>2001</td>\n",
       "      <td>23014</td>\n",
       "      <td>Food price inflation</td>\n",
       "      <td>7002</td>\n",
       "      <td>February</td>\n",
       "      <td>%</td>\n",
       "      <td>2.525304</td>\n",
       "      <td>E</td>\n",
       "      <td>Estimated value</td>\n",
       "      <td>NaN</td>\n",
       "    </tr>\n",
       "    <tr>\n",
       "      <th>2</th>\n",
       "      <td>CP</td>\n",
       "      <td>Consumer Price Indices</td>\n",
       "      <td>246</td>\n",
       "      <td>Finland</td>\n",
       "      <td>2001</td>\n",
       "      <td>2001</td>\n",
       "      <td>23014</td>\n",
       "      <td>Food price inflation</td>\n",
       "      <td>7003</td>\n",
       "      <td>March</td>\n",
       "      <td>%</td>\n",
       "      <td>2.998384</td>\n",
       "      <td>E</td>\n",
       "      <td>Estimated value</td>\n",
       "      <td>NaN</td>\n",
       "    </tr>\n",
       "    <tr>\n",
       "      <th>3</th>\n",
       "      <td>CP</td>\n",
       "      <td>Consumer Price Indices</td>\n",
       "      <td>246</td>\n",
       "      <td>Finland</td>\n",
       "      <td>2001</td>\n",
       "      <td>2001</td>\n",
       "      <td>23014</td>\n",
       "      <td>Food price inflation</td>\n",
       "      <td>7004</td>\n",
       "      <td>April</td>\n",
       "      <td>%</td>\n",
       "      <td>2.810568</td>\n",
       "      <td>E</td>\n",
       "      <td>Estimated value</td>\n",
       "      <td>NaN</td>\n",
       "    </tr>\n",
       "    <tr>\n",
       "      <th>4</th>\n",
       "      <td>CP</td>\n",
       "      <td>Consumer Price Indices</td>\n",
       "      <td>246</td>\n",
       "      <td>Finland</td>\n",
       "      <td>2001</td>\n",
       "      <td>2001</td>\n",
       "      <td>23014</td>\n",
       "      <td>Food price inflation</td>\n",
       "      <td>7005</td>\n",
       "      <td>May</td>\n",
       "      <td>%</td>\n",
       "      <td>4.679704</td>\n",
       "      <td>E</td>\n",
       "      <td>Estimated value</td>\n",
       "      <td>NaN</td>\n",
       "    </tr>\n",
       "  </tbody>\n",
       "</table>\n",
       "</div>"
      ],
      "text/plain": [
       "  Domain Code                  Domain  Area Code (M49)     Area  Year Code  \\\n",
       "0          CP  Consumer Price Indices              246  Finland       2001   \n",
       "1          CP  Consumer Price Indices              246  Finland       2001   \n",
       "2          CP  Consumer Price Indices              246  Finland       2001   \n",
       "3          CP  Consumer Price Indices              246  Finland       2001   \n",
       "4          CP  Consumer Price Indices              246  Finland       2001   \n",
       "\n",
       "   Year  Item Code                  Item  Months Code    Months Unit  \\\n",
       "0  2001      23014  Food price inflation         7001   January    %   \n",
       "1  2001      23014  Food price inflation         7002  February    %   \n",
       "2  2001      23014  Food price inflation         7003     March    %   \n",
       "3  2001      23014  Food price inflation         7004     April    %   \n",
       "4  2001      23014  Food price inflation         7005       May    %   \n",
       "\n",
       "      Value Flag Flag Description  Note  \n",
       "0  3.900862    E  Estimated value   NaN  \n",
       "1  2.525304    E  Estimated value   NaN  \n",
       "2  2.998384    E  Estimated value   NaN  \n",
       "3  2.810568    E  Estimated value   NaN  \n",
       "4  4.679704    E  Estimated value   NaN  "
      ]
     },
     "execution_count": 152,
     "metadata": {},
     "output_type": "execute_result"
    }
   ],
   "source": [
    "# showing raw dataset\n",
    "dataset = pd.read_csv('./datasets/fao-food-inflation-eu.csv', encoding='utf-8')\n",
    "dataset.head()"
   ]
  },
  {
   "cell_type": "code",
   "execution_count": 153,
   "id": "fe6fcc68-0942-4846-9035-cd512eff6e24",
   "metadata": {},
   "outputs": [],
   "source": [
    "# remove null column from dataset\n",
    "dataset = dataset.drop(['Note'], axis=1)"
   ]
  },
  {
   "cell_type": "code",
   "execution_count": 154,
   "id": "1dac031a-6712-47bd-8fb2-d4bd1695b4f6",
   "metadata": {},
   "outputs": [
    {
     "data": {
      "text/plain": [
       "False"
      ]
     },
     "execution_count": 154,
     "metadata": {},
     "output_type": "execute_result"
    }
   ],
   "source": [
    "isDistNormal(dataset.Value)"
   ]
  },
  {
   "cell_type": "code",
   "execution_count": 155,
   "id": "e2051534-1404-4f5e-b03d-e67fdafb4fa6",
   "metadata": {},
   "outputs": [
    {
     "data": {
      "text/html": [
       "<div>\n",
       "<style scoped>\n",
       "    .dataframe tbody tr th:only-of-type {\n",
       "        vertical-align: middle;\n",
       "    }\n",
       "\n",
       "    .dataframe tbody tr th {\n",
       "        vertical-align: top;\n",
       "    }\n",
       "\n",
       "    .dataframe thead th {\n",
       "        text-align: right;\n",
       "    }\n",
       "</style>\n",
       "<table border=\"1\" class=\"dataframe\">\n",
       "  <thead>\n",
       "    <tr style=\"text-align: right;\">\n",
       "      <th></th>\n",
       "      <th>Domain Code</th>\n",
       "      <th>Domain</th>\n",
       "      <th>Area Code (M49)</th>\n",
       "      <th>Area</th>\n",
       "      <th>Year Code</th>\n",
       "      <th>Year</th>\n",
       "      <th>Item Code</th>\n",
       "      <th>Item</th>\n",
       "      <th>Months Code</th>\n",
       "      <th>Months</th>\n",
       "      <th>Unit</th>\n",
       "      <th>Value</th>\n",
       "      <th>Flag</th>\n",
       "      <th>Flag Description</th>\n",
       "    </tr>\n",
       "  </thead>\n",
       "  <tbody>\n",
       "    <tr>\n",
       "      <th>489</th>\n",
       "      <td>CP</td>\n",
       "      <td>Consumer Price Indices</td>\n",
       "      <td>372</td>\n",
       "      <td>Ireland</td>\n",
       "      <td>2020</td>\n",
       "      <td>2020</td>\n",
       "      <td>23014</td>\n",
       "      <td>Food price inflation</td>\n",
       "      <td>7001</td>\n",
       "      <td>January</td>\n",
       "      <td>%</td>\n",
       "      <td>-1.131685</td>\n",
       "      <td>E</td>\n",
       "      <td>Estimated value</td>\n",
       "    </tr>\n",
       "    <tr>\n",
       "      <th>490</th>\n",
       "      <td>CP</td>\n",
       "      <td>Consumer Price Indices</td>\n",
       "      <td>372</td>\n",
       "      <td>Ireland</td>\n",
       "      <td>2020</td>\n",
       "      <td>2020</td>\n",
       "      <td>23014</td>\n",
       "      <td>Food price inflation</td>\n",
       "      <td>7002</td>\n",
       "      <td>February</td>\n",
       "      <td>%</td>\n",
       "      <td>-1.030919</td>\n",
       "      <td>E</td>\n",
       "      <td>Estimated value</td>\n",
       "    </tr>\n",
       "    <tr>\n",
       "      <th>491</th>\n",
       "      <td>CP</td>\n",
       "      <td>Consumer Price Indices</td>\n",
       "      <td>372</td>\n",
       "      <td>Ireland</td>\n",
       "      <td>2020</td>\n",
       "      <td>2020</td>\n",
       "      <td>23014</td>\n",
       "      <td>Food price inflation</td>\n",
       "      <td>7003</td>\n",
       "      <td>March</td>\n",
       "      <td>%</td>\n",
       "      <td>-1.642709</td>\n",
       "      <td>E</td>\n",
       "      <td>Estimated value</td>\n",
       "    </tr>\n",
       "    <tr>\n",
       "      <th>492</th>\n",
       "      <td>CP</td>\n",
       "      <td>Consumer Price Indices</td>\n",
       "      <td>372</td>\n",
       "      <td>Ireland</td>\n",
       "      <td>2020</td>\n",
       "      <td>2020</td>\n",
       "      <td>23014</td>\n",
       "      <td>Food price inflation</td>\n",
       "      <td>7004</td>\n",
       "      <td>April</td>\n",
       "      <td>%</td>\n",
       "      <td>-1.233303</td>\n",
       "      <td>E</td>\n",
       "      <td>Estimated value</td>\n",
       "    </tr>\n",
       "    <tr>\n",
       "      <th>493</th>\n",
       "      <td>CP</td>\n",
       "      <td>Consumer Price Indices</td>\n",
       "      <td>372</td>\n",
       "      <td>Ireland</td>\n",
       "      <td>2020</td>\n",
       "      <td>2020</td>\n",
       "      <td>23014</td>\n",
       "      <td>Food price inflation</td>\n",
       "      <td>7005</td>\n",
       "      <td>May</td>\n",
       "      <td>%</td>\n",
       "      <td>-1.333323</td>\n",
       "      <td>E</td>\n",
       "      <td>Estimated value</td>\n",
       "    </tr>\n",
       "    <tr>\n",
       "      <th>494</th>\n",
       "      <td>CP</td>\n",
       "      <td>Consumer Price Indices</td>\n",
       "      <td>372</td>\n",
       "      <td>Ireland</td>\n",
       "      <td>2020</td>\n",
       "      <td>2020</td>\n",
       "      <td>23014</td>\n",
       "      <td>Food price inflation</td>\n",
       "      <td>7006</td>\n",
       "      <td>June</td>\n",
       "      <td>%</td>\n",
       "      <td>-1.544802</td>\n",
       "      <td>E</td>\n",
       "      <td>Estimated value</td>\n",
       "    </tr>\n",
       "    <tr>\n",
       "      <th>495</th>\n",
       "      <td>CP</td>\n",
       "      <td>Consumer Price Indices</td>\n",
       "      <td>372</td>\n",
       "      <td>Ireland</td>\n",
       "      <td>2020</td>\n",
       "      <td>2020</td>\n",
       "      <td>23014</td>\n",
       "      <td>Food price inflation</td>\n",
       "      <td>7007</td>\n",
       "      <td>July</td>\n",
       "      <td>%</td>\n",
       "      <td>-1.237107</td>\n",
       "      <td>E</td>\n",
       "      <td>Estimated value</td>\n",
       "    </tr>\n",
       "    <tr>\n",
       "      <th>496</th>\n",
       "      <td>CP</td>\n",
       "      <td>Consumer Price Indices</td>\n",
       "      <td>372</td>\n",
       "      <td>Ireland</td>\n",
       "      <td>2020</td>\n",
       "      <td>2020</td>\n",
       "      <td>23014</td>\n",
       "      <td>Food price inflation</td>\n",
       "      <td>7008</td>\n",
       "      <td>August</td>\n",
       "      <td>%</td>\n",
       "      <td>-1.750778</td>\n",
       "      <td>E</td>\n",
       "      <td>Estimated value</td>\n",
       "    </tr>\n",
       "    <tr>\n",
       "      <th>497</th>\n",
       "      <td>CP</td>\n",
       "      <td>Consumer Price Indices</td>\n",
       "      <td>372</td>\n",
       "      <td>Ireland</td>\n",
       "      <td>2020</td>\n",
       "      <td>2020</td>\n",
       "      <td>23014</td>\n",
       "      <td>Food price inflation</td>\n",
       "      <td>7009</td>\n",
       "      <td>September</td>\n",
       "      <td>%</td>\n",
       "      <td>-1.455308</td>\n",
       "      <td>E</td>\n",
       "      <td>Estimated value</td>\n",
       "    </tr>\n",
       "    <tr>\n",
       "      <th>498</th>\n",
       "      <td>CP</td>\n",
       "      <td>Consumer Price Indices</td>\n",
       "      <td>372</td>\n",
       "      <td>Ireland</td>\n",
       "      <td>2020</td>\n",
       "      <td>2020</td>\n",
       "      <td>23014</td>\n",
       "      <td>Food price inflation</td>\n",
       "      <td>7010</td>\n",
       "      <td>October</td>\n",
       "      <td>%</td>\n",
       "      <td>-1.557635</td>\n",
       "      <td>E</td>\n",
       "      <td>Estimated value</td>\n",
       "    </tr>\n",
       "    <tr>\n",
       "      <th>499</th>\n",
       "      <td>CP</td>\n",
       "      <td>Consumer Price Indices</td>\n",
       "      <td>372</td>\n",
       "      <td>Ireland</td>\n",
       "      <td>2020</td>\n",
       "      <td>2020</td>\n",
       "      <td>23014</td>\n",
       "      <td>Food price inflation</td>\n",
       "      <td>7011</td>\n",
       "      <td>November</td>\n",
       "      <td>%</td>\n",
       "      <td>-1.455308</td>\n",
       "      <td>E</td>\n",
       "      <td>Estimated value</td>\n",
       "    </tr>\n",
       "    <tr>\n",
       "      <th>500</th>\n",
       "      <td>CP</td>\n",
       "      <td>Consumer Price Indices</td>\n",
       "      <td>372</td>\n",
       "      <td>Ireland</td>\n",
       "      <td>2020</td>\n",
       "      <td>2020</td>\n",
       "      <td>23014</td>\n",
       "      <td>Food price inflation</td>\n",
       "      <td>7012</td>\n",
       "      <td>December</td>\n",
       "      <td>%</td>\n",
       "      <td>-1.559265</td>\n",
       "      <td>E</td>\n",
       "      <td>Estimated value</td>\n",
       "    </tr>\n",
       "  </tbody>\n",
       "</table>\n",
       "</div>"
      ],
      "text/plain": [
       "    Domain Code                  Domain  Area Code (M49)     Area  Year Code  \\\n",
       "489          CP  Consumer Price Indices              372  Ireland       2020   \n",
       "490          CP  Consumer Price Indices              372  Ireland       2020   \n",
       "491          CP  Consumer Price Indices              372  Ireland       2020   \n",
       "492          CP  Consumer Price Indices              372  Ireland       2020   \n",
       "493          CP  Consumer Price Indices              372  Ireland       2020   \n",
       "494          CP  Consumer Price Indices              372  Ireland       2020   \n",
       "495          CP  Consumer Price Indices              372  Ireland       2020   \n",
       "496          CP  Consumer Price Indices              372  Ireland       2020   \n",
       "497          CP  Consumer Price Indices              372  Ireland       2020   \n",
       "498          CP  Consumer Price Indices              372  Ireland       2020   \n",
       "499          CP  Consumer Price Indices              372  Ireland       2020   \n",
       "500          CP  Consumer Price Indices              372  Ireland       2020   \n",
       "\n",
       "     Year  Item Code                  Item  Months Code     Months Unit  \\\n",
       "489  2020      23014  Food price inflation         7001    January    %   \n",
       "490  2020      23014  Food price inflation         7002   February    %   \n",
       "491  2020      23014  Food price inflation         7003      March    %   \n",
       "492  2020      23014  Food price inflation         7004      April    %   \n",
       "493  2020      23014  Food price inflation         7005        May    %   \n",
       "494  2020      23014  Food price inflation         7006       June    %   \n",
       "495  2020      23014  Food price inflation         7007       July    %   \n",
       "496  2020      23014  Food price inflation         7008     August    %   \n",
       "497  2020      23014  Food price inflation         7009  September    %   \n",
       "498  2020      23014  Food price inflation         7010    October    %   \n",
       "499  2020      23014  Food price inflation         7011   November    %   \n",
       "500  2020      23014  Food price inflation         7012   December    %   \n",
       "\n",
       "        Value Flag Flag Description  \n",
       "489 -1.131685    E  Estimated value  \n",
       "490 -1.030919    E  Estimated value  \n",
       "491 -1.642709    E  Estimated value  \n",
       "492 -1.233303    E  Estimated value  \n",
       "493 -1.333323    E  Estimated value  \n",
       "494 -1.544802    E  Estimated value  \n",
       "495 -1.237107    E  Estimated value  \n",
       "496 -1.750778    E  Estimated value  \n",
       "497 -1.455308    E  Estimated value  \n",
       "498 -1.557635    E  Estimated value  \n",
       "499 -1.455308    E  Estimated value  \n",
       "500 -1.559265    E  Estimated value  "
      ]
     },
     "execution_count": 155,
     "metadata": {},
     "output_type": "execute_result"
    }
   ],
   "source": [
    "dataset[(dataset['Area']=='Ireland')]['Year'].unique()\n",
    "dataset[(dataset['Area']=='Ireland')&(dataset['Year']==2020)]"
   ]
  },
  {
   "cell_type": "markdown",
   "id": "01680c41-50db-4a4a-a737-720825d55d12",
   "metadata": {},
   "source": [
    "### Data Visualization"
   ]
  },
  {
   "cell_type": "code",
   "execution_count": 157,
   "id": "55912c02-4060-463c-8935-0f41352b03d9",
   "metadata": {},
   "outputs": [
    {
     "data": {
      "text/plain": [
       "<matplotlib.legend.Legend at 0x2404d7f4130>"
      ]
     },
     "execution_count": 157,
     "metadata": {},
     "output_type": "execute_result"
    },
    {
     "data": {
      "image/png": "[encoded data removed]",
      "text/plain": [
       "<Figure size 1080x576 with 1 Axes>"
      ]
     },
     "metadata": {
      "needs_background": "light"
     },
     "output_type": "display_data"
    }
   ],
   "source": [
    "fig, ax = plt.subplots(figsize=(15, 8))\n",
    "#ax.plot(dataset[(dataset['Area']=='Ireland')&(dataset['Year']==2020)]['Value'], label='Ireland')\n",
    "ax.plot(dataset[(dataset['Area']=='Slovakia')&(dataset['Year']==2020)]['Value'], label='Slovakia')\n",
    "#ax.plot(x, ire, label='Ireland')\n",
    "plt.legend(loc=2)"
   ]
  },
  {
   "cell_type": "code",
   "execution_count": 158,
   "id": "23181a44-9291-476b-9f2b-a1565ad55215",
   "metadata": {},
   "outputs": [
    {
     "data": {
      "image/png": "[encoded data removed]",
      "text/plain": [
       "<Figure size 432x288 with 1 Axes>"
      ]
     },
     "metadata": {
      "needs_background": "light"
     },
     "output_type": "display_data"
    },
    {
     "data": {
      "text/plain": [
       "<Figure size 432x288 with 0 Axes>"
      ]
     },
     "metadata": {},
     "output_type": "display_data"
    }
   ],
   "source": [
    "plotColGraph(dataset.Value)"
   ]
  },
  {
   "cell_type": "code",
   "execution_count": 160,
   "id": "0143c324-d6fc-4a8e-9108-8345ff284683",
   "metadata": {},
   "outputs": [
    {
     "data": {
      "text/plain": [
       "WilcoxonResult(statistic=5750.0, pvalue=1.4845155500846593e-20)"
      ]
     },
     "execution_count": 160,
     "metadata": {},
     "output_type": "execute_result"
    }
   ],
   "source": [
    "# use wilcoxon stats test to compare inflation between countries\n",
    "from scipy.stats import wilcoxon\n",
    "res = wilcoxon(dataset[dataset['Area'] == 'Ireland'].Value, dataset[dataset['Area'] == 'Finland'].Value)\n",
    "res"
   ]
  },
  {
   "cell_type": "markdown",
   "id": "1baa4f0f-a477-4cac-8a1d-08f507b35643",
   "metadata": {},
   "source": [
    "Inflation data is different."
   ]
  }
 ],
 "metadata": {
  "kernelspec": {
   "display_name": "Python 3 (ipykernel)",
   "language": "python",
   "name": "python3"
  },
  "language_info": {
   "codemirror_mode": {
    "name": "ipython",
    "version": 3
   },
   "file_extension": ".py",
   "mimetype": "text/x-python",
   "name": "python",
   "nbconvert_exporter": "python",
   "pygments_lexer": "ipython3",
   "version": "3.9.12"
  }
 },
 "nbformat": 4,
 "nbformat_minor": 5
}
