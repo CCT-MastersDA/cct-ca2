{
 "cells": [
  {
   "cell_type": "markdown",
   "id": "95022440-f4f2-4ffc-b4af-1b4ddaffb451",
   "metadata": {},
   "source": [
    "# CA2 - Data Preparation and Visualization on Agriculture Datasets"
   ]
  },
  {
   "cell_type": "markdown",
   "id": "478e10fa-544b-42a8-966c-327365b294c5",
   "metadata": {},
   "source": [
    "## Overview\n",
    "\n",
    "In this notebook, the following agriculture related datasets were pre-processed to be used by the Machine Learning (ML) and Statistics Jupyter notebooks.\n",
    "\n",
    "- Organic Farming\n",
    "- Agriculture Import/Export Trade\n",
    "- Food Price Inflation\n",
    "- Tweets Dataset"
   ]
  },
  {
   "cell_type": "markdown",
   "id": "d603dadf-5983-4f10-bb16-4e8b18dda794",
   "metadata": {},
   "source": [
    "## Auxiliary Functions"
   ]
  },
  {
   "cell_type": "markdown",
   "id": "2e47c2a2-b0da-4c4c-a740-14decd485f33",
   "metadata": {},
   "source": [
    "In this section, the auxiliary functions used in this notebook were implemented."
   ]
  },
  {
   "cell_type": "code",
   "execution_count": 1,
   "id": "c61241fb-04d6-4ea7-aab2-947a1da4eede",
   "metadata": {
    "tags": []
   },
   "outputs": [],
   "source": [
    "# adding modules folder to the path\n",
    "import sys\n",
    "sys.path.append('./modules')\n",
    "\n",
    "# importing constants and modules created for this project\n",
    "from constants import *\n",
    "from text_processor import *\n",
    "from twitter_api import *\n",
    "\n",
    "# uncomment to install any missing lib\n",
    "# !pip install python-dotenv\n",
    "\n",
    "# importing modules specific to this notebook\n",
    "import logging\n",
    "import pandas as pd\n",
    "import altair as alt\n",
    "import seaborn as sns\n",
    "from dotenv import dotenv_values\n",
    "from os import listdir\n",
    "\n",
    "# use a logger to help debugging\n",
    "logger = logging.getLogger('data_prep_vis')\n",
    "\n",
    "# set logger level\n",
    "logger.setLevel(logging.ERROR)\n",
    "\n",
    "def convert_to_number(df, col_list=[]):\n",
    "    \"\"\"\n",
    "    This function converts the column in the list into\n",
    "    numeric data type.\n",
    "\n",
    "    Parameters:\n",
    "        df: Data frame with original data.\n",
    "        col_list: List of column names to be converted.\n",
    "    Return:\n",
    "        Updated dataframe.\n",
    "    \"\"\"         \n",
    "    for c in col_list:\n",
    "        df[c] = pd.to_numeric(df[c], errors='coerce')\n",
    "    return df\n",
    "\n",
    "def plot_interactive_graph(data, dropdown=[], y_label='', main_title=''):\n",
    "    \"\"\"\n",
    "    This function uses altair lib to plot interactive graph based on the input.\n",
    "    \n",
    "    Parameters:\n",
    "        data: Data frame\n",
    "        dropdown: List of items to filter the data displayed in the graph\n",
    "        y_label: Y label text\n",
    "        main_title: Title of the graph\n",
    "    \"\"\"\n",
    "    input_dropdown = alt.binding_select(options=dropdown, name='Item')\n",
    "\n",
    "    select_item = alt.selection_single(\n",
    "        name='Select Import Item', fields=['Item'], init={'Item': dropdown[0]},\n",
    "        bind=input_dropdown)\n",
    "\n",
    "    alt.Chart(data, title=main_title).mark_point(filled=True).encode(\n",
    "        alt.X('Year', scale=alt.Scale(zero=False)),\n",
    "        alt.Y('Value', scale=alt.Scale(zero=False), title=y_label),\n",
    "        alt.Size('Value:Q'),\n",
    "        alt.Color('Area:N'),\n",
    "        alt.Order('Value:Q', sort='descending'),\n",
    "        tooltip='Value:N'\n",
    "    ).add_selection(select_item).transform_filter(select_item).display()\n",
    "\n",
    "def get_env_map():\n",
    "    \"\"\"\n",
    "    Auxiliary function to read and parse the environment file for the Twitter API.\n",
    "    \n",
    "    It assumes an env file exists in the home dir.\n",
    "\n",
    "    Returns:\n",
    "        env (dict): Dictionary with the env parameters.\n",
    "    \"\"\"\n",
    "    env_path = join(HOME_DIR, TWITTER_ENV_FILE)\n",
    "\n",
    "    if not os.path.exists(env_path):\n",
    "        logger.error(F'Unable to read the environment file. Make sure a { TWITTER_ENV_FILE } file exists in your home directory.')\n",
    "        return None\n",
    "\n",
    "    return dotenv_values(env_path)\n",
    "\n",
    "def process_tweets(tweets_list):\n",
    "    \"\"\"\n",
    "    Auxiliary method to process the tweets from the input list.\n",
    "    \n",
    "    It processes the tweets, extracting their sentiment during the process.\n",
    "    \n",
    "    It generates a table with the following columns:\n",
    "\n",
    "        'tweet_raw', 'sent_raw', 'tweet_clr', 'sent_clr', 'tweet_st', 'sent_st', 'tweet_lm', 'sent_lm'\n",
    "    \n",
    "    Parameters:\n",
    "        tweets_list (lst): List of tweets to be processed.\n",
    "    Returns:\n",
    "        tweets_df (DataFrame): Data frame with the processed data.\n",
    "    \"\"\"\n",
    "    proc_tweets = []\n",
    "    for i in range(0, len(tweets_list)):\n",
    "        # raw tweet\n",
    "        tweet_raw = tweets_list[i]\n",
    "        sentiment_raw = TextProcessor.get_sentiment(tweet_raw)\n",
    "\n",
    "        # strip tweet\n",
    "        tweet_str = TextProcessor.clean_text(tweet_raw)\n",
    "        sentiment_str = TextProcessor.get_sentiment(tweet_str)\n",
    "        \n",
    "        # cleaned tweet\n",
    "        tweet_clr = TextProcessor.process_text(tweet_raw)\n",
    "        sentiment_clr = TextProcessor.get_sentiment(tweet_clr)\n",
    "\n",
    "        # steemed tweet\n",
    "        tweet_st = TextProcessor.process_text(tweet_raw, use_stemmer=True)\n",
    "        sentiment_st = TextProcessor.get_sentiment(tweet_st)\n",
    "\n",
    "        # lemmatized tweet\n",
    "        tweet_lm = TextProcessor.process_text(tweet_raw, use_lemmatizer=True)\n",
    "        sentiment_lm = TextProcessor.get_sentiment(tweet_lm)\n",
    "\n",
    "        proc_tweets.append((tweet_raw, sentiment_raw, tweet_str, sentiment_str, tweet_clr, sentiment_clr, tweet_st, sentiment_st, tweet_lm, sentiment_lm))\n",
    "\n",
    "    tweets_df = pd.DataFrame(proc_tweets, columns=['tweet_raw', 'sent_raw', 'tweet_str', 'sent_str', 'tweet_clr', 'sent_clr', 'tweet_st', 'sent_st', 'tweet_lm', 'sent_lm'])\n",
    "\n",
    "    return tweets_df\n",
    "\n",
    "def get_collected_twitter_file_path():\n",
    "    \"\"\"\n",
    "    Auxiliary function to get a valid twitter file name.\n",
    "    \n",
    "    It checks if there is a file with the same name and append an index.\n",
    "\n",
    "    Returns:\n",
    "        filename (str): Available filename.\n",
    "    \"\"\"    \n",
    "    same_file_list = [f for f in listdir(TWEETS_DIR) if isfile(join(TWEETS_DIR, f)) \n",
    "                      and str(f).startswith(TWEETS_DF_FILE) and str(f).endswith('.csv')]\n",
    "    n_same_file = len(same_file_list)\n",
    "\n",
    "    suffix = ''\n",
    "    if n_same_file > 0:\n",
    "        suffix = f'_{ n_same_file }'\n",
    "\n",
    "    filename = f'{TWEETS_DF_FILE}{ suffix }.csv'\n",
    "    return join(TWEETS_DIR, filename)\n"
   ]
  },
  {
   "cell_type": "markdown",
   "id": "1b797d1f-f6ec-4b0a-9606-a83b17b29f1d",
   "metadata": {},
   "source": [
    "## Organic Farming\n",
    "\n",
    "In this section, the organic farming dataset was cleand and prepared for the analysis performed in the Statistics Jupyter notebook."
   ]
  },
  {
   "cell_type": "code",
   "execution_count": null,
   "id": "4dd5e9b6-7492-4682-aab5-947e9c705f1f",
   "metadata": {},
   "outputs": [],
   "source": [
    "# showing raw dataset\n",
    "dataset = pd.read_csv(join(DATASETS_FOLDER, ORG_FARM_DATASET), encoding='utf-8')\n",
    "dataset.head()"
   ]
  },
  {
   "cell_type": "markdown",
   "id": "50bb7c1c-c758-428c-a0ce-c1755c74edd4",
   "metadata": {},
   "source": [
    "The raw dataset was cleaned to remove unnecessary columns and to convert the percent data into numeric data type. \n",
    "\n",
    "That step was necessary to fit the dataset into the functions used to calculate the confidence interval as part of the statistical analysis.\n",
    "\n",
    "The main idea of the analysis performed about this dataset was to compare Ireland's organic farming growht with the estimated confidence interval for Europe.\n",
    "\n",
    "This way, it was also created two datasets out of it, one with the all countries and another one with Ireland's data only."
   ]
  },
  {
   "cell_type": "code",
   "execution_count": null,
   "id": "f49c4d12-ef2b-45c2-b566-3a3214a1cd6d",
   "metadata": {},
   "outputs": [],
   "source": [
    "# keeping only specific countries data\n",
    "codes_col = dataset.keys()[0]\n",
    "dataset_all = dataset.loc[~dataset[codes_col].str.contains('EU')]\n",
    "\n",
    "# getting Ireland's data only\n",
    "dataset_ire = dataset.loc[dataset[codes_col] =='IE']\n",
    "\n",
    "# removing first two columns with labels\n",
    "dataset_all = dataset.iloc[:,2:]\n",
    "dataset_ire = dataset_ire.iloc[:,2:]\n",
    "\n",
    "# converting data into numbers\n",
    "columns = dataset_all.keys()\n",
    "dataset_all = convert_to_number(dataset_all, columns)\n",
    "dataset_ire = convert_to_number(dataset_ire, columns)"
   ]
  },
  {
   "cell_type": "code",
   "execution_count": null,
   "id": "6d6ecdb7-cd82-4d42-8209-3a86f23fe5f7",
   "metadata": {},
   "outputs": [],
   "source": [
    "# show dataset all head\n",
    "dataset_all.head()"
   ]
  },
  {
   "cell_type": "code",
   "execution_count": null,
   "id": "dc120af6-9929-4e76-8450-0affb21ebbc4",
   "metadata": {},
   "outputs": [],
   "source": [
    "# show dataset ireland head\n",
    "dataset_ire.head()"
   ]
  },
  {
   "cell_type": "markdown",
   "id": "01eac567-68db-4a25-a44b-b8281cbc03b0",
   "metadata": {},
   "source": [
    "The command below shows the dataset has null values spread all over the rows.\n",
    "\n",
    "Since each country has nulls in different rows they can't be simply removed at this point, so they should be handled in the analysis."
   ]
  },
  {
   "cell_type": "code",
   "execution_count": null,
   "id": "72e55195-d606-497e-a386-ef4aab02bda2",
   "metadata": {},
   "outputs": [],
   "source": [
    "# checking empty values on full dataset\n",
    "dataset_all.isnull().sum()"
   ]
  },
  {
   "cell_type": "code",
   "execution_count": null,
   "id": "c634fdf5-1ab1-4707-9169-67955505f804",
   "metadata": {},
   "outputs": [],
   "source": [
    "# checking empty values on ireland dataset\n",
    "dataset_ire.isnull().sum()"
   ]
  },
  {
   "cell_type": "markdown",
   "id": "341fb6e3-4af4-46a8-99e9-c490a9274dfd",
   "metadata": {},
   "source": [
    "The cleaned datasets were stored in the output folder to be used by other notebooks."
   ]
  },
  {
   "cell_type": "code",
   "execution_count": null,
   "id": "641e37a4-a0b6-4a59-8f60-a152d3579db5",
   "metadata": {},
   "outputs": [],
   "source": [
    "# creating a csv file in the output folder for the full dataset\n",
    "dataset_all.to_csv(join(DATA_PREP_FOLDER, ORG_FARM_DATASET), index=False)\n",
    "\n",
    "# creating a csv file in the output folder for the irish dataset\n",
    "dataset_ire.to_csv(join(DATA_PREP_FOLDER, ORG_FARM_DATASET_IRE), index=False)"
   ]
  },
  {
   "cell_type": "markdown",
   "id": "6bec5887-bc11-4eed-8902-ec6689186d48",
   "metadata": {},
   "source": [
    "## Agriculture Import/Export Trade\n",
    "\n",
    "In this section, the agriculture import/export trade dataset was cleand and prepared for the analysis performed in the Statistics and ML Jupyter notebooks."
   ]
  },
  {
   "cell_type": "code",
   "execution_count": 2,
   "id": "c773f3c7-e5e8-4289-9bb4-ab523ed3dfd0",
   "metadata": {},
   "outputs": [
    {
     "data": {
      "text/html": [
       "<div>\n",
       "<style scoped>\n",
       "    .dataframe tbody tr th:only-of-type {\n",
       "        vertical-align: middle;\n",
       "    }\n",
       "\n",
       "    .dataframe tbody tr th {\n",
       "        vertical-align: top;\n",
       "    }\n",
       "\n",
       "    .dataframe thead th {\n",
       "        text-align: right;\n",
       "    }\n",
       "</style>\n",
       "<table border=\"1\" class=\"dataframe\">\n",
       "  <thead>\n",
       "    <tr style=\"text-align: right;\">\n",
       "      <th></th>\n",
       "      <th>Domain Code</th>\n",
       "      <th>Domain</th>\n",
       "      <th>Area Code (M49)</th>\n",
       "      <th>Area</th>\n",
       "      <th>Element Code</th>\n",
       "      <th>Element</th>\n",
       "      <th>Item Code (CPC)</th>\n",
       "      <th>Item</th>\n",
       "      <th>Year Code</th>\n",
       "      <th>Year</th>\n",
       "      <th>Unit</th>\n",
       "      <th>Value</th>\n",
       "      <th>Flag</th>\n",
       "      <th>Flag Description</th>\n",
       "    </tr>\n",
       "  </thead>\n",
       "  <tbody>\n",
       "    <tr>\n",
       "      <th>0</th>\n",
       "      <td>TCL</td>\n",
       "      <td>Crops and livestock products</td>\n",
       "      <td>246</td>\n",
       "      <td>Finland</td>\n",
       "      <td>5610</td>\n",
       "      <td>Import Quantity</td>\n",
       "      <td>01929.07</td>\n",
       "      <td>Abaca, manila hemp, raw</td>\n",
       "      <td>1961</td>\n",
       "      <td>1961</td>\n",
       "      <td>tonnes</td>\n",
       "      <td>95.0</td>\n",
       "      <td>A</td>\n",
       "      <td>Official figure</td>\n",
       "    </tr>\n",
       "    <tr>\n",
       "      <th>1</th>\n",
       "      <td>TCL</td>\n",
       "      <td>Crops and livestock products</td>\n",
       "      <td>246</td>\n",
       "      <td>Finland</td>\n",
       "      <td>5610</td>\n",
       "      <td>Import Quantity</td>\n",
       "      <td>01929.07</td>\n",
       "      <td>Abaca, manila hemp, raw</td>\n",
       "      <td>1962</td>\n",
       "      <td>1962</td>\n",
       "      <td>tonnes</td>\n",
       "      <td>32.0</td>\n",
       "      <td>A</td>\n",
       "      <td>Official figure</td>\n",
       "    </tr>\n",
       "    <tr>\n",
       "      <th>2</th>\n",
       "      <td>TCL</td>\n",
       "      <td>Crops and livestock products</td>\n",
       "      <td>246</td>\n",
       "      <td>Finland</td>\n",
       "      <td>5610</td>\n",
       "      <td>Import Quantity</td>\n",
       "      <td>01929.07</td>\n",
       "      <td>Abaca, manila hemp, raw</td>\n",
       "      <td>1963</td>\n",
       "      <td>1963</td>\n",
       "      <td>tonnes</td>\n",
       "      <td>115.0</td>\n",
       "      <td>A</td>\n",
       "      <td>Official figure</td>\n",
       "    </tr>\n",
       "    <tr>\n",
       "      <th>3</th>\n",
       "      <td>TCL</td>\n",
       "      <td>Crops and livestock products</td>\n",
       "      <td>246</td>\n",
       "      <td>Finland</td>\n",
       "      <td>5610</td>\n",
       "      <td>Import Quantity</td>\n",
       "      <td>01929.07</td>\n",
       "      <td>Abaca, manila hemp, raw</td>\n",
       "      <td>1964</td>\n",
       "      <td>1964</td>\n",
       "      <td>tonnes</td>\n",
       "      <td>49.0</td>\n",
       "      <td>A</td>\n",
       "      <td>Official figure</td>\n",
       "    </tr>\n",
       "    <tr>\n",
       "      <th>4</th>\n",
       "      <td>TCL</td>\n",
       "      <td>Crops and livestock products</td>\n",
       "      <td>246</td>\n",
       "      <td>Finland</td>\n",
       "      <td>5610</td>\n",
       "      <td>Import Quantity</td>\n",
       "      <td>01929.07</td>\n",
       "      <td>Abaca, manila hemp, raw</td>\n",
       "      <td>1965</td>\n",
       "      <td>1965</td>\n",
       "      <td>tonnes</td>\n",
       "      <td>42.0</td>\n",
       "      <td>A</td>\n",
       "      <td>Official figure</td>\n",
       "    </tr>\n",
       "  </tbody>\n",
       "</table>\n",
       "</div>"
      ],
      "text/plain": [
       "  Domain Code                        Domain  Area Code (M49)     Area  \\\n",
       "0         TCL  Crops and livestock products              246  Finland   \n",
       "1         TCL  Crops and livestock products              246  Finland   \n",
       "2         TCL  Crops and livestock products              246  Finland   \n",
       "3         TCL  Crops and livestock products              246  Finland   \n",
       "4         TCL  Crops and livestock products              246  Finland   \n",
       "\n",
       "   Element Code          Element Item Code (CPC)                     Item  \\\n",
       "0          5610  Import Quantity        01929.07  Abaca, manila hemp, raw   \n",
       "1          5610  Import Quantity        01929.07  Abaca, manila hemp, raw   \n",
       "2          5610  Import Quantity        01929.07  Abaca, manila hemp, raw   \n",
       "3          5610  Import Quantity        01929.07  Abaca, manila hemp, raw   \n",
       "4          5610  Import Quantity        01929.07  Abaca, manila hemp, raw   \n",
       "\n",
       "   Year Code  Year    Unit  Value Flag Flag Description  \n",
       "0       1961  1961  tonnes   95.0    A  Official figure  \n",
       "1       1962  1962  tonnes   32.0    A  Official figure  \n",
       "2       1963  1963  tonnes  115.0    A  Official figure  \n",
       "3       1964  1964  tonnes   49.0    A  Official figure  \n",
       "4       1965  1965  tonnes   42.0    A  Official figure  "
      ]
     },
     "execution_count": 2,
     "metadata": {},
     "output_type": "execute_result"
    }
   ],
   "source": [
    "# showing raw dataset\n",
    "dataset = pd.read_csv(join(DATASETS_FOLDER, IMP_EXP_DATASET), encoding='utf-8')\n",
    "dataset.head()"
   ]
  },
  {
   "cell_type": "markdown",
   "id": "60af43b2-bb7a-4448-907a-89871551c578",
   "metadata": {},
   "source": [
    "The first step was the null check, which showed there is no null values in this dataset."
   ]
  },
  {
   "cell_type": "code",
   "execution_count": 3,
   "id": "3fb05544-da5a-46ac-a073-ed4355df4a9d",
   "metadata": {},
   "outputs": [
    {
     "data": {
      "text/plain": [
       "Domain Code         0\n",
       "Domain              0\n",
       "Area Code (M49)     0\n",
       "Area                0\n",
       "Element Code        0\n",
       "Element             0\n",
       "Item Code (CPC)     0\n",
       "Item                0\n",
       "Year Code           0\n",
       "Year                0\n",
       "Unit                0\n",
       "Value               0\n",
       "Flag                0\n",
       "Flag Description    0\n",
       "dtype: int64"
      ]
     },
     "execution_count": 3,
     "metadata": {},
     "output_type": "execute_result"
    }
   ],
   "source": [
    "# checking empty values on full dataset\n",
    "dataset.isnull().sum()"
   ]
  },
  {
   "cell_type": "markdown",
   "id": "7b976a7a-e8af-4295-8446-794eac2c0e7c",
   "metadata": {},
   "source": [
    "Now, the Value's column data were converted into numeric data type to comply with the Python functions used."
   ]
  },
  {
   "cell_type": "code",
   "execution_count": 4,
   "id": "f490d389-1164-4511-908d-b827f7cd5a21",
   "metadata": {},
   "outputs": [
    {
     "data": {
      "text/html": [
       "<div>\n",
       "<style scoped>\n",
       "    .dataframe tbody tr th:only-of-type {\n",
       "        vertical-align: middle;\n",
       "    }\n",
       "\n",
       "    .dataframe tbody tr th {\n",
       "        vertical-align: top;\n",
       "    }\n",
       "\n",
       "    .dataframe thead th {\n",
       "        text-align: right;\n",
       "    }\n",
       "</style>\n",
       "<table border=\"1\" class=\"dataframe\">\n",
       "  <thead>\n",
       "    <tr style=\"text-align: right;\">\n",
       "      <th></th>\n",
       "      <th>Domain Code</th>\n",
       "      <th>Domain</th>\n",
       "      <th>Area Code (M49)</th>\n",
       "      <th>Area</th>\n",
       "      <th>Element Code</th>\n",
       "      <th>Element</th>\n",
       "      <th>Item Code (CPC)</th>\n",
       "      <th>Item</th>\n",
       "      <th>Year Code</th>\n",
       "      <th>Year</th>\n",
       "      <th>Unit</th>\n",
       "      <th>Value</th>\n",
       "      <th>Flag</th>\n",
       "      <th>Flag Description</th>\n",
       "    </tr>\n",
       "  </thead>\n",
       "  <tbody>\n",
       "    <tr>\n",
       "      <th>0</th>\n",
       "      <td>TCL</td>\n",
       "      <td>Crops and livestock products</td>\n",
       "      <td>246</td>\n",
       "      <td>Finland</td>\n",
       "      <td>5610</td>\n",
       "      <td>Import Quantity</td>\n",
       "      <td>01929.07</td>\n",
       "      <td>Abaca, manila hemp, raw</td>\n",
       "      <td>1961</td>\n",
       "      <td>1961</td>\n",
       "      <td>tonnes</td>\n",
       "      <td>95.0</td>\n",
       "      <td>A</td>\n",
       "      <td>Official figure</td>\n",
       "    </tr>\n",
       "    <tr>\n",
       "      <th>1</th>\n",
       "      <td>TCL</td>\n",
       "      <td>Crops and livestock products</td>\n",
       "      <td>246</td>\n",
       "      <td>Finland</td>\n",
       "      <td>5610</td>\n",
       "      <td>Import Quantity</td>\n",
       "      <td>01929.07</td>\n",
       "      <td>Abaca, manila hemp, raw</td>\n",
       "      <td>1962</td>\n",
       "      <td>1962</td>\n",
       "      <td>tonnes</td>\n",
       "      <td>32.0</td>\n",
       "      <td>A</td>\n",
       "      <td>Official figure</td>\n",
       "    </tr>\n",
       "    <tr>\n",
       "      <th>2</th>\n",
       "      <td>TCL</td>\n",
       "      <td>Crops and livestock products</td>\n",
       "      <td>246</td>\n",
       "      <td>Finland</td>\n",
       "      <td>5610</td>\n",
       "      <td>Import Quantity</td>\n",
       "      <td>01929.07</td>\n",
       "      <td>Abaca, manila hemp, raw</td>\n",
       "      <td>1963</td>\n",
       "      <td>1963</td>\n",
       "      <td>tonnes</td>\n",
       "      <td>115.0</td>\n",
       "      <td>A</td>\n",
       "      <td>Official figure</td>\n",
       "    </tr>\n",
       "    <tr>\n",
       "      <th>3</th>\n",
       "      <td>TCL</td>\n",
       "      <td>Crops and livestock products</td>\n",
       "      <td>246</td>\n",
       "      <td>Finland</td>\n",
       "      <td>5610</td>\n",
       "      <td>Import Quantity</td>\n",
       "      <td>01929.07</td>\n",
       "      <td>Abaca, manila hemp, raw</td>\n",
       "      <td>1964</td>\n",
       "      <td>1964</td>\n",
       "      <td>tonnes</td>\n",
       "      <td>49.0</td>\n",
       "      <td>A</td>\n",
       "      <td>Official figure</td>\n",
       "    </tr>\n",
       "    <tr>\n",
       "      <th>4</th>\n",
       "      <td>TCL</td>\n",
       "      <td>Crops and livestock products</td>\n",
       "      <td>246</td>\n",
       "      <td>Finland</td>\n",
       "      <td>5610</td>\n",
       "      <td>Import Quantity</td>\n",
       "      <td>01929.07</td>\n",
       "      <td>Abaca, manila hemp, raw</td>\n",
       "      <td>1965</td>\n",
       "      <td>1965</td>\n",
       "      <td>tonnes</td>\n",
       "      <td>42.0</td>\n",
       "      <td>A</td>\n",
       "      <td>Official figure</td>\n",
       "    </tr>\n",
       "  </tbody>\n",
       "</table>\n",
       "</div>"
      ],
      "text/plain": [
       "  Domain Code                        Domain  Area Code (M49)     Area  \\\n",
       "0         TCL  Crops and livestock products              246  Finland   \n",
       "1         TCL  Crops and livestock products              246  Finland   \n",
       "2         TCL  Crops and livestock products              246  Finland   \n",
       "3         TCL  Crops and livestock products              246  Finland   \n",
       "4         TCL  Crops and livestock products              246  Finland   \n",
       "\n",
       "   Element Code          Element Item Code (CPC)                     Item  \\\n",
       "0          5610  Import Quantity        01929.07  Abaca, manila hemp, raw   \n",
       "1          5610  Import Quantity        01929.07  Abaca, manila hemp, raw   \n",
       "2          5610  Import Quantity        01929.07  Abaca, manila hemp, raw   \n",
       "3          5610  Import Quantity        01929.07  Abaca, manila hemp, raw   \n",
       "4          5610  Import Quantity        01929.07  Abaca, manila hemp, raw   \n",
       "\n",
       "   Year Code  Year    Unit  Value Flag Flag Description  \n",
       "0       1961  1961  tonnes   95.0    A  Official figure  \n",
       "1       1962  1962  tonnes   32.0    A  Official figure  \n",
       "2       1963  1963  tonnes  115.0    A  Official figure  \n",
       "3       1964  1964  tonnes   49.0    A  Official figure  \n",
       "4       1965  1965  tonnes   42.0    A  Official figure  "
      ]
     },
     "execution_count": 4,
     "metadata": {},
     "output_type": "execute_result"
    }
   ],
   "source": [
    "# converting Value column into numeric data type\n",
    "dataset = convert_to_number(dataset, ['Value'])\n",
    "dataset.head()"
   ]
  },
  {
   "cell_type": "markdown",
   "id": "b38d44ca-f9d2-4412-8e49-5ebb4e813849",
   "metadata": {},
   "source": [
    "The main idea of the analysis performed about this dataset was to compare the countries import/export data with Ireland.\n",
    "\n",
    "Thus, the data was split into import/export quantity (data in tonnes) and import/export value (data in US$) datasets to facilitate data manipulation."
   ]
  },
  {
   "cell_type": "code",
   "execution_count": 5,
   "id": "dd373185-5b04-4839-a340-c2494af74bd2",
   "metadata": {},
   "outputs": [
    {
     "data": {
      "text/plain": [
       "['Import Quantity', 'Import Value', 'Export Quantity', 'Export Value']"
      ]
     },
     "execution_count": 5,
     "metadata": {},
     "output_type": "execute_result"
    }
   ],
   "source": [
    "# checking the Element values\n",
    "list(dataset['Element'].unique())"
   ]
  },
  {
   "cell_type": "code",
   "execution_count": 6,
   "id": "fcf49ef1-2464-482a-9fd8-50a8c50bc6ce",
   "metadata": {},
   "outputs": [],
   "source": [
    "# splitting data into import/export value and quantity\n",
    "im_ex_val_data = dataset[(dataset['Element'].isin(['Import Value', 'Export Value']))]\n",
    "im_ex_qtt_data = dataset[(dataset['Element'].isin(['Import Quantity', 'Export Quantity']))]"
   ]
  },
  {
   "cell_type": "markdown",
   "id": "8f2fbce8-36b6-46f0-b94e-9b650ad1dbda",
   "metadata": {},
   "source": [
    "After splitting the datasets, it was checked the Unit column so that data is compared against the same measurement unit."
   ]
  },
  {
   "cell_type": "code",
   "execution_count": 7,
   "id": "d3d64cac-1c82-4126-8a81-36e657ae41a4",
   "metadata": {},
   "outputs": [
    {
     "name": "stdout",
     "output_type": "stream",
     "text": [
      "['1000 US$']\n",
      "['tonnes' 'Head' 'No' '1000 Head']\n"
     ]
    }
   ],
   "source": [
    "# checking unit for import/export quantity data\n",
    "print(im_ex_val_data['Unit'].unique())\n",
    "print(im_ex_qtt_data['Unit'].unique())"
   ]
  },
  {
   "cell_type": "markdown",
   "id": "f27e3277-ae06-416a-ad7a-7a4a1b1a7e53",
   "metadata": {},
   "source": [
    "Import/Export value is measured in 1000 US$, so no need to change anything here. \n",
    "\n",
    "On the other hand, the Import/Export quantity data were collected using different units: ['tonnes' 'Head' 'No' '1000 Head'].\n",
    "\n",
    "As shown in the command below, most of the rows is measured in Tonnes, so the other units were removed to avoid mixing up unrelated data."
   ]
  },
  {
   "cell_type": "code",
   "execution_count": 8,
   "id": "190e2cdd-d2e7-4728-b083-fc3e8d6ce065",
   "metadata": {},
   "outputs": [
    {
     "data": {
      "text/plain": [
       "count      97496\n",
       "unique         4\n",
       "top       tonnes\n",
       "freq       94961\n",
       "Name: Unit, dtype: object"
      ]
     },
     "execution_count": 8,
     "metadata": {},
     "output_type": "execute_result"
    }
   ],
   "source": [
    "im_ex_qtt_data['Unit'].describe()"
   ]
  },
  {
   "cell_type": "code",
   "execution_count": 9,
   "id": "d5731579-5d78-410d-a2de-72fb8ab8637e",
   "metadata": {},
   "outputs": [
    {
     "data": {
      "text/plain": [
       "(94961, 14)"
      ]
     },
     "execution_count": 9,
     "metadata": {},
     "output_type": "execute_result"
    }
   ],
   "source": [
    "# since tonnes is the most frequent unit, remove the other ones\n",
    "im_ex_qtt_data = im_ex_qtt_data[im_ex_qtt_data['Unit'] == 'tonnes']\n",
    "im_ex_qtt_data.shape"
   ]
  },
  {
   "cell_type": "markdown",
   "id": "5fd753e8-325b-41f9-92d2-c9030563438d",
   "metadata": {},
   "source": [
    "The cleaned datasets were stored in the output folder to be used by other notebooks."
   ]
  },
  {
   "cell_type": "code",
   "execution_count": 10,
   "id": "06012d7e-4c73-4dd7-b2bd-6fb82fd1a66b",
   "metadata": {},
   "outputs": [],
   "source": [
    "# creating a csv file in the output folder for the value dataset\n",
    "im_ex_val_data.to_csv(join(DATA_PREP_FOLDER, IMP_EXP_DATASET_VAL), index=False)\n",
    "\n",
    "# creating a csv file in the output folder for the qunatity dataset\n",
    "im_ex_qtt_data.to_csv(join(DATA_PREP_FOLDER, IMP_EXP_DATASET_QTT), index=False)"
   ]
  },
  {
   "cell_type": "markdown",
   "id": "eed37613-92c7-4593-811c-c63db707d12c",
   "metadata": {},
   "source": [
    "In this step, the import/export data were summarized by year per country and the graphs were generated. \n",
    "\n",
    "The idea was to have a visual way to demonstrate the statistical results in the Statistics Jupyter notebook.\n",
    "\n",
    "The graphs were also saved in the images folder as they are used by other notebooks."
   ]
  },
  {
   "cell_type": "code",
   "execution_count": null,
   "id": "bfb24eb4-7186-4688-ba85-7c12c998700e",
   "metadata": {},
   "outputs": [],
   "source": [
    "# adding the datasets into a list to facilitate graph generation\n",
    "datasets = [im_ex_qtt_data, im_ex_val_data]\n",
    "\n",
    "# graph file names\n",
    "graph_fnames = [GRAPH_IMP_EXP_QTT, GRAPH_IMP_EXP_VAL]\n",
    "\n",
    "# y labels to be displayed\n",
    "y_labels = ['Quantity (tonnes)', 'Value (1000 US$)']\n",
    "\n",
    "# counter to access the arrays\n",
    "idx = 0\n",
    "\n",
    "# create the graph for each dataset (quantity and value)\n",
    "for data in datasets:\n",
    "    # create the grid to display the import and export data\n",
    "    im_exp_grid = sns.FacetGrid(data, col='Element', hue='Area', height=5, aspect=1.5)\n",
    "\n",
    "    # map the above form facetgrid with some attributes\n",
    "    im_exp_grid.map(sns.lineplot, \"Year\", \"Value\", alpha=.8, linewidth=2.5)\n",
    "\n",
    "    # adding legend\n",
    "    im_exp_grid.add_legend(title='Country')\n",
    "    \n",
    "    # setting labels and titles\n",
    "    im_exp_grid.set_xlabels('Year')\n",
    "    im_exp_grid.set_ylabels(y_labels[idx])\n",
    "    im_exp_grid.set_titles('Average {col_name} of Crops and Livestock Products by Year')\n",
    "\n",
    "    # save graph as an image\n",
    "    im_exp_grid.savefig(join(IMAGES_FOLDER, graph_fnames[idx]), format='png')\n",
    "    \n",
    "    # next iteration\n",
    "    idx+=1"
   ]
  },
  {
   "cell_type": "markdown",
   "id": "0d2a3720-e1b1-4a1f-9d0e-feafbe106442",
   "metadata": {},
   "source": [
    "The average data from both datasets were stored in the output folder to be used by other notebooks."
   ]
  },
  {
   "cell_type": "code",
   "execution_count": 12,
   "id": "1d3d8652-e6c9-46b4-ac1d-5350c27a6938",
   "metadata": {},
   "outputs": [],
   "source": [
    "# getting the average quantity of tonnes of import/export a year\n",
    "imp_ex_qtt_avg = im_ex_qtt_data.groupby(by=['Year', 'Element', 'Area'], as_index=False).mean().sort_values(by=['Year'], ignore_index=True).astype({'Year':'int'})\n",
    "\n",
    "# getting the average value in US$ of import/export a year\n",
    "imp_ex_val_avg = im_ex_val_data.groupby(by=['Year', 'Element', 'Area'], as_index=False).mean().sort_values(by=['Year'], ignore_index=True).astype({'Year':'int'})\n",
    "\n",
    "# creating a csv file in the output folder for the average value dataset\n",
    "imp_ex_val_avg.to_csv(join(DATA_PREP_FOLDER, IMP_EXP_DATASET_VAL_AVG), index=False)\n",
    "\n",
    "# creating a csv file in the output folder for the average quantity dataset\n",
    "imp_ex_qtt_avg.to_csv(join(DATA_PREP_FOLDER, IMP_EXP_DATASET_QTT_AVG), index=False)"
   ]
  },
  {
   "cell_type": "markdown",
   "id": "db71f4b4-2d79-4297-88f7-8627ac4b76b5",
   "metadata": {},
   "source": [
    "In this step, another visualization tool was created for this dataset, which shows the top 10 most imported products values and quantity in Ireland compared with other countries.\n",
    "\n",
    "The reason for limitting the data was a limitation in the Altair lib that can't handle more than 5k rows and to facilitate data reading."
   ]
  },
  {
   "cell_type": "code",
   "execution_count": null,
   "id": "bbb05487-629b-4f07-9725-b13ed999fbef",
   "metadata": {},
   "outputs": [],
   "source": [
    "# getting import data only (quantity and value)\n",
    "import_qtt_data = im_ex_qtt_data[im_ex_qtt_data['Element'] == 'Import Quantity']\n",
    "import_val_data = im_ex_val_data[im_ex_val_data['Element'] == 'Import Value']\n",
    "\n",
    "# getting the top 10 import items in terms of quantity in Ireland\n",
    "top_10_items_ire = import_qtt_data[(import_qtt_data['Area'] == 'Ireland')].groupby(by='Item', as_index=False).mean().sort_values(by=['Value'], ascending=False, ignore_index=True).head(10)\n",
    "top_10_items_ire = list(top_10_items_ire['Item'].unique())\n",
    "\n",
    "print('Top 10 most imported products in Ireland (quantity):')\n",
    "top_10_items_ire"
   ]
  },
  {
   "cell_type": "markdown",
   "id": "ece762bf-b062-46df-b3d7-07a0882de00b",
   "metadata": {},
   "source": [
    "After getting the top 10 list, the data on these products were extracted from the datasets."
   ]
  },
  {
   "cell_type": "code",
   "execution_count": null,
   "id": "1d626e40-df6b-4d1c-864f-9b3c8a71943a",
   "metadata": {},
   "outputs": [],
   "source": [
    "# getting the quantity data on the top 10 items\n",
    "top_10_items_data_qtt = import_qtt_data[import_qtt_data['Item'].isin(top_10_items_ire)]\n",
    "top_10_items_data_qtt.sort_values(by=['Value'], ascending=False, ignore_index=True)"
   ]
  },
  {
   "cell_type": "code",
   "execution_count": null,
   "id": "76ba4aab-7daf-404f-b6e5-1b004cb86588",
   "metadata": {},
   "outputs": [],
   "source": [
    "# getting the value data on the top 10 items\n",
    "top_10_items_data_val = import_val_data[import_val_data['Item'].isin(top_10_items_ire)]\n",
    "top_10_items_data_val.sort_values(by=['Value'], ascending=False, ignore_index=True)"
   ]
  },
  {
   "cell_type": "markdown",
   "id": "56b3a568-36be-4311-99ce-ac4162daf3c2",
   "metadata": {},
   "source": [
    "These datasets were also stored in the output folder to be used by other notebooks."
   ]
  },
  {
   "cell_type": "code",
   "execution_count": null,
   "id": "cddb736b-67aa-4161-b8f4-e8677b696c0d",
   "metadata": {},
   "outputs": [],
   "source": [
    "# creating a csv file in the output folder for the top 10 items quantity dataset\n",
    "top_10_items_data_val.to_csv(join(DATA_PREP_FOLDER, IMP_EXP_DATASET_TOP10_VAL), index=False)\n",
    "\n",
    "# creating a csv file in the output folder for the top 10 items value dataset\n",
    "top_10_items_data_qtt.to_csv(join(DATA_PREP_FOLDER, IMP_EXP_DATASET_TOP10_QTT), index=False)"
   ]
  },
  {
   "cell_type": "markdown",
   "id": "17cd11cc-4638-4fb6-8f28-63957161ea4e",
   "metadata": {},
   "source": [
    "An interactive graph was created on the top 10 import products in Ireland and other countries."
   ]
  },
  {
   "cell_type": "code",
   "execution_count": null,
   "id": "77302c96-d4a6-4996-92b9-eb4234745ee6",
   "metadata": {},
   "outputs": [],
   "source": [
    "# plotting an interactive graph with the quantity of the top import products\n",
    "plot_interactive_graph(top_10_items_data_qtt, top_10_items_ire, 'Quantity (tonnes)', 'Top 10 most imported crops and livestock products in Ireland compared with other countries (Quantity in Tonnes)')\n",
    "\n",
    "# plotting an interactive graph with the value of the top import products\n",
    "plot_interactive_graph(top_10_items_data_val, top_10_items_ire, 'Value (1000 US$)', 'Top 10 most imported crops and livestock products in Ireland compared with other countries (Value in 1000 US$)')"
   ]
  },
  {
   "cell_type": "markdown",
   "id": "dc4bcb11-eee6-4c6b-bd3c-06b5bd7a417f",
   "metadata": {},
   "source": [
    "In summary, the main reason to plot these graphs were to provide a good visual idea about the behaviour of the data in different levels, which helped to explain the statistics results discussed in the Statistics Jupyter notebook.\n",
    "\n",
    "The interactive view also provides an easy way to show different products in the same graph"
   ]
  },
  {
   "cell_type": "markdown",
   "id": "ef526da3-117f-4191-ba1a-6e3a5601caa8",
   "metadata": {},
   "source": [
    "## Food Price Inflation\n",
    "\n",
    "In this section, the agriculture dataset on food price inflation was cleand and prepared for the analysis performed in the Statistics and ML Jupyter notebooks."
   ]
  },
  {
   "cell_type": "code",
   "execution_count": null,
   "id": "62feb5df-ab9c-4a92-84fd-7ac7adf9302a",
   "metadata": {},
   "outputs": [],
   "source": [
    "# showing raw dataset\n",
    "dataset = pd.read_csv(join(DATASETS_FOLDER, FOOD_INF_DATASET), encoding='utf-8')\n",
    "dataset.head()"
   ]
  },
  {
   "cell_type": "markdown",
   "id": "d0f4744c-61a5-4869-af79-6b413c34a065",
   "metadata": {},
   "source": [
    "In this step a summary of the dataset is displayed, which shows a null column."
   ]
  },
  {
   "cell_type": "code",
   "execution_count": null,
   "id": "09484977-9bcb-4006-bdd6-db5ec99b684c",
   "metadata": {},
   "outputs": [],
   "source": [
    "# showing a summary of the dataset\n",
    "dataset.describe()"
   ]
  },
  {
   "cell_type": "markdown",
   "id": "e8151baa-d01a-4225-b5c1-8a3f2d75ed92",
   "metadata": {},
   "source": [
    "In this step, the data is cleansed for the inferential tests. The only operation was to remove an all-null column."
   ]
  },
  {
   "cell_type": "code",
   "execution_count": null,
   "id": "72ae5176-ec4a-45cc-8d9b-563093d4db83",
   "metadata": {},
   "outputs": [],
   "source": [
    "# remove null column from dataset\n",
    "dataset = dataset.drop(['Note'], axis=1)"
   ]
  },
  {
   "cell_type": "markdown",
   "id": "137c57a9-2093-4741-a373-1a25b8d7175b",
   "metadata": {},
   "source": [
    "This dataset was also stored in the output folder to be used by other notebooks."
   ]
  },
  {
   "cell_type": "code",
   "execution_count": null,
   "id": "ace66e4e-e837-4910-a7fa-20e0fa90087c",
   "metadata": {},
   "outputs": [],
   "source": [
    "# creating a csv file in the output folder for the food inflation dataset\n",
    "dataset.to_csv(join(DATA_PREP_FOLDER, FOOD_INF_DATASET), index=False)"
   ]
  },
  {
   "cell_type": "markdown",
   "id": "0f008da7-d023-468d-9e3b-9f547d90acff",
   "metadata": {},
   "source": [
    "The graph below shows the summarized food price inflation per country by year.\n",
    "\n",
    "This way, it was possible to visualize the differences between the countries over the years, which helped to explain the results of the analysis in the other notebooks."
   ]
  },
  {
   "cell_type": "code",
   "execution_count": null,
   "id": "6477e743-4c6f-43b9-8cf9-aea9e29d11ea",
   "metadata": {},
   "outputs": [],
   "source": [
    "# create the grid to display the import and export data\n",
    "food_inf_grid = sns.FacetGrid(dataset, col='Item', hue='Area', height=5, aspect=1.5)\n",
    "\n",
    "# map the above form facetgrid with some attributes\n",
    "food_inf_grid.map(sns.lineplot, \"Year\", \"Value\", alpha=.8, linewidth=2.5)\n",
    "\n",
    "# adding legend\n",
    "food_inf_grid.add_legend(title='Country')\n",
    "\n",
    "# setting labels and titles\n",
    "food_inf_grid.set_xlabels('Year')\n",
    "food_inf_grid.set_ylabels('Inflation Average')\n",
    "food_inf_grid.set_titles('{col_name} average by year')\n",
    "\n",
    "# save graph as an image\n",
    "food_inf_grid.savefig(join(IMAGES_FOLDER, GRAPH_FOOD_PRICE_INF), format='png')"
   ]
  },
  {
   "cell_type": "markdown",
   "id": "f6ef3b0f-924d-46cd-aa1e-9e6bb78dda76",
   "metadata": {},
   "source": [
    "The food inflation average was also calculated, since it is used by other notebooks."
   ]
  },
  {
   "cell_type": "code",
   "execution_count": null,
   "id": "12cdd689-6adc-4b0e-85c3-a29660a3b5cd",
   "metadata": {},
   "outputs": [],
   "source": [
    "# group inflation by year to get consolidated data\n",
    "food_inf_avg = dataset.groupby(by=['Year', 'Area'], as_index=False).mean().sort_values(by=['Year'], ignore_index=True)"
   ]
  },
  {
   "cell_type": "markdown",
   "id": "76bb1f9d-fb00-4e99-83d6-791eb2fabcfe",
   "metadata": {},
   "source": [
    "This dataset was stored in the output folder to be used by other notebooks."
   ]
  },
  {
   "cell_type": "code",
   "execution_count": null,
   "id": "af74ce6f-df53-410b-9284-3320778a838b",
   "metadata": {},
   "outputs": [],
   "source": [
    "# creating a csv file in the output folder for the food inflation average dataset\n",
    "food_inf_avg.to_csv(join(DATA_PREP_FOLDER, FOOD_INF_DATASET_AVG), index=False)"
   ]
  },
  {
   "cell_type": "markdown",
   "id": "e39f0a72-01a7-481a-99b8-1fbd0ce1e613",
   "metadata": {},
   "source": [
    "## Twitter Dataset\n",
    "\n",
    "In this section, it was implemented the logic to retrieve recent tweets using the Twitter API.\n",
    "\n",
    "The idea was to collect tweets about agriculture so they could be used for sentiment analysis and classification.\n",
    "\n",
    "The operations performed to generated this dataset were:\n",
    "\n",
    "1. Get the raw tweets using the API\n",
    "\n",
    "2. Clean the tweets and save the different outputs using the following strategies:\n",
    "    1. Removal of special characters, links and images (tweet_str)\n",
    "    2. Application of strategy A + Removal of stop words (tweet_clr)\n",
    "    3. Application of strategy B + Lemmatizer technique (tweet_lm)\n",
    "    4. Application of strategy B + Stemmer techinique (tweet_st)\n",
    "\n",
    "3. Extract the sentment from each version of the tweets\n",
    "\n",
    "4. Save data in a dataframe.\n",
    "\n",
    "Each version of the tweet (i.e., tweet_str, tweet_clr, tweet_st and tweet_lm) has its own sentiment calculated, because it was observed that the sentiment algorithm provides different results for each of them. The possible sentiments are: positive, negative and neutral.\n",
    "\n",
    "The output of this data preparation was consumed by the ML Jupyter notebook.\n",
    "\n",
    "<b>Notice:</b>\n",
    "\n",
    "<b>Using Twitter's API</b>\n",
    "\n",
    "User should have an account on <a href=\"https://developer.twitter.com/https://developer.twitter.com/\">Twitter's Developer Portal</a> to obtain their own access keys and tokens.\n",
    "    \n",
    "- The required access level to run the commands in this notebook is 'Essential'.\n",
    "\n",
    "- There should exist a file called .twitter_env in the machine's home directory with the following API user keys:\n",
    "    ```\n",
    "    API_KEY=***\n",
    "    API_KEY_SECRET=***\n",
    "    BEARER_TOKEN=***\n",
    "    ```\n",
    "\n",
    "<b>Replacing Tweets Dataset</b>\n",
    "\n",
    "Since the recent tweets can change over time, the analysis was performed on a previously collected dataset stored in ./datasets/tapi-agri-tweets.csv.\n",
    "\n",
    "This way, if the user wants to use a fresh tweets list, they should do the following:\n",
    "\n",
    "1. Comment out line 22 in the code block below\n",
    "2. Run the code block below\n",
    "3. Copy the csv just created from the ./datasets/tweets-online folder\n",
    "4. Paste it into the ./datasets folder\n",
    "5. Remove the old tweets csv file\n",
    "6. Rename the new one to 'tapi-agri-tweets.csv'"
   ]
  },
  {
   "cell_type": "code",
   "execution_count": null,
   "id": "6aa14239-1de5-4258-8370-15306810bb50",
   "metadata": {},
   "outputs": [],
   "source": [
    "# getting an instance of the twitter api\n",
    "twitter_api = TwitterApi(get_env_map())\n",
    "\n",
    "# defining the query parameters\n",
    "query_params = {\n",
    "    'query' : '(inflation OR \"food price\" OR \"agriculture\") Europe -is:retweet -has:media lang:en',\n",
    "    'tweet.fields': 'author_id', \n",
    "    'user.fields': 'name',\n",
    "    'max_results': '100'\n",
    "}\n",
    "\n",
    "# retrieving tweets according to the query\n",
    "tweets_list = twitter_api.search_tweets(query_params)\n",
    "\n",
    "# processing retrieved data using text processing\n",
    "tweets_df = process_tweets(tweets_list)\n",
    "\n",
    "# storing the processed data in the datasets/tweets-online folder\n",
    "tweets_df.to_csv(get_collected_twitter_file_path())\n",
    "\n",
    "# COMMENT THIS LINE IF NEW TWEETS ARE MEANT TO BE USED INSTEAD\n",
    "# replacing tweets dataset by the previously collected one\n",
    "tweets_df = pd.read_csv(join(DATASETS_FOLDER, TWEETS_DATASET))\n",
    "\n",
    "# showing the tweets\n",
    "tweets_df.head()"
   ]
  },
  {
   "cell_type": "markdown",
   "id": "6caa1354-cd24-4701-92f0-4e4d80d92fa6",
   "metadata": {},
   "source": [
    "This dataset was stored in the output folder to be used by other notebooks."
   ]
  },
  {
   "cell_type": "code",
   "execution_count": null,
   "id": "4647a5da-0cbd-40fe-959a-424113ba67a4",
   "metadata": {},
   "outputs": [],
   "source": [
    "# creating a csv file in the output folder for the tweets dataset\n",
    "tweets_df.to_csv(join(DATA_PREP_FOLDER, TWEETS_DATASET), index=False)"
   ]
  }
 ],
 "metadata": {
  "kernelspec": {
   "display_name": "Python 3 (ipykernel)",
   "language": "python",
   "name": "python3"
  },
  "language_info": {
   "codemirror_mode": {
    "name": "ipython",
    "version": 3
   },
   "file_extension": ".py",
   "mimetype": "text/x-python",
   "name": "python",
   "nbconvert_exporter": "python",
   "pygments_lexer": "ipython3",
   "version": "3.9.12"
  }
 },
 "nbformat": 4,
 "nbformat_minor": 5
}
